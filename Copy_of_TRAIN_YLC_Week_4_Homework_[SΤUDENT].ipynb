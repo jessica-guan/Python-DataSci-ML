{
  "nbformat": 4,
  "nbformat_minor": 0,
  "metadata": {
    "colab": {
      "provenance": [],
      "include_colab_link": true
    },
    "kernelspec": {
      "name": "python3",
      "display_name": "Python 3"
    },
    "language_info": {
      "name": "python"
    }
  },
  "cells": [
    {
      "cell_type": "markdown",
      "metadata": {
        "id": "view-in-github",
        "colab_type": "text"
      },
      "source": [
        "<a href=\"https://colab.research.google.com/github/jessica-guan/TRAIN-Notebooks/blob/main/Copy_of_TRAIN_YLC_Week_4_Homework_%5BS%CE%A4UDENT%5D.ipynb\" target=\"_parent\"><img src=\"https://colab.research.google.com/assets/colab-badge.svg\" alt=\"Open In Colab\"/></a>"
      ]
    },
    {
      "cell_type": "markdown",
      "source": [
        "# **Homework 4: Exploratory Data Analysis**\n",
        "---\n",
        "\n",
        "### **Description**\n",
        "In this homework notebook, you will hone your data manipulation and exploration skills using Python's Pandas library. Using an NBA dataset that includes various metrics for basketball players, you will perform a range of tasks—from basic operations to more advanced data manipulation techniques.\n",
        "\n",
        "<br>\n",
        "\n",
        "### **Lab Structure**\n",
        "* **Part 1**: [Reading Datasets](#p1)\n",
        "\n",
        "* **Part 2**: [Exploring Datasets](#p2)\n",
        "\n",
        "* **Part 3**: [Most Common and Unique Values](#p3)\n",
        "\n",
        "* **Part 4**: [Working with Rows and Columns](#p4)\n",
        "\n",
        "* **Part 5**: [Exploring the Mean, Median, and Sum](#p5)\n",
        "\n",
        "\n",
        "<br>\n",
        "\n",
        "### **Learning Objectives**\n",
        " By the end of this lab, we will:\n",
        "* Recognize what pandas is and why we're using it.\n",
        "* Recognize what a DataFrame object is.\n",
        "* Recognize basic DataFrame commands.\n",
        "\n",
        "\n",
        "<br>\n",
        "\n",
        "\n",
        "### **Resources**\n",
        "* [Python basics Cheat Sheet](https://docs.google.com/document/d/1bMqW8SKR6xC0-d1f0hb-DnYPJ0CyszjiwPCovAl9TLc/edit)\n",
        "\n",
        "* [EDA with pandas Cheat Sheet](https://docs.google.com/document/d/1xnKJsii1AsRH2t22XtrAh7FzSFGqAR0hAmW4oLYM4MI/edit)\n",
        "\n",
        "<br>\n",
        "\n",
        "**Before starting, run the code below to import all necessary functions and libraries.**\n"
      ],
      "metadata": {
        "id": "VmbS0drqZVLW"
      }
    },
    {
      "cell_type": "code",
      "source": [
        "!pip install scikit-learn\n",
        "import pandas as pd\n",
        "from sklearn import datasets"
      ],
      "metadata": {
        "id": "dw6gI95Veo1E",
        "colab": {
          "base_uri": "https://localhost:8080/"
        },
        "outputId": "404bde20-d66c-45c3-c904-15fafc04edc7"
      },
      "execution_count": null,
      "outputs": [
        {
          "output_type": "stream",
          "name": "stdout",
          "text": [
            "Requirement already satisfied: scikit-learn in /usr/local/lib/python3.10/dist-packages (1.2.2)\n",
            "Requirement already satisfied: numpy>=1.17.3 in /usr/local/lib/python3.10/dist-packages (from scikit-learn) (1.23.5)\n",
            "Requirement already satisfied: scipy>=1.3.2 in /usr/local/lib/python3.10/dist-packages (from scikit-learn) (1.11.3)\n",
            "Requirement already satisfied: joblib>=1.1.1 in /usr/local/lib/python3.10/dist-packages (from scikit-learn) (1.3.2)\n",
            "Requirement already satisfied: threadpoolctl>=2.0.0 in /usr/local/lib/python3.10/dist-packages (from scikit-learn) (3.2.0)\n"
          ]
        }
      ]
    },
    {
      "cell_type": "markdown",
      "source": [
        "<a name=\"p1\"></a>\n",
        "\n",
        "---\n",
        "## **Part 1: Reading Datasets**\n",
        "---"
      ],
      "metadata": {
        "id": "MtJWywyoBLu0"
      }
    },
    {
      "cell_type": "markdown",
      "source": [
        "#### **Problem #1.1**\n",
        "This dataset contains historical statistics for NBA (National Basketball Association) players, sourced from Basketball-Reference.com. The data includes a wide range of metrics from basic statistics like games played and minutes played to more advanced statistics like player efficiency ratings. While the dataset is rich and detailed, we are only focusing on a subset of the available columns to introduce you to the basics of data exploration and manipulation.\n",
        "\n",
        "<br>\n",
        "\n",
        "**Even if you're not familiar with basketball, understanding the data columns should still be relatively straightforward. Here's what each column we're using means:**\n",
        "\n",
        "- `player_id`: A unique ID assigned by Basketball-Reference.com to each player.\n",
        "\n",
        "- `name_common`: The name of the basketball player.\n",
        "\n",
        "- `year_id`: This refers to the NBA season year. For example, the 2019-2020 NBA season would be represented as \"2000\".\n",
        "\n",
        "- `age`: The age of the player as of February 1 of that season.\n",
        "\n",
        "- `team_id`: The abbreviation for the team that the player played for during that season. Each NBA team has a unique abbreviation, like 'LAL' for the Los Angeles Lakers.\n",
        "\n",
        "- `G`: Games Played - The number of games the player participated in during that season.\n",
        "\n",
        "- `Min`: Minutes Played - The total number of minutes the player was on the court during the season.\n",
        "\n",
        "- `MPG`: Minutes Per Game - This is the average number of minutes the player was on the court per game during the season. It's calculated as Min divided by G.\n",
        "\n",
        "- `FT%`: Free Throw Percentage - This is the percentage of free throws the player made successfully. A free throw is an opportunity given to a player to score one point, unopposed, from a position 15 feet from the basket. It's calculated as Free Throws Made divided by Free Throws Attempted.\n",
        "\n",
        "<br>\n",
        "\n",
        "**Run the code cell below to load the data.**"
      ],
      "metadata": {
        "id": "h_NRIrDIbSvY"
      }
    },
    {
      "cell_type": "code",
      "source": [
        "url = 'https://raw.githubusercontent.com/fivethirtyeight/nba-player-advanced-metrics/master/nba-data-historical.csv'\n",
        "nba_df = pd.read_csv(url)\n",
        "nba_df = nba_df[['player_id', 'name_common', 'year_id', 'age', 'team_id', 'G', 'Min', 'MPG', 'FT%']]\n",
        "nba_df = nba_df.dropna()\n",
        "nba_df"
      ],
      "metadata": {
        "id": "wb3_Qc6cYKlg",
        "colab": {
          "base_uri": "https://localhost:8080/",
          "height": 424
        },
        "outputId": "927bd25c-8519-4aea-9730-6836f8e1e09d"
      },
      "execution_count": null,
      "outputs": [
        {
          "output_type": "execute_result",
          "data": {
            "text/plain": [
              "       player_id        name_common  year_id  age team_id   G   Min   MPG  \\\n",
              "808    youngtr01         Trae Young     2019   20     ATL  81  2503  30.9   \n",
              "809    huertke01      Kevin Huerter     2019   20     ATL  75  2048  27.3   \n",
              "810    bembrde01    DeAndre' Bembry     2019   24     ATL  82  1931  23.5   \n",
              "811    collijo01       John Collins     2019   21     ATL  61  1829  30.0   \n",
              "812    bazemke01      Kent Bazemore     2019   29     ATL  67  1643  24.5   \n",
              "...          ...                ...      ...  ...     ...  ..   ...   ...   \n",
              "28163  weissbo01          Bob Weiss     1977   34     WSB  62   768  12.4   \n",
              "28164  riordmi01       Mike Riordan     1977   31     WSB  49   289   5.9   \n",
              "28165  weathni01  Nick Weatherspoon     1977   26     WSB  11   152  13.8   \n",
              "28166   pacejo01           Joe Pace     1977   23     WSB  30   119   4.0   \n",
              "28167  jonesji01        Jimmy Jones     1977   32     WSB   3    33  11.0   \n",
              "\n",
              "        FT%  \n",
              "808    82.9  \n",
              "809    73.2  \n",
              "810    64.0  \n",
              "811    76.3  \n",
              "812    72.6  \n",
              "...     ...  \n",
              "28163  78.4  \n",
              "28164  73.3  \n",
              "28165  62.5  \n",
              "28166  55.2  \n",
              "28167  50.0  \n",
              "\n",
              "[19489 rows x 9 columns]"
            ],
            "text/html": [
              "\n",
              "  <div id=\"df-e41bb5ab-798a-4584-87fc-c7b6b3d10dd5\" class=\"colab-df-container\">\n",
              "    <div>\n",
              "<style scoped>\n",
              "    .dataframe tbody tr th:only-of-type {\n",
              "        vertical-align: middle;\n",
              "    }\n",
              "\n",
              "    .dataframe tbody tr th {\n",
              "        vertical-align: top;\n",
              "    }\n",
              "\n",
              "    .dataframe thead th {\n",
              "        text-align: right;\n",
              "    }\n",
              "</style>\n",
              "<table border=\"1\" class=\"dataframe\">\n",
              "  <thead>\n",
              "    <tr style=\"text-align: right;\">\n",
              "      <th></th>\n",
              "      <th>player_id</th>\n",
              "      <th>name_common</th>\n",
              "      <th>year_id</th>\n",
              "      <th>age</th>\n",
              "      <th>team_id</th>\n",
              "      <th>G</th>\n",
              "      <th>Min</th>\n",
              "      <th>MPG</th>\n",
              "      <th>FT%</th>\n",
              "    </tr>\n",
              "  </thead>\n",
              "  <tbody>\n",
              "    <tr>\n",
              "      <th>808</th>\n",
              "      <td>youngtr01</td>\n",
              "      <td>Trae Young</td>\n",
              "      <td>2019</td>\n",
              "      <td>20</td>\n",
              "      <td>ATL</td>\n",
              "      <td>81</td>\n",
              "      <td>2503</td>\n",
              "      <td>30.9</td>\n",
              "      <td>82.9</td>\n",
              "    </tr>\n",
              "    <tr>\n",
              "      <th>809</th>\n",
              "      <td>huertke01</td>\n",
              "      <td>Kevin Huerter</td>\n",
              "      <td>2019</td>\n",
              "      <td>20</td>\n",
              "      <td>ATL</td>\n",
              "      <td>75</td>\n",
              "      <td>2048</td>\n",
              "      <td>27.3</td>\n",
              "      <td>73.2</td>\n",
              "    </tr>\n",
              "    <tr>\n",
              "      <th>810</th>\n",
              "      <td>bembrde01</td>\n",
              "      <td>DeAndre' Bembry</td>\n",
              "      <td>2019</td>\n",
              "      <td>24</td>\n",
              "      <td>ATL</td>\n",
              "      <td>82</td>\n",
              "      <td>1931</td>\n",
              "      <td>23.5</td>\n",
              "      <td>64.0</td>\n",
              "    </tr>\n",
              "    <tr>\n",
              "      <th>811</th>\n",
              "      <td>collijo01</td>\n",
              "      <td>John Collins</td>\n",
              "      <td>2019</td>\n",
              "      <td>21</td>\n",
              "      <td>ATL</td>\n",
              "      <td>61</td>\n",
              "      <td>1829</td>\n",
              "      <td>30.0</td>\n",
              "      <td>76.3</td>\n",
              "    </tr>\n",
              "    <tr>\n",
              "      <th>812</th>\n",
              "      <td>bazemke01</td>\n",
              "      <td>Kent Bazemore</td>\n",
              "      <td>2019</td>\n",
              "      <td>29</td>\n",
              "      <td>ATL</td>\n",
              "      <td>67</td>\n",
              "      <td>1643</td>\n",
              "      <td>24.5</td>\n",
              "      <td>72.6</td>\n",
              "    </tr>\n",
              "    <tr>\n",
              "      <th>...</th>\n",
              "      <td>...</td>\n",
              "      <td>...</td>\n",
              "      <td>...</td>\n",
              "      <td>...</td>\n",
              "      <td>...</td>\n",
              "      <td>...</td>\n",
              "      <td>...</td>\n",
              "      <td>...</td>\n",
              "      <td>...</td>\n",
              "    </tr>\n",
              "    <tr>\n",
              "      <th>28163</th>\n",
              "      <td>weissbo01</td>\n",
              "      <td>Bob Weiss</td>\n",
              "      <td>1977</td>\n",
              "      <td>34</td>\n",
              "      <td>WSB</td>\n",
              "      <td>62</td>\n",
              "      <td>768</td>\n",
              "      <td>12.4</td>\n",
              "      <td>78.4</td>\n",
              "    </tr>\n",
              "    <tr>\n",
              "      <th>28164</th>\n",
              "      <td>riordmi01</td>\n",
              "      <td>Mike Riordan</td>\n",
              "      <td>1977</td>\n",
              "      <td>31</td>\n",
              "      <td>WSB</td>\n",
              "      <td>49</td>\n",
              "      <td>289</td>\n",
              "      <td>5.9</td>\n",
              "      <td>73.3</td>\n",
              "    </tr>\n",
              "    <tr>\n",
              "      <th>28165</th>\n",
              "      <td>weathni01</td>\n",
              "      <td>Nick Weatherspoon</td>\n",
              "      <td>1977</td>\n",
              "      <td>26</td>\n",
              "      <td>WSB</td>\n",
              "      <td>11</td>\n",
              "      <td>152</td>\n",
              "      <td>13.8</td>\n",
              "      <td>62.5</td>\n",
              "    </tr>\n",
              "    <tr>\n",
              "      <th>28166</th>\n",
              "      <td>pacejo01</td>\n",
              "      <td>Joe Pace</td>\n",
              "      <td>1977</td>\n",
              "      <td>23</td>\n",
              "      <td>WSB</td>\n",
              "      <td>30</td>\n",
              "      <td>119</td>\n",
              "      <td>4.0</td>\n",
              "      <td>55.2</td>\n",
              "    </tr>\n",
              "    <tr>\n",
              "      <th>28167</th>\n",
              "      <td>jonesji01</td>\n",
              "      <td>Jimmy Jones</td>\n",
              "      <td>1977</td>\n",
              "      <td>32</td>\n",
              "      <td>WSB</td>\n",
              "      <td>3</td>\n",
              "      <td>33</td>\n",
              "      <td>11.0</td>\n",
              "      <td>50.0</td>\n",
              "    </tr>\n",
              "  </tbody>\n",
              "</table>\n",
              "<p>19489 rows × 9 columns</p>\n",
              "</div>\n",
              "    <div class=\"colab-df-buttons\">\n",
              "\n",
              "  <div class=\"colab-df-container\">\n",
              "    <button class=\"colab-df-convert\" onclick=\"convertToInteractive('df-e41bb5ab-798a-4584-87fc-c7b6b3d10dd5')\"\n",
              "            title=\"Convert this dataframe to an interactive table.\"\n",
              "            style=\"display:none;\">\n",
              "\n",
              "  <svg xmlns=\"http://www.w3.org/2000/svg\" height=\"24px\" viewBox=\"0 -960 960 960\">\n",
              "    <path d=\"M120-120v-720h720v720H120Zm60-500h600v-160H180v160Zm220 220h160v-160H400v160Zm0 220h160v-160H400v160ZM180-400h160v-160H180v160Zm440 0h160v-160H620v160ZM180-180h160v-160H180v160Zm440 0h160v-160H620v160Z\"/>\n",
              "  </svg>\n",
              "    </button>\n",
              "\n",
              "  <style>\n",
              "    .colab-df-container {\n",
              "      display:flex;\n",
              "      gap: 12px;\n",
              "    }\n",
              "\n",
              "    .colab-df-convert {\n",
              "      background-color: #E8F0FE;\n",
              "      border: none;\n",
              "      border-radius: 50%;\n",
              "      cursor: pointer;\n",
              "      display: none;\n",
              "      fill: #1967D2;\n",
              "      height: 32px;\n",
              "      padding: 0 0 0 0;\n",
              "      width: 32px;\n",
              "    }\n",
              "\n",
              "    .colab-df-convert:hover {\n",
              "      background-color: #E2EBFA;\n",
              "      box-shadow: 0px 1px 2px rgba(60, 64, 67, 0.3), 0px 1px 3px 1px rgba(60, 64, 67, 0.15);\n",
              "      fill: #174EA6;\n",
              "    }\n",
              "\n",
              "    .colab-df-buttons div {\n",
              "      margin-bottom: 4px;\n",
              "    }\n",
              "\n",
              "    [theme=dark] .colab-df-convert {\n",
              "      background-color: #3B4455;\n",
              "      fill: #D2E3FC;\n",
              "    }\n",
              "\n",
              "    [theme=dark] .colab-df-convert:hover {\n",
              "      background-color: #434B5C;\n",
              "      box-shadow: 0px 1px 3px 1px rgba(0, 0, 0, 0.15);\n",
              "      filter: drop-shadow(0px 1px 2px rgba(0, 0, 0, 0.3));\n",
              "      fill: #FFFFFF;\n",
              "    }\n",
              "  </style>\n",
              "\n",
              "    <script>\n",
              "      const buttonEl =\n",
              "        document.querySelector('#df-e41bb5ab-798a-4584-87fc-c7b6b3d10dd5 button.colab-df-convert');\n",
              "      buttonEl.style.display =\n",
              "        google.colab.kernel.accessAllowed ? 'block' : 'none';\n",
              "\n",
              "      async function convertToInteractive(key) {\n",
              "        const element = document.querySelector('#df-e41bb5ab-798a-4584-87fc-c7b6b3d10dd5');\n",
              "        const dataTable =\n",
              "          await google.colab.kernel.invokeFunction('convertToInteractive',\n",
              "                                                    [key], {});\n",
              "        if (!dataTable) return;\n",
              "\n",
              "        const docLinkHtml = 'Like what you see? Visit the ' +\n",
              "          '<a target=\"_blank\" href=https://colab.research.google.com/notebooks/data_table.ipynb>data table notebook</a>'\n",
              "          + ' to learn more about interactive tables.';\n",
              "        element.innerHTML = '';\n",
              "        dataTable['output_type'] = 'display_data';\n",
              "        await google.colab.output.renderOutput(dataTable, element);\n",
              "        const docLink = document.createElement('div');\n",
              "        docLink.innerHTML = docLinkHtml;\n",
              "        element.appendChild(docLink);\n",
              "      }\n",
              "    </script>\n",
              "  </div>\n",
              "\n",
              "\n",
              "<div id=\"df-666b7842-3c08-4f2e-9d18-4171ae67d705\">\n",
              "  <button class=\"colab-df-quickchart\" onclick=\"quickchart('df-666b7842-3c08-4f2e-9d18-4171ae67d705')\"\n",
              "            title=\"Suggest charts.\"\n",
              "            style=\"display:none;\">\n",
              "\n",
              "<svg xmlns=\"http://www.w3.org/2000/svg\" height=\"24px\"viewBox=\"0 0 24 24\"\n",
              "     width=\"24px\">\n",
              "    <g>\n",
              "        <path d=\"M19 3H5c-1.1 0-2 .9-2 2v14c0 1.1.9 2 2 2h14c1.1 0 2-.9 2-2V5c0-1.1-.9-2-2-2zM9 17H7v-7h2v7zm4 0h-2V7h2v10zm4 0h-2v-4h2v4z\"/>\n",
              "    </g>\n",
              "</svg>\n",
              "  </button>\n",
              "\n",
              "<style>\n",
              "  .colab-df-quickchart {\n",
              "      --bg-color: #E8F0FE;\n",
              "      --fill-color: #1967D2;\n",
              "      --hover-bg-color: #E2EBFA;\n",
              "      --hover-fill-color: #174EA6;\n",
              "      --disabled-fill-color: #AAA;\n",
              "      --disabled-bg-color: #DDD;\n",
              "  }\n",
              "\n",
              "  [theme=dark] .colab-df-quickchart {\n",
              "      --bg-color: #3B4455;\n",
              "      --fill-color: #D2E3FC;\n",
              "      --hover-bg-color: #434B5C;\n",
              "      --hover-fill-color: #FFFFFF;\n",
              "      --disabled-bg-color: #3B4455;\n",
              "      --disabled-fill-color: #666;\n",
              "  }\n",
              "\n",
              "  .colab-df-quickchart {\n",
              "    background-color: var(--bg-color);\n",
              "    border: none;\n",
              "    border-radius: 50%;\n",
              "    cursor: pointer;\n",
              "    display: none;\n",
              "    fill: var(--fill-color);\n",
              "    height: 32px;\n",
              "    padding: 0;\n",
              "    width: 32px;\n",
              "  }\n",
              "\n",
              "  .colab-df-quickchart:hover {\n",
              "    background-color: var(--hover-bg-color);\n",
              "    box-shadow: 0 1px 2px rgba(60, 64, 67, 0.3), 0 1px 3px 1px rgba(60, 64, 67, 0.15);\n",
              "    fill: var(--button-hover-fill-color);\n",
              "  }\n",
              "\n",
              "  .colab-df-quickchart-complete:disabled,\n",
              "  .colab-df-quickchart-complete:disabled:hover {\n",
              "    background-color: var(--disabled-bg-color);\n",
              "    fill: var(--disabled-fill-color);\n",
              "    box-shadow: none;\n",
              "  }\n",
              "\n",
              "  .colab-df-spinner {\n",
              "    border: 2px solid var(--fill-color);\n",
              "    border-color: transparent;\n",
              "    border-bottom-color: var(--fill-color);\n",
              "    animation:\n",
              "      spin 1s steps(1) infinite;\n",
              "  }\n",
              "\n",
              "  @keyframes spin {\n",
              "    0% {\n",
              "      border-color: transparent;\n",
              "      border-bottom-color: var(--fill-color);\n",
              "      border-left-color: var(--fill-color);\n",
              "    }\n",
              "    20% {\n",
              "      border-color: transparent;\n",
              "      border-left-color: var(--fill-color);\n",
              "      border-top-color: var(--fill-color);\n",
              "    }\n",
              "    30% {\n",
              "      border-color: transparent;\n",
              "      border-left-color: var(--fill-color);\n",
              "      border-top-color: var(--fill-color);\n",
              "      border-right-color: var(--fill-color);\n",
              "    }\n",
              "    40% {\n",
              "      border-color: transparent;\n",
              "      border-right-color: var(--fill-color);\n",
              "      border-top-color: var(--fill-color);\n",
              "    }\n",
              "    60% {\n",
              "      border-color: transparent;\n",
              "      border-right-color: var(--fill-color);\n",
              "    }\n",
              "    80% {\n",
              "      border-color: transparent;\n",
              "      border-right-color: var(--fill-color);\n",
              "      border-bottom-color: var(--fill-color);\n",
              "    }\n",
              "    90% {\n",
              "      border-color: transparent;\n",
              "      border-bottom-color: var(--fill-color);\n",
              "    }\n",
              "  }\n",
              "</style>\n",
              "\n",
              "  <script>\n",
              "    async function quickchart(key) {\n",
              "      const quickchartButtonEl =\n",
              "        document.querySelector('#' + key + ' button');\n",
              "      quickchartButtonEl.disabled = true;  // To prevent multiple clicks.\n",
              "      quickchartButtonEl.classList.add('colab-df-spinner');\n",
              "      try {\n",
              "        const charts = await google.colab.kernel.invokeFunction(\n",
              "            'suggestCharts', [key], {});\n",
              "      } catch (error) {\n",
              "        console.error('Error during call to suggestCharts:', error);\n",
              "      }\n",
              "      quickchartButtonEl.classList.remove('colab-df-spinner');\n",
              "      quickchartButtonEl.classList.add('colab-df-quickchart-complete');\n",
              "    }\n",
              "    (() => {\n",
              "      let quickchartButtonEl =\n",
              "        document.querySelector('#df-666b7842-3c08-4f2e-9d18-4171ae67d705 button');\n",
              "      quickchartButtonEl.style.display =\n",
              "        google.colab.kernel.accessAllowed ? 'block' : 'none';\n",
              "    })();\n",
              "  </script>\n",
              "</div>\n",
              "    </div>\n",
              "  </div>\n"
            ]
          },
          "metadata": {},
          "execution_count": 2
        }
      ]
    },
    {
      "cell_type": "markdown",
      "source": [
        "<a name=\"p2\"></a>\n",
        "\n",
        "---\n",
        "## **Part 2: Exploring Datasets**\n",
        "---"
      ],
      "metadata": {
        "id": "ikcUW1sva8x9"
      }
    },
    {
      "cell_type": "markdown",
      "source": [
        "#### **Problem #2.1**\n",
        "\n",
        "How many players are included in this dataset?"
      ],
      "metadata": {
        "id": "EK8-JqbcbCHl"
      }
    },
    {
      "cell_type": "code",
      "source": [
        "nba_df.shape[0]"
      ],
      "metadata": {
        "id": "16HvV8bWWkmH",
        "colab": {
          "base_uri": "https://localhost:8080/"
        },
        "outputId": "a41f0ba7-2dec-40c3-9f17-f131b523ae54"
      },
      "execution_count": null,
      "outputs": [
        {
          "output_type": "execute_result",
          "data": {
            "text/plain": [
              "19489"
            ]
          },
          "metadata": {},
          "execution_count": 5
        }
      ]
    },
    {
      "cell_type": "markdown",
      "source": [
        "#### **Problem #2.2**\n",
        "\n",
        "How many columns are in this DataFrame?"
      ],
      "metadata": {
        "id": "HJbfXrekN8yc"
      }
    },
    {
      "cell_type": "code",
      "source": [
        "nba_df.shape[1]"
      ],
      "metadata": {
        "id": "OUnehY1YWsM9",
        "colab": {
          "base_uri": "https://localhost:8080/"
        },
        "outputId": "7febc043-56c9-4fb6-8c52-59fd526e7c78"
      },
      "execution_count": null,
      "outputs": [
        {
          "output_type": "execute_result",
          "data": {
            "text/plain": [
              "9"
            ]
          },
          "metadata": {},
          "execution_count": 52
        }
      ]
    },
    {
      "cell_type": "markdown",
      "source": [
        "#### **Problem #2.3**\n",
        "How many columns contain numerical data?"
      ],
      "metadata": {
        "id": "Pg3sQ2OfA8ui"
      }
    },
    {
      "cell_type": "code",
      "source": [
        "nba_df.select_dtypes(include=['int']).shape[1]"
      ],
      "metadata": {
        "id": "ClxS2yn4A1iD",
        "colab": {
          "base_uri": "https://localhost:8080/"
        },
        "outputId": "4ec44d64-3023-4622-ed9d-5bfb0edeec70"
      },
      "execution_count": null,
      "outputs": [
        {
          "output_type": "execute_result",
          "data": {
            "text/plain": [
              "4"
            ]
          },
          "metadata": {},
          "execution_count": 36
        }
      ]
    },
    {
      "cell_type": "markdown",
      "source": [
        "<a name=\"p3\"></a>\n",
        "\n",
        "---\n",
        "## **Part 3: Most Common and Unique Values**\n",
        "---"
      ],
      "metadata": {
        "id": "1q6yRHhncn7w"
      }
    },
    {
      "cell_type": "markdown",
      "source": [
        "#### **Problem #3.1**\n",
        "\n",
        "How many different NBA teams (`team_id`) are included in the dataset?"
      ],
      "metadata": {
        "id": "77JnvO9BnTN3"
      }
    },
    {
      "cell_type": "code",
      "source": [
        "nba_df['team_id'].nunique()"
      ],
      "metadata": {
        "id": "-_NYkYUweniZ",
        "colab": {
          "base_uri": "https://localhost:8080/"
        },
        "outputId": "13371b80-4c87-46e9-9641-50c2c600339b"
      },
      "execution_count": null,
      "outputs": [
        {
          "output_type": "execute_result",
          "data": {
            "text/plain": [
              "42"
            ]
          },
          "metadata": {},
          "execution_count": 11
        }
      ]
    },
    {
      "cell_type": "markdown",
      "source": [
        "#### **Problem #3.2**\n",
        "\n",
        "What is the most common `age` among all players in the dataset?"
      ],
      "metadata": {
        "id": "GsDVjvO6SGh6"
      }
    },
    {
      "cell_type": "code",
      "source": [
        "nba_df['age'].mode()[0]\n",
        "nba_df['age'].value_counts().index[1]"
      ],
      "metadata": {
        "id": "DZPNkhZUW5Ez",
        "colab": {
          "base_uri": "https://localhost:8080/"
        },
        "outputId": "9aa154fa-fc66-4991-a500-1ea0dea4c08c"
      },
      "execution_count": null,
      "outputs": [
        {
          "output_type": "execute_result",
          "data": {
            "text/plain": [
              "24"
            ]
          },
          "metadata": {},
          "execution_count": 38
        }
      ]
    },
    {
      "cell_type": "markdown",
      "source": [
        "<a name=\"p4\"></a>\n",
        "\n",
        "---\n",
        "## **Part 4: Working with Rows and Columns**\n",
        "---\n",
        "\n"
      ],
      "metadata": {
        "id": "UgtgfqyrFSg1"
      }
    },
    {
      "cell_type": "markdown",
      "source": [
        "\n",
        "#### **Problem #4.1**\n",
        "\n",
        "Complete the code below to output players above the age of 35."
      ],
      "metadata": {
        "id": "couZDunkSeak"
      }
    },
    {
      "cell_type": "code",
      "source": [
        "older_players = nba_df[nba_df['age'] >= 35]\n",
        "older_players['player_id']\n",
        "older_players.shape[0]"
      ],
      "metadata": {
        "id": "Se6D0w6LW54G",
        "colab": {
          "base_uri": "https://localhost:8080/"
        },
        "outputId": "501bad19-2377-4719-afdb-8f82b5a8ff8c"
      },
      "execution_count": null,
      "outputs": [
        {
          "output_type": "execute_result",
          "data": {
            "text/plain": [
              "804"
            ]
          },
          "metadata": {},
          "execution_count": 32
        }
      ]
    },
    {
      "cell_type": "markdown",
      "source": [
        "\n",
        "#### **Problem #4.2**\n",
        "\n",
        "Extract the following columns: `player_id`, `age`, `FT%`"
      ],
      "metadata": {
        "id": "XaTxOHsYgNSh"
      }
    },
    {
      "cell_type": "code",
      "source": [
        "selected_columns = nba_df[['player_id', 'age', 'FT%']]"
      ],
      "metadata": {
        "id": "u6jV7AGGgNSu"
      },
      "execution_count": null,
      "outputs": []
    },
    {
      "cell_type": "markdown",
      "source": [
        "####**Problem #4.3**\n",
        "Identify players with a Free-Throw Percentage (`FT%`) greater than 90%."
      ],
      "metadata": {
        "id": "krQia8EmhIJV"
      }
    },
    {
      "cell_type": "code",
      "source": [
        "nba_df[nba_df['FT%'] > 90].shape[0]"
      ],
      "metadata": {
        "id": "TLW-g1CKhN6p",
        "colab": {
          "base_uri": "https://localhost:8080/"
        },
        "outputId": "2efd976e-dca0-465e-e003-0782c04a1d64"
      },
      "execution_count": null,
      "outputs": [
        {
          "output_type": "execute_result",
          "data": {
            "text/plain": [
              "967"
            ]
          },
          "metadata": {},
          "execution_count": 47
        }
      ]
    },
    {
      "cell_type": "markdown",
      "source": [
        "<a name=\"p5\"></a>\n",
        "\n",
        "---\n",
        "## **Part 5: Exploring the Mean, Median and Sum**\n",
        "---\n"
      ],
      "metadata": {
        "id": "ivRt-96jWOKR"
      }
    },
    {
      "cell_type": "markdown",
      "source": [
        "#### **Problem #5.1**\n",
        "\n",
        "What is the average age of the players in the dataset?"
      ],
      "metadata": {
        "id": "kxwtlLHyNhrB"
      }
    },
    {
      "cell_type": "code",
      "source": [
        "nba_df['age'].mean()\n",
        "nba_df['age'].median()"
      ],
      "metadata": {
        "id": "9-nz9ZShW0zz",
        "colab": {
          "base_uri": "https://localhost:8080/"
        },
        "outputId": "f48bbaf1-8dcf-4cad-a2ea-15712e7dd7fd"
      },
      "execution_count": null,
      "outputs": [
        {
          "output_type": "execute_result",
          "data": {
            "text/plain": [
              "26.0"
            ]
          },
          "metadata": {},
          "execution_count": 34
        }
      ]
    },
    {
      "cell_type": "markdown",
      "source": [
        "#### **Problem #5.2**\n",
        "\n",
        "What is the median value for the Minutes Per Game (`MPG`) across all players?"
      ],
      "metadata": {
        "id": "qZqrU6FcRQ98"
      }
    },
    {
      "cell_type": "code",
      "source": [
        "nba_df['MPG'].median()\n",
        "nba_df['MPG'].mean()"
      ],
      "metadata": {
        "id": "uVVufieQW2AO",
        "colab": {
          "base_uri": "https://localhost:8080/"
        },
        "outputId": "5efc1ee9-a594-4a68-d5fd-83a7d934c257"
      },
      "execution_count": null,
      "outputs": [
        {
          "output_type": "execute_result",
          "data": {
            "text/plain": [
              "20.15706295859203"
            ]
          },
          "metadata": {},
          "execution_count": 35
        }
      ]
    },
    {
      "cell_type": "markdown",
      "source": [
        "#### **Problem #5.3**\n",
        "\n",
        "Calculate the sum of minutes played (`Min`) for all players in the dataset."
      ],
      "metadata": {
        "id": "yAjh84sLRuFi"
      }
    },
    {
      "cell_type": "code",
      "source": [
        "nba_df['Min'].sum()"
      ],
      "metadata": {
        "id": "okvfvdkIW3w0",
        "colab": {
          "base_uri": "https://localhost:8080/"
        },
        "outputId": "1ed1214f-a55c-42c9-b183-fbc5059275f3"
      },
      "execution_count": null,
      "outputs": [
        {
          "output_type": "execute_result",
          "data": {
            "text/plain": [
              "22847833"
            ]
          },
          "metadata": {},
          "execution_count": 22
        }
      ]
    },
    {
      "cell_type": "markdown",
      "source": [
        "---\n",
        "\n",
        "# End of Notebook\n",
        "\n",
        "© 2023 The Coding School, All rights reserved"
      ],
      "metadata": {
        "id": "cHIhIJoEDnig"
      }
    }
  ]
}