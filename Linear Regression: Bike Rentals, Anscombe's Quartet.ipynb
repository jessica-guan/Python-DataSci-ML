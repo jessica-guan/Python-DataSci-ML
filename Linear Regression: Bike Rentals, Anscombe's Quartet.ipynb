{
  "nbformat": 4,
  "nbformat_minor": 0,
  "metadata": {
    "colab": {
      "provenance": [],
      "include_colab_link": true
    },
    "kernelspec": {
      "name": "python3",
      "display_name": "Python 3"
    },
    "language_info": {
      "name": "python"
    }
  },
  "cells": [
    {
      "cell_type": "markdown",
      "metadata": {
        "id": "view-in-github",
        "colab_type": "text"
      },
      "source": [
        "<a href=\"https://colab.research.google.com/github/jessica-guan/TRAIN-Notebooks/blob/main/Copy_of_TRAIN_YLC_Week_7_Homework_Notebook_%5BSTUDENT%5D.ipynb\" target=\"_parent\"><img src=\"https://colab.research.google.com/assets/colab-badge.svg\" alt=\"Open In Colab\"/></a>"
      ]
    },
    {
      "cell_type": "markdown",
      "source": [
        "# **Homework 7: Linear Regression Part II**\n",
        "---\n",
        "\n",
        "### **Description**\n",
        "\n",
        "In this week's homework, we will continue honing your ability to build and evaluate linear regression models.\n",
        "\n",
        "<br>\n",
        "\n",
        "### **Structure**\n",
        "\n",
        "**Part 1**: [Bike Rental Dataset](#p1)\n",
        "\n",
        "**Part 2**: [Anscombe's Quartet](#p2)\n",
        "\n",
        "\n",
        "<br>\n",
        "\n",
        "### **Learning Objectives**\n",
        "\n",
        "By the end of this lab, you will:\n",
        "* Understand how to implement Linear Regression models with sklearn and access/interpret their parameters.\n",
        "\n",
        "* Recognize how to evaluate Linear Regression models in sklearn.\n",
        "\n",
        "<br>\n",
        "\n",
        "### **Resources**\n",
        "* [Linear Regression with sklearn Updated](https://docs.google.com/document/d/1DPUqouqGKeAYBfNBoHNsKRoQGXfD7mjUAvjjK0VsLbc/edit?usp=sharing)\n",
        "\n",
        "\n",
        "<br>\n",
        "\n",
        "**Run the code below before continuing.**"
      ],
      "metadata": {
        "id": "mbZXQ3rA3NwL"
      }
    },
    {
      "cell_type": "markdown",
      "source": [
        "<a name=\"p1\"></a>\n",
        "\n",
        "---\n",
        "## **Part 1: Bike Rental Dataset**\n",
        "---\n",
        "\n",
        "#### **About the Dataset**\n",
        "The Bike Sharing dataset contains information about hourly bike rental data spanning two years, provided by a bike-sharing system in Washington, D.C. The dataset includes factors such as weather, date, time, and user information.\n",
        "\n",
        "The features are as follows:\n",
        "* `instant`: A unique identifier for each record in the dataset.\n",
        "* `dteday`: The date of the bike rental in the format yyyy-mm-dd.\n",
        "* `season`: The season of the year (1: spring, 2: summer, 3: fall, 4: winter).\n",
        "* `yr`: The year (0: 2011, 1: 2012).\n",
        "* `mnth`: The month of the year (1 to 12).\n",
        "* `hr`: The hour of the day (0 to 23).\n",
        "* `holiday`: A binary indicator of whether it is a holiday or not (0: not a holiday, 1: holiday).\n",
        "* `weekday`: The day of the week (0: Sunday, 1: Monday, ..., 6: Saturday).\n",
        "* `workingday`: A binary indicator of whether it is a working day or not (0: weekend or holiday, 1: working day).\n",
        "* `weathersit`: The weather situation (1: clear, 2: misty/foggy, 3: light rain/snow, 4: heavy rain/snow).\n",
        "* `temp`: The temperature in Celsius.\n",
        "* `atemp`: The \"feels like\" temperature in Celsius.\n",
        "* `hum`: The humidity level.\n",
        "* `windspeed`: The wind speed.\n",
        "* `casual`: The count of casual bike rentals.\n",
        "* `registered`: The count of registered bike rentals.\n",
        "* `cnt`: The total count of bike rentals (casual + registered).\n",
        "\n",
        "#### **Your Task**\n",
        "Using the  dataset, you will do the following:\n",
        "* Build a model that can predict the total number of bike rentals.\n",
        "* Use a different subset of features to build another model to predict the total number of bike rentals and compare the results.\n",
        "* **NOTE**: For the sake of warming up, you *do not* have to consider the residuals at all in this part. Instead, you will just go straight to using the evaluation metrics.\n",
        "\n",
        "\n",
        "<br>\n",
        "\n",
        "**Run the code below before continuing.**"
      ],
      "metadata": {
        "id": "nAXXTiUVW_DM"
      }
    },
    {
      "cell_type": "code",
      "source": [
        "# Import required libraries\n",
        "import urllib.request\n",
        "import zipfile\n",
        "import pandas as pd\n",
        "\n",
        "# Download the zip file and extract the CSV file(s)\n",
        "url = \"https://archive.ics.uci.edu/ml/machine-learning-databases/00275/Bike-Sharing-Dataset.zip\"\n",
        "filename = \"Bike-Sharing-Dataset.zip\"\n",
        "urllib.request.urlretrieve(url, filename)\n",
        "with zipfile.ZipFile(filename, \"r\") as zip_ref:\n",
        "    zip_ref.extractall()\n",
        "\n",
        "# Read the CSV file(s) into Pandas dataframes\n",
        "hour_df = pd.read_csv(\"hour.csv\")\n",
        "day_df = pd.read_csv(\"day.csv\")\n",
        "\n",
        "# Combine the two dataframes into a single dataframe\n",
        "bikes_df = pd.concat([hour_df, day_df], ignore_index=True)\n",
        "\n",
        "# Save the combined dataframe to a CSV file\n",
        "bikes_df.to_csv(\"bike_sharing_total.csv\", index=False)\n",
        "\n",
        "bikes_df.head()"
      ],
      "metadata": {
        "id": "s6o5HDLbW_De",
        "colab": {
          "base_uri": "https://localhost:8080/",
          "height": 206
        },
        "outputId": "bb2a68ed-586d-43fb-bdc6-bd344d1e7c9f"
      },
      "execution_count": null,
      "outputs": [
        {
          "output_type": "execute_result",
          "data": {
            "text/plain": [
              "   instant      dteday  season  yr  mnth   hr  holiday  weekday  workingday  \\\n",
              "0        1  2011-01-01       1   0     1  0.0        0        6           0   \n",
              "1        2  2011-01-01       1   0     1  1.0        0        6           0   \n",
              "2        3  2011-01-01       1   0     1  2.0        0        6           0   \n",
              "3        4  2011-01-01       1   0     1  3.0        0        6           0   \n",
              "4        5  2011-01-01       1   0     1  4.0        0        6           0   \n",
              "\n",
              "   weathersit  temp   atemp   hum  windspeed  casual  registered  cnt  \n",
              "0           1  0.24  0.2879  0.81        0.0       3          13   16  \n",
              "1           1  0.22  0.2727  0.80        0.0       8          32   40  \n",
              "2           1  0.22  0.2727  0.80        0.0       5          27   32  \n",
              "3           1  0.24  0.2879  0.75        0.0       3          10   13  \n",
              "4           1  0.24  0.2879  0.75        0.0       0           1    1  "
            ],
            "text/html": [
              "\n",
              "  <div id=\"df-dfe48723-bb17-45f2-88df-c5dddbb08f85\" class=\"colab-df-container\">\n",
              "    <div>\n",
              "<style scoped>\n",
              "    .dataframe tbody tr th:only-of-type {\n",
              "        vertical-align: middle;\n",
              "    }\n",
              "\n",
              "    .dataframe tbody tr th {\n",
              "        vertical-align: top;\n",
              "    }\n",
              "\n",
              "    .dataframe thead th {\n",
              "        text-align: right;\n",
              "    }\n",
              "</style>\n",
              "<table border=\"1\" class=\"dataframe\">\n",
              "  <thead>\n",
              "    <tr style=\"text-align: right;\">\n",
              "      <th></th>\n",
              "      <th>instant</th>\n",
              "      <th>dteday</th>\n",
              "      <th>season</th>\n",
              "      <th>yr</th>\n",
              "      <th>mnth</th>\n",
              "      <th>hr</th>\n",
              "      <th>holiday</th>\n",
              "      <th>weekday</th>\n",
              "      <th>workingday</th>\n",
              "      <th>weathersit</th>\n",
              "      <th>temp</th>\n",
              "      <th>atemp</th>\n",
              "      <th>hum</th>\n",
              "      <th>windspeed</th>\n",
              "      <th>casual</th>\n",
              "      <th>registered</th>\n",
              "      <th>cnt</th>\n",
              "    </tr>\n",
              "  </thead>\n",
              "  <tbody>\n",
              "    <tr>\n",
              "      <th>0</th>\n",
              "      <td>1</td>\n",
              "      <td>2011-01-01</td>\n",
              "      <td>1</td>\n",
              "      <td>0</td>\n",
              "      <td>1</td>\n",
              "      <td>0.0</td>\n",
              "      <td>0</td>\n",
              "      <td>6</td>\n",
              "      <td>0</td>\n",
              "      <td>1</td>\n",
              "      <td>0.24</td>\n",
              "      <td>0.2879</td>\n",
              "      <td>0.81</td>\n",
              "      <td>0.0</td>\n",
              "      <td>3</td>\n",
              "      <td>13</td>\n",
              "      <td>16</td>\n",
              "    </tr>\n",
              "    <tr>\n",
              "      <th>1</th>\n",
              "      <td>2</td>\n",
              "      <td>2011-01-01</td>\n",
              "      <td>1</td>\n",
              "      <td>0</td>\n",
              "      <td>1</td>\n",
              "      <td>1.0</td>\n",
              "      <td>0</td>\n",
              "      <td>6</td>\n",
              "      <td>0</td>\n",
              "      <td>1</td>\n",
              "      <td>0.22</td>\n",
              "      <td>0.2727</td>\n",
              "      <td>0.80</td>\n",
              "      <td>0.0</td>\n",
              "      <td>8</td>\n",
              "      <td>32</td>\n",
              "      <td>40</td>\n",
              "    </tr>\n",
              "    <tr>\n",
              "      <th>2</th>\n",
              "      <td>3</td>\n",
              "      <td>2011-01-01</td>\n",
              "      <td>1</td>\n",
              "      <td>0</td>\n",
              "      <td>1</td>\n",
              "      <td>2.0</td>\n",
              "      <td>0</td>\n",
              "      <td>6</td>\n",
              "      <td>0</td>\n",
              "      <td>1</td>\n",
              "      <td>0.22</td>\n",
              "      <td>0.2727</td>\n",
              "      <td>0.80</td>\n",
              "      <td>0.0</td>\n",
              "      <td>5</td>\n",
              "      <td>27</td>\n",
              "      <td>32</td>\n",
              "    </tr>\n",
              "    <tr>\n",
              "      <th>3</th>\n",
              "      <td>4</td>\n",
              "      <td>2011-01-01</td>\n",
              "      <td>1</td>\n",
              "      <td>0</td>\n",
              "      <td>1</td>\n",
              "      <td>3.0</td>\n",
              "      <td>0</td>\n",
              "      <td>6</td>\n",
              "      <td>0</td>\n",
              "      <td>1</td>\n",
              "      <td>0.24</td>\n",
              "      <td>0.2879</td>\n",
              "      <td>0.75</td>\n",
              "      <td>0.0</td>\n",
              "      <td>3</td>\n",
              "      <td>10</td>\n",
              "      <td>13</td>\n",
              "    </tr>\n",
              "    <tr>\n",
              "      <th>4</th>\n",
              "      <td>5</td>\n",
              "      <td>2011-01-01</td>\n",
              "      <td>1</td>\n",
              "      <td>0</td>\n",
              "      <td>1</td>\n",
              "      <td>4.0</td>\n",
              "      <td>0</td>\n",
              "      <td>6</td>\n",
              "      <td>0</td>\n",
              "      <td>1</td>\n",
              "      <td>0.24</td>\n",
              "      <td>0.2879</td>\n",
              "      <td>0.75</td>\n",
              "      <td>0.0</td>\n",
              "      <td>0</td>\n",
              "      <td>1</td>\n",
              "      <td>1</td>\n",
              "    </tr>\n",
              "  </tbody>\n",
              "</table>\n",
              "</div>\n",
              "    <div class=\"colab-df-buttons\">\n",
              "\n",
              "  <div class=\"colab-df-container\">\n",
              "    <button class=\"colab-df-convert\" onclick=\"convertToInteractive('df-dfe48723-bb17-45f2-88df-c5dddbb08f85')\"\n",
              "            title=\"Convert this dataframe to an interactive table.\"\n",
              "            style=\"display:none;\">\n",
              "\n",
              "  <svg xmlns=\"http://www.w3.org/2000/svg\" height=\"24px\" viewBox=\"0 -960 960 960\">\n",
              "    <path d=\"M120-120v-720h720v720H120Zm60-500h600v-160H180v160Zm220 220h160v-160H400v160Zm0 220h160v-160H400v160ZM180-400h160v-160H180v160Zm440 0h160v-160H620v160ZM180-180h160v-160H180v160Zm440 0h160v-160H620v160Z\"/>\n",
              "  </svg>\n",
              "    </button>\n",
              "\n",
              "  <style>\n",
              "    .colab-df-container {\n",
              "      display:flex;\n",
              "      gap: 12px;\n",
              "    }\n",
              "\n",
              "    .colab-df-convert {\n",
              "      background-color: #E8F0FE;\n",
              "      border: none;\n",
              "      border-radius: 50%;\n",
              "      cursor: pointer;\n",
              "      display: none;\n",
              "      fill: #1967D2;\n",
              "      height: 32px;\n",
              "      padding: 0 0 0 0;\n",
              "      width: 32px;\n",
              "    }\n",
              "\n",
              "    .colab-df-convert:hover {\n",
              "      background-color: #E2EBFA;\n",
              "      box-shadow: 0px 1px 2px rgba(60, 64, 67, 0.3), 0px 1px 3px 1px rgba(60, 64, 67, 0.15);\n",
              "      fill: #174EA6;\n",
              "    }\n",
              "\n",
              "    .colab-df-buttons div {\n",
              "      margin-bottom: 4px;\n",
              "    }\n",
              "\n",
              "    [theme=dark] .colab-df-convert {\n",
              "      background-color: #3B4455;\n",
              "      fill: #D2E3FC;\n",
              "    }\n",
              "\n",
              "    [theme=dark] .colab-df-convert:hover {\n",
              "      background-color: #434B5C;\n",
              "      box-shadow: 0px 1px 3px 1px rgba(0, 0, 0, 0.15);\n",
              "      filter: drop-shadow(0px 1px 2px rgba(0, 0, 0, 0.3));\n",
              "      fill: #FFFFFF;\n",
              "    }\n",
              "  </style>\n",
              "\n",
              "    <script>\n",
              "      const buttonEl =\n",
              "        document.querySelector('#df-dfe48723-bb17-45f2-88df-c5dddbb08f85 button.colab-df-convert');\n",
              "      buttonEl.style.display =\n",
              "        google.colab.kernel.accessAllowed ? 'block' : 'none';\n",
              "\n",
              "      async function convertToInteractive(key) {\n",
              "        const element = document.querySelector('#df-dfe48723-bb17-45f2-88df-c5dddbb08f85');\n",
              "        const dataTable =\n",
              "          await google.colab.kernel.invokeFunction('convertToInteractive',\n",
              "                                                    [key], {});\n",
              "        if (!dataTable) return;\n",
              "\n",
              "        const docLinkHtml = 'Like what you see? Visit the ' +\n",
              "          '<a target=\"_blank\" href=https://colab.research.google.com/notebooks/data_table.ipynb>data table notebook</a>'\n",
              "          + ' to learn more about interactive tables.';\n",
              "        element.innerHTML = '';\n",
              "        dataTable['output_type'] = 'display_data';\n",
              "        await google.colab.output.renderOutput(dataTable, element);\n",
              "        const docLink = document.createElement('div');\n",
              "        docLink.innerHTML = docLinkHtml;\n",
              "        element.appendChild(docLink);\n",
              "      }\n",
              "    </script>\n",
              "  </div>\n",
              "\n",
              "\n",
              "<div id=\"df-f80991a8-ba7a-4418-972a-5953a33866f3\">\n",
              "  <button class=\"colab-df-quickchart\" onclick=\"quickchart('df-f80991a8-ba7a-4418-972a-5953a33866f3')\"\n",
              "            title=\"Suggest charts.\"\n",
              "            style=\"display:none;\">\n",
              "\n",
              "<svg xmlns=\"http://www.w3.org/2000/svg\" height=\"24px\"viewBox=\"0 0 24 24\"\n",
              "     width=\"24px\">\n",
              "    <g>\n",
              "        <path d=\"M19 3H5c-1.1 0-2 .9-2 2v14c0 1.1.9 2 2 2h14c1.1 0 2-.9 2-2V5c0-1.1-.9-2-2-2zM9 17H7v-7h2v7zm4 0h-2V7h2v10zm4 0h-2v-4h2v4z\"/>\n",
              "    </g>\n",
              "</svg>\n",
              "  </button>\n",
              "\n",
              "<style>\n",
              "  .colab-df-quickchart {\n",
              "      --bg-color: #E8F0FE;\n",
              "      --fill-color: #1967D2;\n",
              "      --hover-bg-color: #E2EBFA;\n",
              "      --hover-fill-color: #174EA6;\n",
              "      --disabled-fill-color: #AAA;\n",
              "      --disabled-bg-color: #DDD;\n",
              "  }\n",
              "\n",
              "  [theme=dark] .colab-df-quickchart {\n",
              "      --bg-color: #3B4455;\n",
              "      --fill-color: #D2E3FC;\n",
              "      --hover-bg-color: #434B5C;\n",
              "      --hover-fill-color: #FFFFFF;\n",
              "      --disabled-bg-color: #3B4455;\n",
              "      --disabled-fill-color: #666;\n",
              "  }\n",
              "\n",
              "  .colab-df-quickchart {\n",
              "    background-color: var(--bg-color);\n",
              "    border: none;\n",
              "    border-radius: 50%;\n",
              "    cursor: pointer;\n",
              "    display: none;\n",
              "    fill: var(--fill-color);\n",
              "    height: 32px;\n",
              "    padding: 0;\n",
              "    width: 32px;\n",
              "  }\n",
              "\n",
              "  .colab-df-quickchart:hover {\n",
              "    background-color: var(--hover-bg-color);\n",
              "    box-shadow: 0 1px 2px rgba(60, 64, 67, 0.3), 0 1px 3px 1px rgba(60, 64, 67, 0.15);\n",
              "    fill: var(--button-hover-fill-color);\n",
              "  }\n",
              "\n",
              "  .colab-df-quickchart-complete:disabled,\n",
              "  .colab-df-quickchart-complete:disabled:hover {\n",
              "    background-color: var(--disabled-bg-color);\n",
              "    fill: var(--disabled-fill-color);\n",
              "    box-shadow: none;\n",
              "  }\n",
              "\n",
              "  .colab-df-spinner {\n",
              "    border: 2px solid var(--fill-color);\n",
              "    border-color: transparent;\n",
              "    border-bottom-color: var(--fill-color);\n",
              "    animation:\n",
              "      spin 1s steps(1) infinite;\n",
              "  }\n",
              "\n",
              "  @keyframes spin {\n",
              "    0% {\n",
              "      border-color: transparent;\n",
              "      border-bottom-color: var(--fill-color);\n",
              "      border-left-color: var(--fill-color);\n",
              "    }\n",
              "    20% {\n",
              "      border-color: transparent;\n",
              "      border-left-color: var(--fill-color);\n",
              "      border-top-color: var(--fill-color);\n",
              "    }\n",
              "    30% {\n",
              "      border-color: transparent;\n",
              "      border-left-color: var(--fill-color);\n",
              "      border-top-color: var(--fill-color);\n",
              "      border-right-color: var(--fill-color);\n",
              "    }\n",
              "    40% {\n",
              "      border-color: transparent;\n",
              "      border-right-color: var(--fill-color);\n",
              "      border-top-color: var(--fill-color);\n",
              "    }\n",
              "    60% {\n",
              "      border-color: transparent;\n",
              "      border-right-color: var(--fill-color);\n",
              "    }\n",
              "    80% {\n",
              "      border-color: transparent;\n",
              "      border-right-color: var(--fill-color);\n",
              "      border-bottom-color: var(--fill-color);\n",
              "    }\n",
              "    90% {\n",
              "      border-color: transparent;\n",
              "      border-bottom-color: var(--fill-color);\n",
              "    }\n",
              "  }\n",
              "</style>\n",
              "\n",
              "  <script>\n",
              "    async function quickchart(key) {\n",
              "      const quickchartButtonEl =\n",
              "        document.querySelector('#' + key + ' button');\n",
              "      quickchartButtonEl.disabled = true;  // To prevent multiple clicks.\n",
              "      quickchartButtonEl.classList.add('colab-df-spinner');\n",
              "      try {\n",
              "        const charts = await google.colab.kernel.invokeFunction(\n",
              "            'suggestCharts', [key], {});\n",
              "      } catch (error) {\n",
              "        console.error('Error during call to suggestCharts:', error);\n",
              "      }\n",
              "      quickchartButtonEl.classList.remove('colab-df-spinner');\n",
              "      quickchartButtonEl.classList.add('colab-df-quickchart-complete');\n",
              "    }\n",
              "    (() => {\n",
              "      let quickchartButtonEl =\n",
              "        document.querySelector('#df-f80991a8-ba7a-4418-972a-5953a33866f3 button');\n",
              "      quickchartButtonEl.style.display =\n",
              "        google.colab.kernel.accessAllowed ? 'block' : 'none';\n",
              "    })();\n",
              "  </script>\n",
              "</div>\n",
              "    </div>\n",
              "  </div>\n"
            ]
          },
          "metadata": {},
          "execution_count": 2
        }
      ]
    },
    {
      "cell_type": "markdown",
      "source": [
        "#### **Problem #1.1**\n",
        "\n",
        "Create a linear regression model using all of the features except `instant`, `dteday`, `casual`, `registered`, `cnt`, and `hr` columns, and then evaluate it using mean squared error and R2 as the metrics."
      ],
      "metadata": {
        "id": "-YyuS71I_8Hu"
      }
    },
    {
      "cell_type": "code",
      "source": [
        "from sklearn.model_selection import train_test_split\n",
        "from sklearn.linear_model import LinearRegression\n",
        "from sklearn.metrics import mean_squared_error, r2_score\n",
        "\n",
        "bike_data = pd.read_csv('bike_sharing_total.csv')\n",
        "\n",
        "features = bike_data.drop(columns=['instant', 'dteday', 'casual', 'registered', 'cnt', 'hr'])\n",
        "\n",
        "X_train, X_test, y_train, y_test = train_test_split(features, bike_data['cnt'], test_size=0.2, random_state=42)\n",
        "\n",
        "model = LinearRegression()\n",
        "\n",
        "model.fit(X_train, y_train)\n",
        "\n",
        "y_pred = model.predict(X_test)\n",
        "\n",
        "mse = mean_squared_error(y_test, y_pred)\n",
        "\n",
        "r2 = r2_score(y_test, y_pred)\n",
        "\n",
        "print(mse)\n",
        "print(r2)"
      ],
      "metadata": {
        "id": "pA6woc2HoSSW",
        "colab": {
          "base_uri": "https://localhost:8080/"
        },
        "outputId": "ec52addd-6e71-4d1a-d03b-e17cd03eadb5"
      },
      "execution_count": null,
      "outputs": [
        {
          "output_type": "stream",
          "name": "stdout",
          "text": [
            "919576.4303608645\n",
            "0.023196623673425232\n"
          ]
        }
      ]
    },
    {
      "cell_type": "markdown",
      "source": [
        "#### **Problem #1.2**\n",
        "\n",
        "Create a linear regression model using all of the features except the `instant`, `dteday`, `casual`, `cnt`, and `hr` columns (this means we're including `registered`), and then evaluate it using mean squared error and R2 as the metrics."
      ],
      "metadata": {
        "id": "uVk9ipAiAPDD"
      }
    },
    {
      "cell_type": "code",
      "source": [
        "from sklearn.model_selection import train_test_split\n",
        "from sklearn.linear_model import LinearRegression\n",
        "from sklearn.metrics import mean_squared_error, r2_score\n",
        "\n",
        "features = bike_data.drop(columns=['instant', 'dteday', 'casual', 'cnt', 'hr'])\n",
        "\n",
        "X_train, X_test, y_train, y_test = train_test_split(features, bike_data['cnt'], test_size=0.2, random_state=42)\n",
        "\n",
        "model = LinearRegression()\n",
        "\n",
        "model.fit(X_train, y_train)\n",
        "\n",
        "y_pred = model.predict(X_test)\n",
        "\n",
        "mse = mean_squared_error(y_test, y_pred)\n",
        "\n",
        "r2 = r2_score(y_test, y_pred)\n",
        "\n",
        "print(mse)\n",
        "print(r2)"
      ],
      "metadata": {
        "id": "VDeXMJDIBUgP",
        "colab": {
          "base_uri": "https://localhost:8080/"
        },
        "outputId": "41016030-1917-43a9-b8b3-1a6b70805aeb"
      },
      "execution_count": null,
      "outputs": [
        {
          "output_type": "stream",
          "name": "stdout",
          "text": [
            "19319.804203060503\n",
            "0.9794778885664651\n"
          ]
        }
      ]
    },
    {
      "cell_type": "markdown",
      "source": [
        "### **Reflection question**\n",
        "\n",
        "What differences did you notice in the performance of the two models? What does this mean?"
      ],
      "metadata": {
        "id": "GVPL2dHCW_Dj"
      }
    },
    {
      "cell_type": "markdown",
      "metadata": {
        "id": "bX7akICQsCxy"
      },
      "source": [
        "<a name=\"p2\"></a>\n",
        "\n",
        "---\n",
        "## **Part 2: Anscombe's Quartet**\n",
        "---\n",
        "\n",
        "\n",
        "In this section, you will explore the famous Anscombe's Quartet. These four artificial datasets are very simple and small, yet offer some powerful insights into the limitations of individual statistics (like $R^2$) and the value of visualizing data.\n",
        "\n",
        "\n",
        "Each dataset consists of 11 points with an x value (our input or feature) and a y value (our output or target). This is the only information you need to get started. *After you have completed this section*, we encourage you to look up this dataset on Wikipedia and other sources to learn more about it.\n",
        "\n",
        "<br>\n",
        "\n",
        "**NOTE**: Because there is such a small number of points, we really cannot afford to split the data even more into training and test sets. To keep our code consistent, we will still use separate variables such as X_train and X_test, but they will actually be the exact same thing. In other words, we will train and test our model on the entire dataset. This is typical practice with such small datasets.\n",
        "\n",
        "<br>\n",
        "\n",
        "\n",
        "**To get started, run the provided cell to create a linear regression model trained on each of the four datasets.**"
      ]
    },
    {
      "cell_type": "code",
      "metadata": {
        "id": "6RN1gmvlNzmr"
      },
      "source": [
        "# LOAD IN DATA\n",
        "#==============\n",
        "set1 = pd.read_csv(\"https://docs.google.com/spreadsheets/d/e/2PACX-1vRVMS3mke4Skr1LcBoidilU1mcmeS5fpj0pbUfQoB-rG5GefKyOcTbcKoRt8N5QHXZYbaGcCJxZYZSw/pub?gid=646924765&single=true&output=csv\")\n",
        "set2 = pd.read_csv(\"https://docs.google.com/spreadsheets/d/e/2PACX-1vRVMS3mke4Skr1LcBoidilU1mcmeS5fpj0pbUfQoB-rG5GefKyOcTbcKoRt8N5QHXZYbaGcCJxZYZSw/pub?gid=1109791384&single=true&output=csv\")\n",
        "set3 = pd.read_csv(\"https://docs.google.com/spreadsheets/d/e/2PACX-1vRVMS3mke4Skr1LcBoidilU1mcmeS5fpj0pbUfQoB-rG5GefKyOcTbcKoRt8N5QHXZYbaGcCJxZYZSw/pub?gid=2285367&single=true&output=csv\")\n",
        "set4 = pd.read_csv(\"https://docs.google.com/spreadsheets/d/e/2PACX-1vRVMS3mke4Skr1LcBoidilU1mcmeS5fpj0pbUfQoB-rG5GefKyOcTbcKoRt8N5QHXZYbaGcCJxZYZSw/pub?gid=1733916884&single=true&output=csv\")\n",
        "\n",
        "inputs1 = set1[[\"x\"]]\n",
        "output1 = set1[\"y\"]\n",
        "\n",
        "inputs2 = set2[[\"x\"]]\n",
        "output2 = set2[\"y\"]\n",
        "\n",
        "inputs3 = set3[[\"x\"]]\n",
        "output3 = set3[\"y\"]\n",
        "\n",
        "inputs4 = set4[[\"x\"]]\n",
        "output4 = set4[\"y\"]\n",
        "\n",
        "\n",
        "# There's very little data, so we really can't afford to split it\n",
        "X1_train = X1_test = inputs1\n",
        "y1_train = y1_test = output1\n",
        "\n",
        "X2_train = X2_test = inputs2\n",
        "y2_train = y2_test = output2\n",
        "\n",
        "X3_train = X3_test = inputs3\n",
        "y3_train = y3_test = output3\n",
        "\n",
        "X4_train = X4_test = inputs4\n",
        "y4_train = y4_test = output4\n",
        "\n",
        "\n",
        "\n",
        "# TRAIN MODELS\n",
        "#==============\n",
        "model1 = LinearRegression()\n",
        "model1.fit(X1_train, y1_train)\n",
        "predictions1 = model1.predict(X1_test)\n",
        "\n",
        "model2 = LinearRegression()\n",
        "model2.fit(X2_train, y2_train)\n",
        "predictions2 = model2.predict(X2_test)\n",
        "\n",
        "model3 = LinearRegression()\n",
        "model3.fit(X3_train, y3_train)\n",
        "predictions3 = model3.predict(X3_test)\n",
        "\n",
        "model4 = LinearRegression()\n",
        "model4.fit(X4_train, y4_train)\n",
        "predictions4 = model4.predict(X4_test)"
      ],
      "execution_count": null,
      "outputs": []
    },
    {
      "cell_type": "markdown",
      "source": [
        "#### **Problem #2.1**\n",
        "\n",
        "Plot the residuals of for each model.\n",
        "\n",
        "Two important reminders:\n",
        "\n",
        "* The residuals are the difference between the actual values in the data (ex: y_test) and the predicted values.\n",
        "* For a linear model to be trusted, the plot of residuals should look randomly distributed around 0. If there is any noticeable shape or pattern to this plot, we cannot trust a linear model or the metrics such as $R^2$ for it."
      ],
      "metadata": {
        "id": "Fkm0RvJAXVDk"
      }
    },
    {
      "cell_type": "markdown",
      "source": [
        "##### **Model 1**\n",
        "\n",
        "The code for this has been provided to get you started."
      ],
      "metadata": {
        "id": "sRmadQ7Ijwwx"
      }
    },
    {
      "cell_type": "code",
      "source": [
        "import matplotlib.pyplot as plt\n",
        "\n",
        "residuals1 = y1_test - predictions1\n",
        "\n",
        "plt.scatter(predictions1, residuals1)\n",
        "plt.plot([predictions1.min(), predictions1.max()], [0, 0], color = \"black\")\n",
        "\n",
        "plt.title(\"Residuals for dataset 1\", fontsize = \"x-large\")\n",
        "plt.xlabel(\"Predicted Value\", fontsize = \"x-large\")\n",
        "plt.ylabel(\"Residual\", fontsize = \"x-large\")\n",
        "\n",
        "plt.show()"
      ],
      "metadata": {
        "id": "Os3QvyI3XYLm",
        "colab": {
          "base_uri": "https://localhost:8080/",
          "height": 478
        },
        "outputId": "d55d4cf7-7e8d-45fe-f1ef-ce38c1e483ae"
      },
      "execution_count": null,
      "outputs": [
        {
          "output_type": "display_data",
          "data": {
            "text/plain": [
              "<Figure size 640x480 with 1 Axes>"
            ],
            "image/png": "[encoded data removed]"
          },
          "metadata": {}
        }
      ]
    },
    {
      "cell_type": "markdown",
      "source": [
        "##### **Model 2**"
      ],
      "metadata": {
        "id": "HZZCfW01at6H"
      }
    },
    {
      "cell_type": "code",
      "source": [
        "residuals_2 = y2_test - predictions2\n",
        "plt.figure(figsize=(8, 6))\n",
        "plt.scatter(predictions2, residuals_2, c='b', label='Model 2')\n",
        "plt.axhline(0, color='black', linestyle='--', linewidth=1)\n",
        "plt.title('Residuals for Model 2')\n",
        "plt.xlabel('Predicted Values')\n",
        "plt.ylabel('Residuals')\n",
        "plt.legend()\n",
        "plt.show()"
      ],
      "metadata": {
        "id": "sNZI7Vs5kIcd",
        "colab": {
          "base_uri": "https://localhost:8080/",
          "height": 564
        },
        "outputId": "687d36fd-faf0-4bf2-da66-4a8f4c7f031c"
      },
      "execution_count": null,
      "outputs": [
        {
          "output_type": "display_data",
          "data": {
            "text/plain": [
              "<Figure size 800x600 with 1 Axes>"
            ],
            "image/png": "[encoded data removed]"
          },
          "metadata": {}
        }
      ]
    },
    {
      "cell_type": "markdown",
      "source": [
        "##### **Model 3**"
      ],
      "metadata": {
        "id": "i3dJZkY_auwV"
      }
    },
    {
      "cell_type": "code",
      "source": [
        "residuals_3 = y3_test - predictions3\n",
        "plt.figure(figsize=(8, 6))\n",
        "plt.scatter(predictions3, residuals_3, c='g', label='Model 3')\n",
        "plt.axhline(0, color='black', linestyle='--', linewidth=1)\n",
        "plt.title('Residuals for Model 3')\n",
        "plt.xlabel('Predicted Values')\n",
        "plt.ylabel('Residuals')\n",
        "plt.legend()\n",
        "plt.show()"
      ],
      "metadata": {
        "id": "GEZG5YfykKkt",
        "colab": {
          "base_uri": "https://localhost:8080/",
          "height": 564
        },
        "outputId": "f5e659a6-1a3a-44a9-dd6d-5678b4188970"
      },
      "execution_count": null,
      "outputs": [
        {
          "output_type": "display_data",
          "data": {
            "text/plain": [
              "<Figure size 800x600 with 1 Axes>"
            ],
            "image/png": "[encoded data removed]"
          },
          "metadata": {}
        }
      ]
    },
    {
      "cell_type": "markdown",
      "source": [
        "##### **Model 4**"
      ],
      "metadata": {
        "id": "heSupcFdavzz"
      }
    },
    {
      "cell_type": "code",
      "source": [
        "residuals_4 = y4_test - predictions4\n",
        "plt.figure(figsize=(8, 6))\n",
        "plt.scatter(predictions4, residuals_4, c='r', label='Model 4')\n",
        "plt.axhline(0, color='black', linestyle='--', linewidth=1)\n",
        "plt.title('Residuals for Model 4')\n",
        "plt.xlabel('Predicted Values')\n",
        "plt.ylabel('Residuals')\n",
        "plt.legend()\n",
        "plt.show()"
      ],
      "metadata": {
        "id": "8V6zlpxDkK-q",
        "colab": {
          "base_uri": "https://localhost:8080/",
          "height": 564
        },
        "outputId": "acd5157a-b87b-478d-ddc9-e041f32c12c6"
      },
      "execution_count": null,
      "outputs": [
        {
          "output_type": "display_data",
          "data": {
            "text/plain": [
              "<Figure size 800x600 with 1 Axes>"
            ],
            "image/png": "[encoded data removed]"
          },
          "metadata": {}
        }
      ]
    },
    {
      "cell_type": "markdown",
      "source": [
        "#### **Problem #2.2**\n",
        "\n",
        "Evalute the $R^2$, MSE, and MAE for each model AND print the coefficient/intercept for each model. To get you started, the code for printing model 1's $R^2$ and coefficient/intercept has already been provided."
      ],
      "metadata": {
        "id": "JxoNebnCXPaf"
      }
    },
    {
      "cell_type": "markdown",
      "source": [
        "##### **Model 1**"
      ],
      "metadata": {
        "id": "E3ZmGG1hj5yv"
      }
    },
    {
      "cell_type": "code",
      "source": [
        "from sklearn.metrics import mean_squared_error, mean_absolute_error\n",
        "print(\"MSE: \" + str(mean_squared_error(y1_test, predictions1)))\n",
        "print(\"MAE: \" + str(mean_absolute_error(y1_test, predictions1)))\n",
        "print(\"y = \" + str(model1.coef_[0]) + \"*x + \" + str(model1.intercept_))"
      ],
      "metadata": {
        "id": "MYaC2-qkXUqm",
        "colab": {
          "base_uri": "https://localhost:8080/"
        },
        "outputId": "613d0e85-1726-479c-f21b-9d2ad26d425f"
      },
      "execution_count": null,
      "outputs": [
        {
          "output_type": "stream",
          "name": "stdout",
          "text": [
            "MSE: 1.2511536363636366\n",
            "MAE: 0.837404958677686\n",
            "y = 0.5000909090909093*x + 3.0000909090909094\n"
          ]
        }
      ]
    },
    {
      "cell_type": "markdown",
      "source": [
        "##### **Model 2**"
      ],
      "metadata": {
        "id": "juon-3wrX0t8"
      }
    },
    {
      "cell_type": "code",
      "source": [
        "from sklearn.metrics import mean_squared_error, mean_absolute_error\n",
        "print(\"MSE: \" + str(mean_squared_error(y2_test, predictions2)))\n",
        "print(\"MAE: \" + str(mean_absolute_error(y2_test, predictions1)))\n",
        "print(\"y = \" + str(model2.coef_[0]) + \"*x + \" + str(model2.intercept_))"
      ],
      "metadata": {
        "id": "et_a2dVLkM67",
        "colab": {
          "base_uri": "https://localhost:8080/"
        },
        "outputId": "69f4b61f-3976-4e08-8520-76c8a2a0e23e"
      },
      "execution_count": null,
      "outputs": [
        {
          "output_type": "stream",
          "name": "stdout",
          "text": [
            "MSE: 1.2523900826446281\n",
            "MAE: 0.9679338842975203\n",
            "y = 0.5*x + 3.00090909090909\n"
          ]
        }
      ]
    },
    {
      "cell_type": "markdown",
      "source": [
        "##### **Model 3**"
      ],
      "metadata": {
        "id": "o32t7rrqX1yL"
      }
    },
    {
      "cell_type": "code",
      "source": [
        "from sklearn.metrics import mean_squared_error, mean_absolute_error\n",
        "print(\"MSE: \" + str(mean_squared_error(y3_test, predictions3)))\n",
        "print(\"MAE: \" + str(mean_absolute_error(y3_test, predictions3)))\n",
        "print(\"y = \" + str(model3.coef_[0]) + \"*x + \" + str(model3.intercept_))"
      ],
      "metadata": {
        "id": "lbXlEy8fkN1U",
        "colab": {
          "base_uri": "https://localhost:8080/"
        },
        "outputId": "242e10bf-fe43-446b-fae1-de47c30114c3"
      },
      "execution_count": null,
      "outputs": [
        {
          "output_type": "stream",
          "name": "stdout",
          "text": [
            "MSE: 1.2505628925619836\n",
            "MAE: 0.7159669421487606\n",
            "y = 0.4997272727272728*x + 3.002454545454545\n"
          ]
        }
      ]
    },
    {
      "cell_type": "markdown",
      "source": [
        "##### **Model 4**"
      ],
      "metadata": {
        "id": "dpdQE1juX2wj"
      }
    },
    {
      "cell_type": "code",
      "source": [
        "# COMPLETE THIS CODEfrom sklearn.metrics import mean_squared_error, mean_absolute_error\n",
        "print(\"MSE: \" + str(mean_squared_error(y4_test, predictions4)))\n",
        "print(\"MAE: \" + str(mean_absolute_error(y4_test, predictions4)))\n",
        "print(\"y = \" + str(model4.coef_[0]) + \"*x + \" + str(model4.intercept_))"
      ],
      "metadata": {
        "id": "tQdgUOhfkNm0",
        "colab": {
          "base_uri": "https://localhost:8080/"
        },
        "outputId": "03d51ca6-c619-4f7e-a01f-8032178354c5"
      },
      "execution_count": null,
      "outputs": [
        {
          "output_type": "stream",
          "name": "stdout",
          "text": [
            "MSE: 1.249317272727273\n",
            "MAE: 0.902727272727273\n",
            "y = 0.49990909090909097*x + 3.0017272727272726\n"
          ]
        }
      ]
    },
    {
      "cell_type": "markdown",
      "source": [
        "#### **Problem #2.3**\n",
        "\n",
        "\n",
        "Plot the data and the model (line) for each dataset."
      ],
      "metadata": {
        "id": "CCpBH2ZPXYkl"
      }
    },
    {
      "cell_type": "markdown",
      "source": [
        "##### **Model 1**\n",
        "\n",
        "The code to plot the model has been provided. Now, fill in the rest to plot the data too."
      ],
      "metadata": {
        "id": "HzgKRJsXj_-n"
      }
    },
    {
      "cell_type": "code",
      "source": [
        "plt.figure(figsize = (8, 5))\n",
        "plt.scatter(X1_test, y1_test, label = \"actual data\")\n",
        "plt.plot(X1_test, predictions1, color = \"orange\", label = \"model\")\n",
        "\n",
        "plt.title(\"Dataset 1\", fontsize = \"x-large\")\n",
        "plt.xlabel(\"x\", fontsize = \"x-large\")\n",
        "plt.ylabel(\"y\", fontsize = \"x-large\")\n",
        "plt.legend()\n",
        "\n",
        "plt.show()"
      ],
      "metadata": {
        "id": "grGddKEUXaZZ",
        "colab": {
          "base_uri": "https://localhost:8080/",
          "height": 493
        },
        "outputId": "888ab873-b205-40b2-a51d-62f4140c4c9b"
      },
      "execution_count": null,
      "outputs": [
        {
          "output_type": "display_data",
          "data": {
            "text/plain": [
              "<Figure size 800x500 with 1 Axes>"
            ],
            "image/png": "[encoded data removed]"
          },
          "metadata": {}
        }
      ]
    },
    {
      "cell_type": "markdown",
      "source": [
        "##### **Model 2**"
      ],
      "metadata": {
        "id": "SzWV4BvJcfpi"
      }
    },
    {
      "cell_type": "code",
      "source": [
        "plt.figure(figsize = (8, 5))\n",
        "plt.scatter(X2_test, y2_test, label = \"actual data\")\n",
        "plt.plot(X2_test, predictions2, color = \"orange\", label = \"model\")\n",
        "\n",
        "plt.title(\"Dataset 2\", fontsize = \"x-large\")\n",
        "plt.xlabel(\"x\", fontsize = \"x-large\")\n",
        "plt.ylabel(\"y\", fontsize = \"x-large\")\n",
        "plt.legend()\n",
        "\n",
        "plt.show()"
      ],
      "metadata": {
        "id": "GjRHDgtOkP1j",
        "colab": {
          "base_uri": "https://localhost:8080/",
          "height": 493
        },
        "outputId": "1d7c645f-ebd7-4044-a195-25509943ab4a"
      },
      "execution_count": null,
      "outputs": [
        {
          "output_type": "display_data",
          "data": {
            "text/plain": [
              "<Figure size 800x500 with 1 Axes>"
            ],
            "image/png": "[encoded data removed]"
          },
          "metadata": {}
        }
      ]
    },
    {
      "cell_type": "markdown",
      "source": [
        "##### **Model 3**"
      ],
      "metadata": {
        "id": "5xQDgOsmcmT9"
      }
    },
    {
      "cell_type": "code",
      "source": [
        "plt.figure(figsize = (8, 5))\n",
        "plt.scatter(X3_test, y3_test, label = \"actual data\")\n",
        "plt.plot(X3_test, predictions3, color = \"orange\", label = \"model\")\n",
        "\n",
        "plt.title(\"Dataset 3\", fontsize = \"x-large\")\n",
        "plt.xlabel(\"x\", fontsize = \"x-large\")\n",
        "plt.ylabel(\"y\", fontsize = \"x-large\")\n",
        "plt.legend()\n",
        "\n",
        "plt.show()"
      ],
      "metadata": {
        "id": "v2ihdOz_kQQX",
        "colab": {
          "base_uri": "https://localhost:8080/",
          "height": 493
        },
        "outputId": "67fcbc5d-b0c7-408c-8806-549448629cf7"
      },
      "execution_count": null,
      "outputs": [
        {
          "output_type": "display_data",
          "data": {
            "text/plain": [
              "<Figure size 800x500 with 1 Axes>"
            ],
            "image/png": "[encoded data removed]"
          },
          "metadata": {}
        }
      ]
    },
    {
      "cell_type": "markdown",
      "source": [
        "##### **Model 4**"
      ],
      "metadata": {
        "id": "2q7vTHptctD1"
      }
    },
    {
      "cell_type": "code",
      "source": [
        "plt.figure(figsize = (8, 5))\n",
        "plt.scatter(X4_test, y4_test, label = \"actual data\")\n",
        "plt.plot(X4_test, predictions4, color = \"orange\", label = \"model\")\n",
        "\n",
        "plt.title(\"Dataset 4\", fontsize = \"x-large\")\n",
        "plt.xlabel(\"x\", fontsize = \"x-large\")\n",
        "plt.ylabel(\"y\", fontsize = \"x-large\")\n",
        "plt.legend()\n",
        "\n",
        "plt.show()"
      ],
      "metadata": {
        "id": "SNureJAskQy8",
        "colab": {
          "base_uri": "https://localhost:8080/",
          "height": 493
        },
        "outputId": "31c3c573-a324-41c9-ad3b-dec40c8ac288"
      },
      "execution_count": null,
      "outputs": [
        {
          "output_type": "display_data",
          "data": {
            "text/plain": [
              "<Figure size 800x500 with 1 Axes>"
            ],
            "image/png": "[encoded data removed]"
          },
          "metadata": {}
        }
      ]
    },
    {
      "cell_type": "markdown",
      "source": [
        "---\n",
        "#End of Notebook\n",
        "\n",
        "© 2023 The Coding School, All rights reserved"
      ],
      "metadata": {
        "id": "yt29TPJXhU9Q"
      }
    }
  ]
}
