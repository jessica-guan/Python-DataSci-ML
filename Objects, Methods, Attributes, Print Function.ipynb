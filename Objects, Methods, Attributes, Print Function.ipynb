{
  "cells": [
    {
      "cell_type": "markdown",
      "metadata": {
        "id": "view-in-github",
        "colab_type": "text"
      },
      "source": [
        "<a href=\"https://colab.research.google.com/github/jessica-guan/Python-DataSci-ML/blob/main/Copy_of_TRAIN_YLC_Week_3_Lab_Notebook_%5BSTUDENT%5D.ipynb\" target=\"_parent\"><img src=\"https://colab.research.google.com/assets/colab-badge.svg\" alt=\"Open In Colab\"/></a>"
      ]
    },
    {
      "cell_type": "markdown",
      "source": [
        "# **Lab 3: Using Objects and Good Programming Practices**\n",
        "---\n",
        "\n",
        "### **Description**\n",
        "In today's lab, you will learn how to work with objects, methods, and attributes in Python. You will also learn how to interpret and correct coding errors, and how to search for and navigate documentation.\n",
        "\n",
        "<br>\n",
        "\n",
        "### **Lab Structure**\n",
        "**Part 2**: [Objects, Methods, and Attributes](#p2)\n",
        "\n",
        "**Part 3**: [Debugging](#p3)\n",
        "\n",
        "**Part 4**: [Additional Practice [OPTIONAL]](#p4)\n",
        ">\n",
        "> **Part 4.1**: [The Fundamentals](#p4.1)\n",
        ">\n",
        "> **Part 4.2**: [Coding Challenges](#p4.2)\n",
        "\n",
        "**Part 5**: [The `print` Function [OPTIONAL]](#p5)\n",
        "\n",
        "<br>\n",
        "\n",
        "\n",
        "### **Learning Objectives**\n",
        "By the end of this lab, we will:\n",
        "* Understand how to interact with objects using methods and attributes.\n",
        "* Improve your debugging skills by correcting common coding errors.\n",
        "* Understand how to search for documentation in various libraries.\n",
        "\n",
        "<br>\n",
        "\n",
        "###**Resources**\n",
        "* [Python Basics Cheat Sheet](https://docs.google.com/document/d/1lJCv2rPuSFVip643ZPOxNdllUUAMBhtq_NR3IE2w7V4/edit?usp=sharing)\n",
        "\n",
        "\n",
        "<br>\n",
        "\n",
        "\n",
        "**Before starting, run the code below to import all necessary functions and libraries.**\n"
      ],
      "metadata": {
        "id": "mbZXQ3rA3NwL"
      },
      "id": "mbZXQ3rA3NwL"
    },
    {
      "cell_type": "code",
      "source": [
        "# @title\n",
        "\n",
        "import warnings\n",
        "import sympy\n",
        "import numpy\n",
        "import matplotlib\n",
        "import time\n",
        "import math\n",
        "from matplotlib import pyplot\n",
        "\n",
        "warnings.filterwarnings(\"ignore\")\n",
        "\n",
        "class baby():\n",
        "  def __init__(self,age=0, mood=\"crying\", hunger=\"hungry\"):\n",
        "    self.age = age\n",
        "    self.mood = mood\n",
        "    self.hunger = hunger\n",
        "  def feed(self):\n",
        "    self.hunger = \"full\"\n",
        "  def play(self):\n",
        "    self.mood = \"happy\"\n",
        "\n",
        "class second_lab():\n",
        "  def __init__(self,TA=\"NO TA SET\"):\n",
        "    self.topic = \"Introduction to Objects and Debugging\"\n",
        "    self.attendance_code = 1234\n",
        "    self.attendees = []\n",
        "    self.TA = TA\n",
        "  def check_in(self,name):\n",
        "    self.attendees.append(name)\n",
        "  def lab_summary(self):\n",
        "    print(\"Today in lab, we had an \" + self.topic + \" with our TA, \" + self.TA +\". We had some great people in attendance, such as:\" + \", \".join(self.attendees)+\". The attendance code is \" + str(self.attendance_code)+\".\")\n",
        "\n",
        "def calculate_area(length, width):\n",
        "  area = length * width\n",
        "  return area\n",
        "\n",
        "class plant():\n",
        "  def __init__(self):\n",
        "    self.planted = 0\n",
        "    self.day_of_last_growth = 0\n",
        "    self.day = 0\n",
        "    self.water = 0\n",
        "    self.light = 0\n",
        "    self.health = 10\n",
        "    self.stage = 0\n",
        "    self.perfect_light = numpy.random.choice([1,2,3,4,5,6,7,8,9,10])\n",
        "    self.perfect_water = numpy.random.choice([1,2,3,4,5,6,7,8,9,10])\n",
        "  def water_plant(self,amount):\n",
        "    if amount > 0:\n",
        "      print(\"You watered your plant.\")\n",
        "      self.water += round(amount)\n",
        "    elif amount < 0:\n",
        "      raise ValueError(\"You can't remove water from your plant! You will have to wait a bit for it to dry out.\")\n",
        "    else:\n",
        "      print(\"You decide to not water your plant.\")\n",
        "  def set_light(self,level):\n",
        "    if level <0:\n",
        "      raise ValueError(\"You can't set the light level to negative values.\")\n",
        "    elif level > 10:\n",
        "      raise ValueError(\"Your light is not that strong\")\n",
        "    else:\n",
        "      self.light = round(level)\n",
        "      print(\"You set the light to level \" + str(self.light))\n",
        "\n",
        "  def check_health(self):\n",
        "    print(\"Your plant's health is a \" + str(self.health)+ \"/\" + str(10+(5*self.stage))+\".\")\n",
        "    print(\"If you had to rate the wetness of the soil, it would be a \" + str(self.water)+ \"/10.\")\n",
        "    print(\"Your light is turned up to \" + str(self.light)+ \".\")\n",
        "    if self.stage == 10:\n",
        "      print(\"Your plant is full grown.\")\n",
        "  def wait(self,num_days):\n",
        "    for i in range(num_days):\n",
        "      self.day += 1\n",
        "      print('Day ' + str(self.day))\n",
        "      if self.perfect_light > self.light:\n",
        "        print(\"Your plant needs more light\")\n",
        "        self.health += -1*abs(self.perfect_light- self.light)/10\n",
        "      elif self.perfect_light < self.light:\n",
        "        print(\"Your plant needs less light\")\n",
        "        self.health += -1*abs(self.perfect_light- self.light)/10\n",
        "      else:\n",
        "        print(\"Your plant looks happy with the light it has.\")\n",
        "      if self.perfect_water > self.water:\n",
        "        print(\"Your plant needs more water\")\n",
        "        self.health += -1*abs(self.perfect_water- self.water)/10\n",
        "      elif self.perfect_water < self.water:\n",
        "        print(\"Your plant needs less water\")\n",
        "        self.health += -1*abs(self.perfect_water- self.water)/10\n",
        "      else:\n",
        "        print(\"Your plant looks happy with the water it had.\")\n",
        "      if self.perfect_light == self.light and self.perfect_water == self.water:\n",
        "        self.health = (self.health + 10+(5*self.stage))/2\n",
        "        if self.day- self.day_of_last_growth >= 5 and self.stage < 10:\n",
        "          print(\"Your plant grew a bit! Its preferances may have changed.\")\n",
        "          self.stage += 1\n",
        "          self.health += 5\n",
        "          self.day_of_last_growth = self.day\n",
        "          self.perfect_light = numpy.random.choice([1,2,3,4,5,6,7,8,9,10])\n",
        "          self.perfect_water = numpy.random.choice([1,2,3,4,5,6,7,8,9,10])\n",
        "          if self.stage == 10:\n",
        "            print(\"Congrats! Your plant is full grown.\")\n",
        "      self.water += -1*self.light\n",
        "      if self.water < 0:\n",
        "        self.water = 0\n",
        "      if self.health <= 0:\n",
        "        print(\"Your plant died! You decide to plant a new seed. Treat this one better!\")\n",
        "        self.planted = 0\n",
        "        self.day_of_last_growth = 0\n",
        "        self.day = 0\n",
        "        self.water = 0\n",
        "        self.light = 0\n",
        "        self.health = 10\n",
        "        self.stage = 0\n",
        "        self.perfect_light = numpy.random.choice([1,2,3,4,5,6,7,8,9,10])\n",
        "        self.perfect_water = numpy.random.choice([1,2,3,4,5,6,7,8,9,10])\n",
        "\n",
        "def dynamic_find_roots(a,b,c):\n",
        "  if b**2-4*a*c == 0:\n",
        "    return -b/(2*a)\n",
        "  elif b**2 - 4*a*c <0:\n",
        "    return (-b+1j*(4*a*c-b**2)**0.5)/(2*a),(-b-1j*(4*a*c-b**2)**0.5)/(2*a)\n",
        "  elif b**2 - 4*a*c >0:\n",
        "    return (-b+(b**2-4*a*c)**0.5)/(2*a),(-b-(b**2-4*a*c)**0.5)/(2*a)\n",
        "print(\"Libraries imported successfully!\")"
      ],
      "metadata": {
        "id": "YAvvLhRIoqYp",
        "colab": {
          "base_uri": "https://localhost:8080/"
        },
        "outputId": "8898bec7-0259-47bd-800a-de12ad9c6255",
        "cellView": "form"
      },
      "execution_count": null,
      "outputs": [
        {
          "output_type": "stream",
          "name": "stdout",
          "text": [
            "Libraries imported successfully!\n"
          ]
        }
      ],
      "id": "YAvvLhRIoqYp"
    },
    {
      "cell_type": "markdown",
      "source": [
        "<a name=\"p1\"></a>\n",
        "\n",
        "---\n",
        "## **Part 1: Review**\n",
        "---"
      ],
      "metadata": {
        "id": "88bM7zNgm__2"
      },
      "id": "88bM7zNgm__2"
    },
    {
      "cell_type": "markdown",
      "metadata": {
        "id": "8E_hjAwnzJIJ"
      },
      "source": [
        "#### **Problem #1.1**\n",
        "\n",
        "**Together**, let's label the following data types.\n",
        "\n",
        "<br>\n",
        "\n",
        "**NOTE**: You can change the text below by double clicking on the cell."
      ],
      "id": "8E_hjAwnzJIJ"
    },
    {
      "cell_type": "markdown",
      "metadata": {
        "id": "UgjKT51TYqvW"
      },
      "source": [
        "```\n",
        "2 # integer\n",
        "8.9 # float\n",
        "\"Machine Learning is Cool!\" # string\n",
        "5.0 # float\n",
        "[\"string\"] # list\n",
        "```"
      ],
      "id": "UgjKT51TYqvW"
    },
    {
      "cell_type": "markdown",
      "metadata": {
        "id": "vbVHhpiin48S"
      },
      "source": [
        "#### **Problem #1.2**\n",
        "\n",
        "**Together**, let's write code below to calculate 6 times 30 minus 15.5."
      ],
      "id": "vbVHhpiin48S"
    },
    {
      "cell_type": "code",
      "source": [
        "6 * 30 - 15.5"
      ],
      "metadata": {
        "id": "aArc_XhAn7Wj",
        "colab": {
          "base_uri": "https://localhost:8080/"
        },
        "outputId": "cc686e05-81f0-438b-be22-609279da9f5d"
      },
      "execution_count": null,
      "outputs": [
        {
          "output_type": "execute_result",
          "data": {
            "text/plain": [
              "164.5"
            ]
          },
          "metadata": {},
          "execution_count": 2
        }
      ],
      "id": "aArc_XhAn7Wj"
    },
    {
      "cell_type": "markdown",
      "metadata": {
        "id": "huF5E-rfpsk6"
      },
      "source": [
        "#### **Problem #1.3**\n",
        "\n",
        "**Together**, let's write code below to create a variable called `num_models` that equals 10. Then output the value of the variable."
      ],
      "id": "huF5E-rfpsk6"
    },
    {
      "cell_type": "code",
      "source": [
        "num_models = 10\n",
        "num_models"
      ],
      "metadata": {
        "id": "IQeZmqMspsk7",
        "colab": {
          "base_uri": "https://localhost:8080/"
        },
        "outputId": "92f6ac4d-4d53-4b00-b90f-8d3bf2bf65b4"
      },
      "execution_count": null,
      "outputs": [
        {
          "output_type": "execute_result",
          "data": {
            "text/plain": [
              "10"
            ]
          },
          "metadata": {},
          "execution_count": 3
        }
      ],
      "id": "IQeZmqMspsk7"
    },
    {
      "cell_type": "markdown",
      "metadata": {
        "id": "viydnMGPp9Vn"
      },
      "source": [
        "#### **Problem #1.4**\n",
        "\n",
        "**Independently**, write code below to create a variables called `model_size` that equals 12. Then output the value of the variable."
      ],
      "id": "viydnMGPp9Vn"
    },
    {
      "cell_type": "code",
      "source": [
        "model_size = 12\n",
        "model_size"
      ],
      "metadata": {
        "id": "RobdNtdJp9V0",
        "colab": {
          "base_uri": "https://localhost:8080/"
        },
        "outputId": "26b68755-776b-4e5f-d03f-d575540ce27f"
      },
      "execution_count": null,
      "outputs": [
        {
          "output_type": "execute_result",
          "data": {
            "text/plain": [
              "12"
            ]
          },
          "metadata": {},
          "execution_count": 4
        }
      ],
      "id": "RobdNtdJp9V0"
    },
    {
      "cell_type": "markdown",
      "metadata": {
        "id": "0hMTn7KLqMIw"
      },
      "source": [
        "#### **Problem #1.5**\n",
        "\n",
        "Write code below to create a variables called `total_size` that equals `num_models` times `model_size`. Then output the value of the variable."
      ],
      "id": "0hMTn7KLqMIw"
    },
    {
      "cell_type": "code",
      "source": [
        "total_size = num_models * model_size\n",
        "total_size"
      ],
      "metadata": {
        "id": "yHVTW11RqMI-",
        "colab": {
          "base_uri": "https://localhost:8080/"
        },
        "outputId": "6f4ec140-3fdf-4a81-f460-c3f070654fc0"
      },
      "execution_count": null,
      "outputs": [
        {
          "output_type": "execute_result",
          "data": {
            "text/plain": [
              "120"
            ]
          },
          "metadata": {},
          "execution_count": 6
        }
      ],
      "id": "yHVTW11RqMI-"
    },
    {
      "cell_type": "markdown",
      "source": [
        "<a name=\"p2\"></a>\n",
        "\n",
        "---\n",
        "## **Part 2: Objects, Methods, and Attributes**\n",
        "---\n",
        "Python and any libraries we install provides us with plenty of objects to work with. In this part, we will practice interacting with objects using methods and attributes."
      ],
      "metadata": {
        "id": "idga37M2FsMR"
      },
      "id": "idga37M2FsMR"
    },
    {
      "cell_type": "markdown",
      "source": [
        "### **Problem #2.1**\n",
        "\n",
        "**Together**, let's create a \"baby\" object and output its \"age\" attribute.\n"
      ],
      "metadata": {
        "id": "E90o2LJcwsMI"
      },
      "id": "E90o2LJcwsMI"
    },
    {
      "cell_type": "code",
      "source": [
        "jeremy = baby()\n",
        "jeremy.age\n",
        "# COMPLETE THIS CODE"
      ],
      "metadata": {
        "id": "ef77ha0_x9a_",
        "colab": {
          "base_uri": "https://localhost:8080/"
        },
        "outputId": "f29e296a-1b0f-4759-d6bd-4024cfbb6043"
      },
      "execution_count": null,
      "outputs": [
        {
          "output_type": "execute_result",
          "data": {
            "text/plain": [
              "0"
            ]
          },
          "metadata": {},
          "execution_count": 8
        }
      ],
      "id": "ef77ha0_x9a_"
    },
    {
      "cell_type": "markdown",
      "source": [
        "### **Problem #2.2**\n",
        "\n",
        "**Together**, let's write code to set the baby's age to 2.\n"
      ],
      "metadata": {
        "id": "2UHcbxTY0R7t"
      },
      "id": "2UHcbxTY0R7t"
    },
    {
      "cell_type": "code",
      "source": [
        "jeremy.age = 2"
      ],
      "metadata": {
        "id": "cIs8URcj0R8K"
      },
      "execution_count": null,
      "outputs": [],
      "id": "cIs8URcj0R8K"
    },
    {
      "cell_type": "markdown",
      "source": [
        "### **Problem #2.3**\n",
        "\n",
        "**Together**, output the baby's `hunger` attribute, then use its `feed` method (this method does not require any arguments). Finally, print out the new `hunger` attribute.\n"
      ],
      "metadata": {
        "id": "1NLuZ2HS0ib4"
      },
      "id": "1NLuZ2HS0ib4"
    },
    {
      "cell_type": "code",
      "source": [
        "jeremy.hunger\n",
        "jeremy.feed()"
      ],
      "metadata": {
        "id": "urA0ZLTi0icL"
      },
      "execution_count": null,
      "outputs": [],
      "id": "urA0ZLTi0icL"
    },
    {
      "cell_type": "code",
      "source": [
        "jeremy.hunger"
      ],
      "metadata": {
        "id": "n7gbGtKkW9S_",
        "colab": {
          "base_uri": "https://localhost:8080/",
          "height": 35
        },
        "outputId": "816e8470-0b13-4554-bc3e-db7bb9777032"
      },
      "id": "n7gbGtKkW9S_",
      "execution_count": null,
      "outputs": [
        {
          "output_type": "execute_result",
          "data": {
            "text/plain": [
              "'full'"
            ],
            "application/vnd.google.colaboratory.intrinsic+json": {
              "type": "string"
            }
          },
          "metadata": {},
          "execution_count": 11
        }
      ]
    },
    {
      "cell_type": "markdown",
      "source": [
        "---\n",
        "\n",
        "### **Now it's your turn! Try Problems #2.4 - 2.10 on your own.**\n",
        "\n",
        "---"
      ],
      "metadata": {
        "id": "B9w5PxHDvUmQ"
      },
      "id": "B9w5PxHDvUmQ"
    },
    {
      "cell_type": "markdown",
      "source": [
        "###**Problem #2.4**\n",
        "\n",
        "**Independently**, create a new `baby` object, and output the `mood` attribute. Then, use its `play` method and output the `mood` attribute once again."
      ],
      "metadata": {
        "id": "PpyG4J8jyB_u"
      },
      "id": "PpyG4J8jyB_u"
    },
    {
      "cell_type": "code",
      "source": [
        "cutie = baby()\n",
        "cutie.mood\n",
        "cutie.play()\n",
        "cutie.mood"
      ],
      "metadata": {
        "id": "za3WWQC6zl_y",
        "colab": {
          "base_uri": "https://localhost:8080/",
          "height": 35
        },
        "outputId": "db54d9fe-2475-43ed-963f-f4d12521f39f"
      },
      "id": "za3WWQC6zl_y",
      "execution_count": null,
      "outputs": [
        {
          "output_type": "execute_result",
          "data": {
            "text/plain": [
              "'happy'"
            ],
            "application/vnd.google.colaboratory.intrinsic+json": {
              "type": "string"
            }
          },
          "metadata": {},
          "execution_count": 12
        }
      ]
    },
    {
      "cell_type": "markdown",
      "source": [
        "###**Problem #2.5**\n",
        "\n",
        "**Independently**,\n",
        "\n",
        "\n",
        "*   Create a new `baby` object. Output its age attribute.\n",
        "*   Next, use its `feed` method, use its `play` method, and set its age attribute to 1.\n",
        "* Then, output its `mood`, `hunger`, and new `age` attributes.\n",
        "\n",
        "\n",
        "\n"
      ],
      "metadata": {
        "id": "y06lT5ANLLjA"
      },
      "id": "y06lT5ANLLjA"
    },
    {
      "cell_type": "code",
      "source": [
        "qt = baby()\n",
        "qt.age"
      ],
      "metadata": {
        "id": "ECzPUucnM9wF",
        "colab": {
          "base_uri": "https://localhost:8080/"
        },
        "outputId": "4aecec7e-f54a-4b07-8fcb-23b80a15d874"
      },
      "id": "ECzPUucnM9wF",
      "execution_count": null,
      "outputs": [
        {
          "output_type": "execute_result",
          "data": {
            "text/plain": [
              "0"
            ]
          },
          "metadata": {},
          "execution_count": 14
        }
      ]
    },
    {
      "cell_type": "code",
      "source": [
        "qt.feed()\n",
        "qt.play()\n",
        "qt.age = 1"
      ],
      "metadata": {
        "id": "ovWX1bpNM9e5"
      },
      "id": "ovWX1bpNM9e5",
      "execution_count": null,
      "outputs": []
    },
    {
      "cell_type": "code",
      "source": [
        "qt.mood\n",
        "qt.hunger\n",
        "qt.age"
      ],
      "metadata": {
        "id": "QwNeCFwMXSQ5",
        "colab": {
          "base_uri": "https://localhost:8080/"
        },
        "outputId": "530aa5da-1c23-4913-b01f-a9948bef0c9f"
      },
      "id": "QwNeCFwMXSQ5",
      "execution_count": null,
      "outputs": [
        {
          "output_type": "execute_result",
          "data": {
            "text/plain": [
              "1"
            ]
          },
          "metadata": {},
          "execution_count": 16
        }
      ]
    },
    {
      "cell_type": "markdown",
      "source": [
        "### **Problem #2.6**\n",
        "\n",
        "**Together**, create a `second_lab` object, and set the `TA` attribute to the name of your TA. Then, output the `TA` attribute."
      ],
      "metadata": {
        "id": "9cPRASJ84IOA"
      },
      "id": "9cPRASJ84IOA"
    },
    {
      "cell_type": "code",
      "source": [
        "lab = second_lab()\n",
        "lab.TA = \"idk\"\n",
        "lab.TA"
      ],
      "metadata": {
        "id": "waLbv5zf4IOZ",
        "colab": {
          "base_uri": "https://localhost:8080/",
          "height": 35
        },
        "outputId": "197f68a1-e3bf-4946-89ac-c99e75f7c43b"
      },
      "execution_count": null,
      "outputs": [
        {
          "output_type": "execute_result",
          "data": {
            "text/plain": [
              "'idk'"
            ],
            "application/vnd.google.colaboratory.intrinsic+json": {
              "type": "string"
            }
          },
          "metadata": {},
          "execution_count": 17
        }
      ],
      "id": "waLbv5zf4IOZ"
    },
    {
      "cell_type": "markdown",
      "source": [
        "### **Problem #2.7**\n",
        "\n",
        "**Independently**, use the `attendance_code` attribute of the `second_lab` object to find today's attendance poll code.\n"
      ],
      "metadata": {
        "id": "lVSDMw5H3eXk"
      },
      "id": "lVSDMw5H3eXk"
    },
    {
      "cell_type": "code",
      "source": [
        "lab.attendance_code"
      ],
      "metadata": {
        "id": "p2BGGITW3eYE",
        "colab": {
          "base_uri": "https://localhost:8080/"
        },
        "outputId": "475cb3a2-8912-4df0-a821-ca043244ed29"
      },
      "execution_count": null,
      "outputs": [
        {
          "output_type": "execute_result",
          "data": {
            "text/plain": [
              "1234"
            ]
          },
          "metadata": {},
          "execution_count": 18
        }
      ],
      "id": "p2BGGITW3eYE"
    },
    {
      "cell_type": "markdown",
      "source": [
        "### **Problem #2.8**\n",
        "\n",
        "**Independently**, use the `check_in` method of the `second_lab` object to add your name to the list of attendees. This method requires one argument: the name of the person checking in. Check that your name was added to the list of attendees by checking the `attendees` attribute.\n"
      ],
      "metadata": {
        "id": "6tjrl7kx2-Sz"
      },
      "id": "6tjrl7kx2-Sz"
    },
    {
      "cell_type": "code",
      "source": [
        "lab.check_in(\"Jessica\")\n",
        "lab.attendees"
      ],
      "metadata": {
        "id": "nYpfSXby2-S9",
        "colab": {
          "base_uri": "https://localhost:8080/"
        },
        "outputId": "c3ab3030-4404-44af-c549-8f6b3c33fdc3"
      },
      "execution_count": null,
      "outputs": [
        {
          "output_type": "execute_result",
          "data": {
            "text/plain": [
              "['Jessica']"
            ]
          },
          "metadata": {},
          "execution_count": 19
        }
      ],
      "id": "nYpfSXby2-S9"
    },
    {
      "cell_type": "markdown",
      "source": [
        "###**Problem #2.9**\n",
        "\n",
        "**Independently**, create a `plant` object using its corresponding function. Then, using the following methods, check its health, water it, set it's light level, wait three days, and check its health again.\n",
        "\n",
        "* `check_health()`\n",
        "* `water_plant(amount)`\n",
        "* `set_light(level)`\n",
        "* `wait(num_days)`"
      ],
      "metadata": {
        "id": "uW7IdP0C9WJp"
      },
      "id": "uW7IdP0C9WJp"
    },
    {
      "cell_type": "code",
      "source": [
        "flower = plant()\n",
        "flower.check_health()"
      ],
      "metadata": {
        "id": "1jqDWpnSFjTX",
        "colab": {
          "base_uri": "https://localhost:8080/"
        },
        "outputId": "8c20bf7b-4fca-41d9-d778-67614c32768f"
      },
      "id": "1jqDWpnSFjTX",
      "execution_count": null,
      "outputs": [
        {
          "output_type": "stream",
          "name": "stdout",
          "text": [
            "Your plant's health is a 10/10.\n",
            "If you had to rate the wetness of the soil, it would be a 0/10.\n",
            "Your light is turned up to 0.\n"
          ]
        }
      ]
    },
    {
      "cell_type": "code",
      "source": [
        "flower.water_plant(5)\n",
        "flower.set_light(5)"
      ],
      "metadata": {
        "id": "Uu6nEPLLFjJs",
        "colab": {
          "base_uri": "https://localhost:8080/"
        },
        "outputId": "8c69880f-8d0a-4191-bd76-03314e2bfc26"
      },
      "id": "Uu6nEPLLFjJs",
      "execution_count": null,
      "outputs": [
        {
          "output_type": "stream",
          "name": "stdout",
          "text": [
            "You watered your plant.\n",
            "You set the light to level 5\n"
          ]
        }
      ]
    },
    {
      "cell_type": "code",
      "source": [
        "flower.wait(3)"
      ],
      "metadata": {
        "id": "NpVj77wV9VwJ",
        "colab": {
          "base_uri": "https://localhost:8080/"
        },
        "outputId": "6c38fdac-dba8-4d4c-9401-be625050cd61"
      },
      "id": "NpVj77wV9VwJ",
      "execution_count": null,
      "outputs": [
        {
          "output_type": "stream",
          "name": "stdout",
          "text": [
            "Day 1\n",
            "Your plant needs less light\n",
            "Your plant needs less water\n",
            "Day 2\n",
            "Your plant needs less light\n",
            "Your plant needs more water\n",
            "Day 3\n",
            "Your plant needs less light\n",
            "Your plant needs more water\n"
          ]
        }
      ]
    },
    {
      "cell_type": "code",
      "source": [
        "flower.check_health()"
      ],
      "metadata": {
        "id": "6y0i_BSEHQs1",
        "colab": {
          "base_uri": "https://localhost:8080/"
        },
        "outputId": "543ef247-e475-4c8a-bf46-0f5e46227666"
      },
      "execution_count": null,
      "outputs": [
        {
          "output_type": "stream",
          "name": "stdout",
          "text": [
            "Your plant's health is a 8.8/10.\n",
            "If you had to rate the wetness of the soil, it would be a 0/10.\n",
            "Your light is turned up to 5.\n"
          ]
        }
      ],
      "id": "6y0i_BSEHQs1"
    },
    {
      "cell_type": "markdown",
      "source": [
        "### **Problem #2.10 [CHALLENGE]**\n",
        "\n",
        "**Independently**, add the names of two of your classmates to the list of attendees. Then, check the [methods of the list object](https://www.w3schools.com/python/python_ref_list.asp) to find a method that will sort the list of attendees alphabetically. Finally, call the `lab_summary` method of the `second_lab` object to print out a lab summary (this method does not require any arguments)\n",
        "\n",
        "**Note:** Whenever you get stuck on a piece of code, you can always look up the object or the function you are working with, and there will be documentation describing all methods, attriutes, and required arguments."
      ],
      "metadata": {
        "id": "Os9kMW424iWf"
      },
      "id": "Os9kMW424iWf"
    },
    {
      "cell_type": "code",
      "source": [
        "lab.check_in(\"A\")\n",
        "lab.check_in(\"B\")\n",
        "lab.attendees.sort()\n",
        "lab.lab_summary()\n"
      ],
      "metadata": {
        "id": "Fb6kvtGQ4iWn",
        "colab": {
          "base_uri": "https://localhost:8080/"
        },
        "outputId": "d76f01cf-ff59-4112-9b82-3a66facde9c5"
      },
      "execution_count": null,
      "outputs": [
        {
          "output_type": "stream",
          "name": "stdout",
          "text": [
            "Today in lab, we had an Introduction to Objects and Debugging with our TA, idk. We had some great people in attendance, such as:A, A, A, A, A, A, A, B, B, B, B, B, B, B, Jessica. The attendance code is 1234.\n"
          ]
        }
      ],
      "id": "Fb6kvtGQ4iWn"
    },
    {
      "cell_type": "markdown",
      "source": [
        "---\n",
        "\n",
        "<center>\n",
        "\n",
        "### **Wait for Your Instructor to Continue**\n",
        "\n",
        "---"
      ],
      "metadata": {
        "id": "_uX885yrIh5T"
      },
      "id": "_uX885yrIh5T"
    },
    {
      "cell_type": "markdown",
      "metadata": {
        "id": "XvDIuw6vlsKN"
      },
      "source": [
        "<a name=\"p3\"></a>\n",
        "\n",
        "---\n",
        "## **Part 3: Debugging**\n",
        "---\n",
        "\n",
        "In this part, we will explore how to identify and correct errors in Python.\n",
        "\n",
        "<br>\n",
        "\n",
        "**NOTE**: Here and in general, you may not be familiar with the syntax presented in every line of code. However, you can use what you *do know* to solve the problems here and, often, in general."
      ],
      "id": "XvDIuw6vlsKN"
    },
    {
      "cell_type": "markdown",
      "source": [
        "#### **Problem #3.1**\n",
        "\n",
        "**Together,** remove the line of code that causes the error."
      ],
      "metadata": {
        "id": "ApCmfZIh-ecP"
      },
      "id": "ApCmfZIh-ecP"
    },
    {
      "cell_type": "code",
      "source": [
        "my_list = [1,2,3,4]\n",
        "print(my_list[1])\n",
        "print(my_list[2])\n",
        "print(my_list[3])"
      ],
      "metadata": {
        "id": "_TvLwwZv-ecQ",
        "colab": {
          "base_uri": "https://localhost:8080/"
        },
        "outputId": "54a0f2a8-4000-47b9-9258-032d0234d8f9"
      },
      "execution_count": null,
      "outputs": [
        {
          "output_type": "stream",
          "name": "stdout",
          "text": [
            "2\n",
            "3\n",
            "4\n"
          ]
        }
      ],
      "id": "_TvLwwZv-ecQ"
    },
    {
      "cell_type": "markdown",
      "source": [
        "#### **Problem #3.2**\n",
        "\n",
        "**Together**, correctly print each entry from my_list."
      ],
      "metadata": {
        "id": "rHWtdxaXPOrK"
      },
      "id": "rHWtdxaXPOrK"
    },
    {
      "cell_type": "code",
      "source": [
        "print(my_list[0:4])"
      ],
      "metadata": {
        "id": "sRqUoXp-PjJG",
        "colab": {
          "base_uri": "https://localhost:8080/"
        },
        "outputId": "dc049018-66d9-4bcc-ef0b-376f8a71b70c"
      },
      "id": "sRqUoXp-PjJG",
      "execution_count": null,
      "outputs": [
        {
          "output_type": "stream",
          "name": "stdout",
          "text": [
            "[1, 2, 3, 4]\n"
          ]
        }
      ]
    },
    {
      "cell_type": "markdown",
      "source": [
        "#### **Problem #3.3**\n",
        "\n",
        "**Together,** debug the code shown below."
      ],
      "metadata": {
        "id": "nU_fifgR7jM5"
      },
      "id": "nU_fifgR7jM5"
    },
    {
      "cell_type": "code",
      "source": [
        "#f(x) = ax^2 + bx + c\n",
        "a = 1\n",
        "b = 0\n",
        "c = -9\n",
        "x1 = (-b + (b**2 - 4*a*c)**0.5)/(2*a)\n",
        "x2 = (-b - (b**2 - 4*a*c)**0.5)/(2*a)\n",
        "print(x1)\n",
        "print(x2)"
      ],
      "metadata": {
        "id": "gciUmz8i7jNN",
        "colab": {
          "base_uri": "https://localhost:8080/"
        },
        "outputId": "a9645635-f19c-495c-c770-0621b58b6ef1"
      },
      "execution_count": null,
      "outputs": [
        {
          "output_type": "stream",
          "name": "stdout",
          "text": [
            "3.0\n",
            "-3.0\n"
          ]
        }
      ],
      "id": "gciUmz8i7jNN"
    },
    {
      "cell_type": "markdown",
      "source": [
        "---\n",
        "\n",
        "#### **Now it's your turn! Try Problems #3.4 - 3.8 on your own.**\n",
        "\n",
        "---"
      ],
      "metadata": {
        "id": "ouBGRgNjwk-9"
      },
      "id": "ouBGRgNjwk-9"
    },
    {
      "cell_type": "markdown",
      "source": [
        "#### **Problem #3.4**\n",
        "\n",
        "**Independently,** debug the code shown below."
      ],
      "metadata": {
        "id": "eU1RYFlx8cJ6"
      },
      "id": "eU1RYFlx8cJ6"
    },
    {
      "cell_type": "code",
      "source": [
        "length = 30\n",
        "width = 10\n",
        "area = calculate_area(length, width)\n",
        "print(\"The area is \" + str(area) + \" square meters.\")"
      ],
      "metadata": {
        "id": "7T_0BfxG8cKE",
        "colab": {
          "base_uri": "https://localhost:8080/"
        },
        "outputId": "0bf46347-8f0f-405b-96d6-1b050a53743c"
      },
      "execution_count": null,
      "outputs": [
        {
          "output_type": "stream",
          "name": "stdout",
          "text": [
            "The area is 300 square meters.\n"
          ]
        }
      ],
      "id": "7T_0BfxG8cKE"
    },
    {
      "cell_type": "markdown",
      "source": [
        "#### **Problem #3.5**\n",
        "\n",
        "**Independently,** debug the code shown below."
      ],
      "metadata": {
        "id": "u0vQg1AM8qDU"
      },
      "id": "u0vQg1AM8qDU"
    },
    {
      "cell_type": "code",
      "source": [
        "my_name = \"ricky\"\n",
        "my_name.capitalize()\n",
        "print(my_name)"
      ],
      "metadata": {
        "id": "8mauoKut8qDt",
        "colab": {
          "base_uri": "https://localhost:8080/"
        },
        "outputId": "582610a7-e403-4411-85c3-5537031b6a39"
      },
      "execution_count": null,
      "outputs": [
        {
          "output_type": "stream",
          "name": "stdout",
          "text": [
            "ricky\n"
          ]
        }
      ],
      "id": "8mauoKut8qDt"
    },
    {
      "cell_type": "markdown",
      "source": [
        "#### **Problem #3.6**\n",
        "\n",
        "**Independently**, debug the code shown below."
      ],
      "metadata": {
        "id": "RE9FToJzAqOc"
      },
      "id": "RE9FToJzAqOc"
    },
    {
      "cell_type": "code",
      "source": [
        "x = 47\n",
        "y = 3\n",
        "z = x**y\n",
        "print(z)"
      ],
      "metadata": {
        "colab": {
          "base_uri": "https://localhost:8080/"
        },
        "id": "7kfw5iyWA2a3",
        "outputId": "c4ae5a84-11c8-4b80-d77b-253184bc93f4"
      },
      "execution_count": null,
      "outputs": [
        {
          "output_type": "stream",
          "name": "stdout",
          "text": [
            "103823\n"
          ]
        }
      ],
      "id": "7kfw5iyWA2a3"
    },
    {
      "cell_type": "markdown",
      "source": [
        "#### **Problem #3.7**\n",
        "\n",
        "**Independently**, debug the code shown below."
      ],
      "metadata": {
        "id": "AQ_Z2Ct9_QG9"
      },
      "id": "AQ_Z2Ct9_QG9"
    },
    {
      "cell_type": "code",
      "source": [
        "willoughby = baby()\n",
        "print(willoughby.mood)\n",
        "willoughby.play()\n",
        "print(willoughby.mood)"
      ],
      "metadata": {
        "colab": {
          "base_uri": "https://localhost:8080/"
        },
        "id": "LJdSVbcc_eeF",
        "outputId": "8107269a-0dbf-488e-e668-d931c335d8b3"
      },
      "execution_count": null,
      "outputs": [
        {
          "output_type": "stream",
          "name": "stdout",
          "text": [
            "crying\n",
            "happy\n"
          ]
        }
      ],
      "id": "LJdSVbcc_eeF"
    },
    {
      "cell_type": "markdown",
      "source": [
        "#### **Problem #3.8**\n",
        "\n",
        "**Independently**, debug the code shown below."
      ],
      "metadata": {
        "id": "NfApuJeDC6Ht"
      },
      "id": "NfApuJeDC6Ht"
    },
    {
      "cell_type": "code",
      "source": [
        "cactus = plant()\n",
        "cactus.check_health()"
      ],
      "metadata": {
        "colab": {
          "base_uri": "https://localhost:8080/"
        },
        "id": "NF2e5jYVDSh3",
        "outputId": "c1e17ccb-25f0-4831-8fd2-968a932a2bfa"
      },
      "execution_count": null,
      "outputs": [
        {
          "output_type": "stream",
          "name": "stdout",
          "text": [
            "Your plant's health is a 10/10.\n",
            "If you had to rate the wetness of the soil, it would be a 0/10.\n",
            "Your light is turned up to 0.\n"
          ]
        }
      ],
      "id": "NF2e5jYVDSh3"
    },
    {
      "cell_type": "code",
      "source": [
        "cactus.water_plant(1)\n",
        "cactus.set_light(8)\n",
        "cactus.check_health()"
      ],
      "metadata": {
        "colab": {
          "base_uri": "https://localhost:8080/"
        },
        "id": "7xvp4wRJEavz",
        "outputId": "d181d61c-ff8f-4162-ad89-81cefe71e257"
      },
      "execution_count": null,
      "outputs": [
        {
          "output_type": "stream",
          "name": "stdout",
          "text": [
            "You watered your plant.\n",
            "You set the light to level 8\n",
            "Your plant's health is a 10/10.\n",
            "If you had to rate the wetness of the soil, it would be a 1/10.\n",
            "Your light is turned up to 8.\n"
          ]
        }
      ],
      "id": "7xvp4wRJEavz"
    },
    {
      "cell_type": "code",
      "source": [
        "cactus.wait(3)\n",
        "cactus.check_health()"
      ],
      "metadata": {
        "colab": {
          "base_uri": "https://localhost:8080/"
        },
        "id": "ik32NRnZEbFV",
        "outputId": "c5057a05-3629-48df-cd52-6223215a1a3b"
      },
      "execution_count": null,
      "outputs": [
        {
          "output_type": "stream",
          "name": "stdout",
          "text": [
            "Day 1\n",
            "Your plant looks happy with the light it has.\n",
            "Your plant needs more water\n",
            "Day 2\n",
            "Your plant looks happy with the light it has.\n",
            "Your plant needs more water\n",
            "Day 3\n",
            "Your plant looks happy with the light it has.\n",
            "Your plant needs more water\n",
            "Your plant's health is a 7.7/10.\n",
            "If you had to rate the wetness of the soil, it would be a 0/10.\n",
            "Your light is turned up to 8.\n"
          ]
        }
      ],
      "id": "ik32NRnZEbFV"
    },
    {
      "cell_type": "markdown",
      "metadata": {
        "id": "VnBfb8HlRC3c"
      },
      "source": [
        "<a name=\"p4\"></a>\n",
        "\n",
        "---\n",
        "## **Part 4: Additional Practice [OPTIONAL]**\n",
        "---"
      ],
      "id": "VnBfb8HlRC3c"
    },
    {
      "cell_type": "markdown",
      "metadata": {
        "id": "cQ8l5K3qRQAa"
      },
      "source": [
        "<a name=\"p4.1\"></a>\n",
        "\n",
        "---\n",
        "### **Part 4.1: The Fundamentals**\n",
        "---\n",
        "\n",
        "This part contains questions on the basic syntax that we have learned. Use this section to practice and check your understanding."
      ],
      "id": "cQ8l5K3qRQAa"
    },
    {
      "cell_type": "markdown",
      "metadata": {
        "id": "oMCHyhfet4wi"
      },
      "source": [
        "#### **Problem #4.1.1**\n",
        "\n",
        "Write code that outputs the names of three different countries. **HINT**: You will need a new code cell for every output."
      ],
      "id": "oMCHyhfet4wi"
    },
    {
      "cell_type": "code",
      "execution_count": null,
      "metadata": {
        "id": "_WGe1OS14lY4",
        "colab": {
          "base_uri": "https://localhost:8080/"
        },
        "outputId": "d49384bc-6737-4c07-d35b-5ae210d8bceb"
      },
      "outputs": [
        {
          "output_type": "stream",
          "name": "stdout",
          "text": [
            "United States\n"
          ]
        }
      ],
      "source": [
        "print(\"United States\")"
      ],
      "id": "_WGe1OS14lY4"
    },
    {
      "cell_type": "code",
      "source": [
        "print(\"China\")"
      ],
      "metadata": {
        "id": "oEnG4TGIsRFV",
        "colab": {
          "base_uri": "https://localhost:8080/"
        },
        "outputId": "5f18c9ca-a918-40df-ca6d-19f533e46fbd"
      },
      "execution_count": null,
      "outputs": [
        {
          "output_type": "stream",
          "name": "stdout",
          "text": [
            "China\n"
          ]
        }
      ],
      "id": "oEnG4TGIsRFV"
    },
    {
      "cell_type": "code",
      "source": [
        "print(\"Germany\")"
      ],
      "metadata": {
        "id": "fp5qPW6HsRk-",
        "colab": {
          "base_uri": "https://localhost:8080/"
        },
        "outputId": "2eae1df4-9406-44e9-e68a-b7e2df73bbe8"
      },
      "execution_count": null,
      "outputs": [
        {
          "output_type": "stream",
          "name": "stdout",
          "text": [
            "Germany\n"
          ]
        }
      ],
      "id": "fp5qPW6HsRk-"
    },
    {
      "cell_type": "markdown",
      "metadata": {
        "id": "QinoVuPOAdBg"
      },
      "source": [
        "#### **Problem #4.1.2**\n",
        "\n",
        "Write code that outputs the result of multiplying 5 by 23."
      ],
      "id": "QinoVuPOAdBg"
    },
    {
      "cell_type": "code",
      "execution_count": null,
      "metadata": {
        "id": "z4kNYrt2Nj0W",
        "colab": {
          "base_uri": "https://localhost:8080/"
        },
        "outputId": "ed6d5b23-2c43-4011-ab7e-1bf674db3003"
      },
      "outputs": [
        {
          "output_type": "execute_result",
          "data": {
            "text/plain": [
              "115"
            ]
          },
          "metadata": {},
          "execution_count": 52
        }
      ],
      "source": [
        "5 * 23"
      ],
      "id": "z4kNYrt2Nj0W"
    },
    {
      "cell_type": "markdown",
      "metadata": {
        "id": "brKDsi2BuT75"
      },
      "source": [
        "#### **Problem #4.1.3**\n",
        "\n",
        "Write code that outputs the result of raising 2 to the 100th power."
      ],
      "id": "brKDsi2BuT75"
    },
    {
      "cell_type": "code",
      "execution_count": null,
      "metadata": {
        "id": "_XU69Lrc4mJ-",
        "colab": {
          "base_uri": "https://localhost:8080/"
        },
        "outputId": "81bc4e36-b673-48dc-86d1-7cd3b9185a94"
      },
      "outputs": [
        {
          "output_type": "execute_result",
          "data": {
            "text/plain": [
              "1267650600228229401496703205376"
            ]
          },
          "metadata": {},
          "execution_count": 53
        }
      ],
      "source": [
        "2 ** 100"
      ],
      "id": "_XU69Lrc4mJ-"
    },
    {
      "cell_type": "markdown",
      "metadata": {
        "id": "DrNIKf1TAo1z"
      },
      "source": [
        "#### **Problem #4.1.4**\n",
        "Write code that creates and outputs a variable called `popular_name` and assign to it the `string` `'Olivia'`."
      ],
      "id": "DrNIKf1TAo1z"
    },
    {
      "cell_type": "code",
      "execution_count": null,
      "metadata": {
        "id": "cD69JsmO47iH",
        "colab": {
          "base_uri": "https://localhost:8080/",
          "height": 35
        },
        "outputId": "0f016a76-dfc2-4696-8ec2-2ce924135eff"
      },
      "outputs": [
        {
          "output_type": "execute_result",
          "data": {
            "text/plain": [
              "'Olivia'"
            ],
            "application/vnd.google.colaboratory.intrinsic+json": {
              "type": "string"
            }
          },
          "metadata": {},
          "execution_count": 55
        }
      ],
      "source": [
        "popular_name = \"Olivia\"\n",
        "popular_name"
      ],
      "id": "cD69JsmO47iH"
    },
    {
      "cell_type": "markdown",
      "metadata": {
        "id": "oLDz58wguUFM"
      },
      "source": [
        "#### **Problem #4.1.5**\n",
        "\n",
        "Create a variable `birth_year` and set it equal to the year your were born. Then print, `\"I was born in <birth_year>\"`."
      ],
      "id": "oLDz58wguUFM"
    },
    {
      "cell_type": "code",
      "execution_count": null,
      "metadata": {
        "id": "xt9fHgKF5Az3"
      },
      "outputs": [],
      "source": [
        "birth_year = 2005"
      ],
      "id": "xt9fHgKF5Az3"
    },
    {
      "cell_type": "code",
      "source": [
        "print(\"I was born in \" + str(birth_year))"
      ],
      "metadata": {
        "id": "S2qI4u-dr3Kz",
        "colab": {
          "base_uri": "https://localhost:8080/"
        },
        "outputId": "757b9537-3241-4162-cae9-0e16c0d3ae3f"
      },
      "execution_count": null,
      "outputs": [
        {
          "output_type": "stream",
          "name": "stdout",
          "text": [
            "I was born in 2005\n"
          ]
        }
      ],
      "id": "S2qI4u-dr3Kz"
    },
    {
      "cell_type": "markdown",
      "metadata": {
        "id": "-bnV4zY2yMs8"
      },
      "source": [
        "#### **Problem #4.1.6**\n",
        "\n",
        "Create a variable `favorite_food` and assign to it a `string` with your favorite food. Print `'I love to eat <favorite_food>'`."
      ],
      "id": "-bnV4zY2yMs8"
    },
    {
      "cell_type": "code",
      "execution_count": null,
      "metadata": {
        "id": "DqES7-rS5jcm"
      },
      "outputs": [],
      "source": [
        "favorite_food = \"pizza\""
      ],
      "id": "DqES7-rS5jcm"
    },
    {
      "cell_type": "code",
      "source": [
        "print(\"I love to eat \" + favorite_food)"
      ],
      "metadata": {
        "id": "jLNR6hi0sFEQ",
        "colab": {
          "base_uri": "https://localhost:8080/"
        },
        "outputId": "89c167ac-ea0a-4263-eec0-6ec5d7f7b2d6"
      },
      "execution_count": null,
      "outputs": [
        {
          "output_type": "stream",
          "name": "stdout",
          "text": [
            "I love to eat pizza\n"
          ]
        }
      ],
      "id": "jLNR6hi0sFEQ"
    },
    {
      "cell_type": "markdown",
      "source": [
        "#### **Problem #4.1.7**\n",
        "\n",
        "Debug the code shown below."
      ],
      "metadata": {
        "id": "WwhkO1SgAuov"
      },
      "id": "WwhkO1SgAuov"
    },
    {
      "cell_type": "code",
      "source": [
        "my_list = [10]\n",
        "my_list.append(20)\n",
        "my_list.append(30)"
      ],
      "metadata": {
        "id": "Rhg2s6BIAupN"
      },
      "execution_count": null,
      "outputs": [],
      "id": "Rhg2s6BIAupN"
    },
    {
      "cell_type": "markdown",
      "source": [
        "#### **Problem #4.1.8**\n",
        "\n",
        "Debug the following code.\n",
        "\n",
        "**HINT**: How many roots should this polynomial have? Even if you're not sure about the math, you could use some of the code below to find out!"
      ],
      "metadata": {
        "id": "eyRaXBoqAfLp"
      },
      "id": "eyRaXBoqAfLp"
    },
    {
      "cell_type": "code",
      "source": [
        "#f(x) = x^2 + 2x + 1\n",
        "def dynamic_find_roots(a, b, c):\n",
        "    discriminant = b**2 - 4*a*c\n",
        "    if discriminant > 0:\n",
        "        root1 = (-b + discriminant**0.5) / (2*a)\n",
        "        root2 = (-b - discriminant**0.5) / (2*a)\n",
        "        return root1, root2\n",
        "    elif discriminant == 0:\n",
        "        root = -b / (2*a)\n",
        "        return root\n",
        "    else:\n",
        "        return \"none\"\n",
        "dynamic_find_roots(1, 2, 1)"
      ],
      "metadata": {
        "id": "kIDe-AnOAfME",
        "colab": {
          "base_uri": "https://localhost:8080/"
        },
        "outputId": "5b16f100-cde7-4182-c060-242016a38dda"
      },
      "execution_count": null,
      "outputs": [
        {
          "output_type": "execute_result",
          "data": {
            "text/plain": [
              "-1.0"
            ]
          },
          "metadata": {},
          "execution_count": 82
        }
      ],
      "id": "kIDe-AnOAfME"
    },
    {
      "cell_type": "markdown",
      "metadata": {
        "id": "cyjIYqnXCenC"
      },
      "source": [
        "<a name=\"p4.2\"></a>\n",
        "\n",
        "---\n",
        "### **Part 4.2: Coding Challenges**\n",
        "---\n",
        "\n",
        "This part contains more challenging problems that you can use to push your Python skills to the next level! **Remember what we have learned about the core programming skills of debugging and reading documentation to tackle these problems.**"
      ],
      "id": "cyjIYqnXCenC"
    },
    {
      "cell_type": "markdown",
      "source": [
        "#### **Problem #4.2.1**\n",
        "\n",
        "**Independently,** write code that prints out a reversed list."
      ],
      "metadata": {
        "id": "gAnsBVX0Gpwl"
      },
      "id": "gAnsBVX0Gpwl"
    },
    {
      "cell_type": "code",
      "source": [
        "my_list = [\"one\",\"two\",\"three\", \"four\",\"five\"]\n",
        "print(my_list[::-1])"
      ],
      "metadata": {
        "id": "YCOSc8uGGpw6",
        "colab": {
          "base_uri": "https://localhost:8080/"
        },
        "outputId": "31d2d1cf-2c47-49c1-cefe-96e1921dd217"
      },
      "execution_count": null,
      "outputs": [
        {
          "output_type": "stream",
          "name": "stdout",
          "text": [
            "['five', 'four', 'three', 'two', 'one']\n"
          ]
        }
      ],
      "id": "YCOSc8uGGpw6"
    },
    {
      "cell_type": "markdown",
      "source": [
        "#### **Problem #4.2.2**\n",
        "\n",
        "**Independently,** write code that counts how many times [this article](https://www.ted.com/read/ted-studies/statistics/introductory-essay) uses the word \"data\".\n",
        "\n",
        "**Hint:** The string \"data\" is different from the string \"Data\". You will need to check for both!"
      ],
      "metadata": {
        "id": "so8qhJ7dHtLn"
      },
      "id": "so8qhJ7dHtLn"
    },
    {
      "cell_type": "code",
      "source": [
        "speech = \"\"\"In today's complex 'information jungle,' David McCandless observes that \"Data is the new soil.\" McCandless, a data journalist and information designer, celebrates data as a ubiquitous resource providing a fertile and creative medium from which new ideas and understanding can grow. McCandless's inspiration, statistician Hans Rosling, builds on this idea in his own TEDTalk with his compelling image of flowers growing out of data/soil. These 'flowers' represent the many insights that can be gleaned from effective visualization of data. We're just learning how to till this soil and make sense of the mountains of data constantly being generated. As Gary King, Director of Harvard's Institute for Quantitative Social Science says in his New York Times article \"The Age of Big Data\": It's a revolution. We're really just getting under way. But the march of quantification, made possible by enormous new sources of data, will sweep through academia, business and government. There is no area that is going to be untouched. How do we deal with all this data without getting information overload? How do we use data to gain real insight into the world? Finding ways to pull interesting information out of data can be very rewarding, both personally and professionally. The managing editor of Financial Times observed on CNN's Your Money: \"The people who are able to in a sophisticated and practical way analyze that data are going to have terrific jobs.\" Those who learn how to present data in effective ways will be valuable in every field. Many people, when they think of data, think of tables filled with numbers. But this long-held notion is eroding. Today, we're generating streams of data that are often too complex to be presented in a simple \"table.\" In his TEDTalk, Blaise Aguera y Arcas explores images as data, while Deb Roy uses audio, video, and the text messages in social media as data. Some may also think that only a few specialized professionals can draw insights from data. When we look at data in the right way, however, the results can be fun, insightful, even whimsical — and accessible to everyone! Who knew, for example, that there are more relationship break-ups on Monday than on any other day of the week, or that the most break-ups (at least those discussed on Facebook) occur in mid-December? David McCandless discovered this by analyzing thousands of Facebook status updates. Data, data, everywhere There is more data available to us now than we can possibly process. Every minute, Internet users add the following to the big data pool (i): 204,166,667 email messages sent. More than 2,000,000 Google searches. 84,478 pieces of content added on Facebook. $272,070 spent by consumers via online shopping. More than 100,000 tweets on Twitter. 47,000 app downloads from Apple. 34,722 \"likes\" on Facebook for different brands and organizations. 27,778 new posts on Tumblr blogs\\. 3,600 new photos on Instagram. 3,125 new photos on Flickr]. 2,083 check-ins on Foursquare. 571 new websites created. 347 new blog posts published on Wordpress. 217 new mobile web users. 48 hours of new video on YouTube. These numbers are almost certainly higher now, as you read this. And this just describes a small piece of the data being generated and stored by humanity. We're all leaving data trails — not just on the Internet, but in everything we do. This includes reams of financial data (from credit cards, businesses, and Wall Street), demographic data on the world's populations, meteorological data on weather and the environment, retail sales data that records everything we buy, nutritional data on food and restaurants, sports data of all types, and so on.. Governments are using data to search for terrorist plots, retailers are using it to maximize marketing strategies, and health organizations are using it to track outbreaks of the flu. But did you ever think of collecting data on every minute of your child's life? That's precisely what Deb Roy did. He recorded 90,000 hours of video and 140,000 hours of audio during his son's first years. That's a lot of data! He and his colleagues are using the data to understand how children learn language, and they're now extending this work to analyze publicly available conversations on social media, allowing them to take \"the real-time pulse of a nation.\" Data can provide us with new and deeper insight into our world. It can help break stereotypes and build understanding. But the sheer quantity of data, even in just any one small area of interest, is overwhelming. How can we make sense of some of this data in an insightful way? The power of visualizing data. Visualization can help transform these mountains of data into meaningful information. In his TEDTalk, David McCandless comments that the sense of sight has by far the fastest and biggest bandwidth of any of the five senses. Indeed, about 80% of the information we take in is by eye. Data that seems impenetrable can come alive if presented well in a picture, graph, or even a movie. Hans Rosling tells us that \"Students get very excited — and policy-makers and the corporate sector — when they can see the data.\" It makes sense that, if we can effectively display data visually, we can make it accessible and understandable to more people. Should we worry, however, that by condensing data into a graph, we are simplifying too much and losing some of the important features of the data? Let's look at a fascinating study conducted by researchers Emre Soyer and Robin Hogarth. The study was conducted on economists, who are certainly no strangers to statistical analysis. Three groups of economists were asked the same question concerning a dataset: One group was given the data and a standard statistical analysis of the data; 72% of these economists got the answer wrong. Another group was given the data, the statistical analysis, and a graph; still 61% of these economists got the answer wrong. A third group was given only the graph, and only 3% got the answer wrong. Visualizing data can sometimes be less misleading than using the raw numbers and statistics! What about all the rest of us, who may not be professional economists or statisticians? Nathalie Miebach finds that making art out of data allows people an alternative entry into science. She transforms mountains of weather data into tactile physical structures and musical scores, adding both touch and hearing to the sense of sight to build even greater understanding of data. Another artist, Chris Jordan, is concerned about our ability to comprehend big numbers. As citizens of an ever-more connected global world, we have an increased need to get useable information from big data — big in terms of the volume of numbers as well as their size. Jordan's art is designed to help us process such numbers, especially numbers that relate to issues of addiction and waste. For example, Jordan notes that the United States has the largest percentage of its population in prison of any country on earth: 2.3 million people in prison in the United States in 2005 and the number continues to rise. Jordan uses art, in this case a super-sized image of 2.3 million prison jumpsuits, to help us see that number and to help us begin to process the societal implications of that single data value. Because our brains can't truly process such a large number, his artwork makes it real. The role of technology in visualizing data. The TEDTalks in this collection depend to varying degrees on sophisticated technology to gather, store, process, and display data. Handling massive amounts of data (e.g., David McCandless tracking 10,000 changes in Facebook status, Blaise Aguera y Arcas synching thousands of online images of the Notre Dame Cathedral, or Deb Roy searching for individual words in 90,000 hours of video tape) requires cutting-edge computing tools that have been developed specifically to address the challenges of big data. The ability to manipulate color, size, location, motion, and sound to discover and display important features of data in a way that makes it readily accessible to ordinary humans is a challenging task that depends heavily on increasingly sophisticated technology.. The importance of good visualization. There are good ways and bad ways of presenting data. Many examples of outstanding presentations of data are shown in the TEDTalks. However, sometimes visualizations of data can be ineffective or downright misleading. For example, an inappropriate scale might make a relatively small difference look much more substantial than it should be, or an overly complicated display might obfuscate the main relationships in the data. Statistician Kaiser Fung's blog Junk Charts offers many examples of poor representations of data (and some good ones) with descriptions to help the reader understand what makes a graph effective or ineffective. For more examples of both good and bad representations of data, see data visualization architect Andy Kirk's blog at visualisingdata.com. Both consistently have very current examples from up-to-date sources and events. Creativity, even artistic ability, helps us see data in new ways. Magic happens when interesting data meets effective design: when statistician meets designer (sometimes within the same person). We are fortunate to live in a time when interactive and animated graphs are becoming commonplace, and these tools can be incredibly powerful. Other times, simpler graphs might be more effective. The key is to present data in a way that is visually appealing while allowing the data to speak for itself. Changing perceptions through data. While graphs and charts can lead to misunderstandings, there is ultimately \"truth in numbers.\" As Steven Levitt and Stephen Dubner say in Freakonomics, \"[T]eachers and criminals and real-estate agents may lie, and politicians, and even C.I.A. analysts. But numbers don't.\" Indeed, consideration of data can often be the easiest way to glean objective insights. Again from Freakonomics: \"There is nothing like the sheer power of numbers to scrub away layers of confusion and contradiction.\" Data can help us understand the world as it is, not as we believe it to be. As Hans Rosling demonstrates, it's often not ignorance but our preconceived ideas that get in the way of understanding the world as it is. Publicly-available statistics can reshape our world view: Rosling encourages us to \"let the dataset change your mindset.\" Chris Jordan's powerful images of waste and addiction make us face, rather than deny, the facts. It's easy to hear and then ignore that we use and discard 1 million plastic cups every 6 hours on airline flights alone. When we're confronted with his powerful image, we engage with that fact on an entirely different level (and may never see airline plastic cups in the same way again). The ability to see data expands our perceptions of the world in ways that we're just beginning to understand. Computer simulations allow us to see how diseases spread, how forest fires might be contained, how terror networks communicate. We gain understanding of these things in ways that were unimaginable only a few decades ago. When Blaise Aguera y Arcas demonstrates Photosynth, we feel as if we're looking at the future. By linking together user-contributed digital images culled from all over the Internet, he creates navigable \"immensely rich virtual models of every interesting part of the earth\" created from the collective memory of all of us. Deb Roy does somewhat the same thing with language, pulling in publicly available social media feeds to analyze national and global conversation trends. Roy sums it up with these powerful words: \"What's emerging is an ability to see new social structures and dynamics that have previously not been seen. ...The implications here are profound, whether it's for science, for commerce, for government, or perhaps most of all, for us as individuals.\" Let's begin with the TEDTalk from David McCandless, a self-described \"data detective\" who describes how to highlight hidden patterns in data through its artful representation.\"\"\"\n",
        "\n",
        "\n",
        "speech.lower().count(\"data\")"
      ],
      "metadata": {
        "id": "_4601pvz1SFE",
        "colab": {
          "base_uri": "https://localhost:8080/"
        },
        "outputId": "ca78d20e-e948-473f-9c9d-c832ddacb3dd"
      },
      "execution_count": null,
      "outputs": [
        {
          "output_type": "execute_result",
          "data": {
            "text/plain": [
              "79"
            ]
          },
          "metadata": {},
          "execution_count": 70
        }
      ],
      "id": "_4601pvz1SFE"
    },
    {
      "cell_type": "markdown",
      "source": [
        "#### **Problem #4.2.3**\n",
        "\n",
        "**Independently**, research the `dir()` function and what it does to different objects. Use this function to win the plant game from Part 2!"
      ],
      "metadata": {
        "id": "iJKitlSANW32"
      },
      "id": "iJKitlSANW32"
    },
    {
      "cell_type": "code",
      "source": [
        "class Plant:\n",
        "    def __init__(self, name):\n",
        "        self.name = name\n",
        "\n",
        "    def water(self):\n",
        "        print(f'{self.name} has been watered.')\n",
        "\n",
        "    def sunlight(self):\n",
        "        print(f'{self.name} is getting sunlight.')\n",
        "\n",
        "# Create an instance of the Plant class\n",
        "my_plant = Plant(\"Rose\")\n",
        "\n",
        "# Use dir() to see available attributes and methods\n",
        "print(dir(my_plant))"
      ],
      "metadata": {
        "id": "Q33-zYXfNW4O",
        "colab": {
          "base_uri": "https://localhost:8080/"
        },
        "outputId": "8ac2baa8-b80a-44df-b5d2-afde515b6849"
      },
      "execution_count": null,
      "outputs": [
        {
          "output_type": "stream",
          "name": "stdout",
          "text": [
            "['__class__', '__delattr__', '__dict__', '__dir__', '__doc__', '__eq__', '__format__', '__ge__', '__getattribute__', '__gt__', '__hash__', '__init__', '__init_subclass__', '__le__', '__lt__', '__module__', '__ne__', '__new__', '__reduce__', '__reduce_ex__', '__repr__', '__setattr__', '__sizeof__', '__str__', '__subclasshook__', '__weakref__', 'name', 'sunlight', 'water']\n"
          ]
        }
      ],
      "id": "Q33-zYXfNW4O"
    },
    {
      "cell_type": "markdown",
      "source": [
        "#### **Problem #4.2.4**\n",
        "\n",
        "**Independently,** research the `numpy` module to find a function that allows you simulate rolling a dice (picking a random number between 1 and 6)."
      ],
      "metadata": {
        "id": "NxqrfDkkJmxT"
      },
      "id": "NxqrfDkkJmxT"
    },
    {
      "cell_type": "code",
      "source": [
        "import numpy as np\n",
        "result = np.random.randint(1, 7)\n",
        "print(f\"The result of rolling the die is: {result}\")"
      ],
      "metadata": {
        "id": "OMyupr31Jmxw",
        "colab": {
          "base_uri": "https://localhost:8080/"
        },
        "outputId": "3dcc612c-bec7-480c-b5b5-ccda0762bdc4"
      },
      "execution_count": null,
      "outputs": [
        {
          "output_type": "stream",
          "name": "stdout",
          "text": [
            "The result of rolling the die is: 3\n"
          ]
        }
      ],
      "id": "OMyupr31Jmxw"
    },
    {
      "cell_type": "markdown",
      "source": [
        "#### **Problem #4.2.5**\n",
        "\n",
        "**Independently,** research the `numpy` library and `pyplot` sub-module of the `matplotlib` library and use its objects, methods, and functions to plot the equation below on a graph whose x-axis ranges from 0 to 42 and whose y-axis ranges from -6 to 6. $$y=5cos(3x)$$"
      ],
      "metadata": {
        "id": "5nImg2rAJ_xe"
      },
      "id": "5nImg2rAJ_xe"
    },
    {
      "cell_type": "code",
      "source": [
        "import numpy as np\n",
        "import matplotlib.pyplot as plt\n",
        "\n",
        "# Generate x values from 0 to 42\n",
        "x = np.linspace(0, 42, 1000)  # Generate 1000 points between 0 and 42\n",
        "\n",
        "# Calculate y values\n",
        "y = 5 * np.cos(3 * x)\n",
        "\n",
        "# Set up the plot\n",
        "plt.figure(figsize=(10, 6))  # Set the figure size\n",
        "\n",
        "# Plot the function\n",
        "plt.plot(x, y, label='y = 5cos(3x)', color='b')\n",
        "\n",
        "# Set the axis ranges\n",
        "plt.xlim(0, 42)\n",
        "plt.ylim(-6, 6)\n",
        "\n",
        "# Add labels and title\n",
        "plt.xlabel('x')\n",
        "plt.ylabel('y')\n",
        "plt.title('Plot of y = 5cos(3x)')\n",
        "\n",
        "# Add a legend\n",
        "plt.legend()\n",
        "\n",
        "# Show the plot\n",
        "plt.grid(True)\n",
        "plt.show()"
      ],
      "metadata": {
        "id": "Tpq46xX2J_xw",
        "colab": {
          "base_uri": "https://localhost:8080/",
          "height": 564
        },
        "outputId": "d379d9ba-48ea-4f14-c6a5-853228678a65"
      },
      "execution_count": null,
      "outputs": [
        {
          "output_type": "display_data",
          "data": {
            "text/plain": [
              "<Figure size 1000x600 with 1 Axes>"
            ],
            "image/png": "[encoded data removed]"
          },
          "metadata": {}
        }
      ],
      "id": "Tpq46xX2J_xw"
    },
    {
      "cell_type": "markdown",
      "metadata": {
        "id": "upPIf6_Drv8S"
      },
      "source": [
        "<a name=\"p5\"></a>\n",
        "\n",
        "---\n",
        "## **Part 5: The `print` Function [OPTIONAL]**\n",
        "---\n",
        "\n",
        "In this part, we will explore how to use functions with the very useful built-in `print` function."
      ],
      "id": "upPIf6_Drv8S"
    },
    {
      "cell_type": "markdown",
      "source": [
        "#### **Problem #5.1**\n",
        "\n",
        "**Together**, let's run the code below to print the text `\"Hello Machine Learning World!\"`."
      ],
      "metadata": {
        "id": "NRqziKbrPR8P"
      },
      "id": "NRqziKbrPR8P"
    },
    {
      "cell_type": "code",
      "source": [
        "print(\"Hello Machine Learning World!\")"
      ],
      "metadata": {
        "colab": {
          "base_uri": "https://localhost:8080/"
        },
        "id": "Ffht71IHPaXm",
        "outputId": "0dbef99b-a3fa-443f-aedf-2b9bc00385b5"
      },
      "execution_count": null,
      "outputs": [
        {
          "output_type": "stream",
          "name": "stdout",
          "text": [
            "Hello Machine Learning World!\n"
          ]
        }
      ],
      "id": "Ffht71IHPaXm"
    },
    {
      "cell_type": "markdown",
      "source": [
        "#### **Problem #5.2**\n",
        "\n",
        "**Together**, let's print the text `\"Hello Machine Learning World!\"` and `\"Nice to meet you!\"` using two separate print statements."
      ],
      "metadata": {
        "id": "ic87Mb_BPjnd"
      },
      "id": "ic87Mb_BPjnd"
    },
    {
      "cell_type": "code",
      "source": [
        "print(\"Hello Machine Learning World!\")\n",
        "print(\"Nice to meet you!\")"
      ],
      "metadata": {
        "id": "lmZncfl_PpwE",
        "colab": {
          "base_uri": "https://localhost:8080/"
        },
        "outputId": "1b52e0cc-be5d-4d09-f803-76b557c11012"
      },
      "execution_count": null,
      "outputs": [
        {
          "output_type": "stream",
          "name": "stdout",
          "text": [
            "Hello Machine Learning World!\n",
            "Nice to meet you!\n"
          ]
        }
      ],
      "id": "lmZncfl_PpwE"
    },
    {
      "cell_type": "markdown",
      "source": [
        "---\n",
        "\n",
        "#### **Now it's your turn! Try Problems #5.3 - 5.5 on your own.**\n",
        "\n",
        "---"
      ],
      "metadata": {
        "id": "kjAVjQqixuJN"
      },
      "id": "kjAVjQqixuJN"
    },
    {
      "cell_type": "markdown",
      "source": [
        "#### **Problem #5.3**\n",
        "\n",
        "**Independently**, complete the code by printing your age."
      ],
      "metadata": {
        "id": "5iVci0CvP761"
      },
      "id": "5iVci0CvP761"
    },
    {
      "cell_type": "code",
      "source": [
        "print(\"My age is: \" + str(18))"
      ],
      "metadata": {
        "id": "RgSCfnZGP762",
        "colab": {
          "base_uri": "https://localhost:8080/"
        },
        "outputId": "1013a213-0bbc-4dec-f215-1682668ad3ee"
      },
      "execution_count": null,
      "outputs": [
        {
          "output_type": "stream",
          "name": "stdout",
          "text": [
            "My age is: 18\n"
          ]
        }
      ],
      "id": "RgSCfnZGP762"
    },
    {
      "cell_type": "markdown",
      "source": [
        "#### **Problem #5.4**\n",
        "\n",
        "**Independently**, complete the code by printing your age on the next line."
      ],
      "metadata": {
        "id": "YtxEjg3VQYu3"
      },
      "id": "YtxEjg3VQYu3"
    },
    {
      "cell_type": "code",
      "source": [
        "print(\"My age is:\")\n",
        "print(18)"
      ],
      "metadata": {
        "id": "3G6zysWQQYvD",
        "colab": {
          "base_uri": "https://localhost:8080/"
        },
        "outputId": "b50b89c5-9e99-456c-c995-dfd0c5337afe"
      },
      "execution_count": null,
      "outputs": [
        {
          "output_type": "stream",
          "name": "stdout",
          "text": [
            "My age is:\n",
            "18\n"
          ]
        }
      ],
      "id": "3G6zysWQQYvD"
    },
    {
      "cell_type": "markdown",
      "source": [
        "#### **Problem #5.5**\n",
        "\n",
        "Write code to print your favorite animal."
      ],
      "metadata": {
        "id": "y2y-I1FlQtyG"
      },
      "id": "y2y-I1FlQtyG"
    },
    {
      "cell_type": "code",
      "source": [
        "print(\"My favorite animal is dogs\")"
      ],
      "metadata": {
        "id": "6Mnuov5fQtyg",
        "colab": {
          "base_uri": "https://localhost:8080/"
        },
        "outputId": "fbf02430-f68e-4577-f2f9-bd3cd49e6294"
      },
      "execution_count": null,
      "outputs": [
        {
          "output_type": "stream",
          "name": "stdout",
          "text": [
            "My favorite animal is dogs\n"
          ]
        }
      ],
      "id": "6Mnuov5fQtyg"
    },
    {
      "cell_type": "markdown",
      "source": [
        "#End of notebook\n",
        "---\n",
        "© 2023 The Coding School, All rights reserved"
      ],
      "metadata": {
        "id": "7dzC09dLlEhm"
      },
      "id": "7dzC09dLlEhm"
    }
  ],
  "metadata": {
    "kernelspec": {
      "display_name": "Python 3 (ipykernel)",
      "language": "python",
      "name": "python3"
    },
    "language_info": {
      "codemirror_mode": {
        "name": "ipython",
        "version": 3
      },
      "file_extension": ".py",
      "mimetype": "text/x-python",
      "name": "python",
      "nbconvert_exporter": "python",
      "pygments_lexer": "ipython3",
      "version": "3.8.13"
    },
    "colab": {
      "provenance": [],
      "include_colab_link": true
    }
  },
  "nbformat": 4,
  "nbformat_minor": 5
}
