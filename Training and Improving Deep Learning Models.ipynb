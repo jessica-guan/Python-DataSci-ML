{
  "nbformat": 4,
  "nbformat_minor": 0,
  "metadata": {
    "colab": {
      "provenance": [],
      "include_colab_link": true
    },
    "kernelspec": {
      "name": "python3",
      "display_name": "Python 3"
    },
    "language_info": {
      "name": "python"
    }
  },
  "cells": [
    {
      "cell_type": "markdown",
      "metadata": {
        "id": "view-in-github",
        "colab_type": "text"
      },
      "source": [
        "<a href=\"https://colab.research.google.com/github/jessica-guan/Python-DataSci-ML/blob/main/Training%20and%20Improving%20Deep%20Learning%20Models.ipynb\" target=\"_parent\"><img src=\"https://colab.research.google.com/assets/colab-badge.svg\" alt=\"Open In Colab\"/></a>"
      ]
    },
    {
      "cell_type": "markdown",
      "source": [
        "# **Homework 17: Training and Improving Deep Learning Models**\n",
        "---\n",
        "\n",
        "### **Description**\n",
        "This homework assignment will focus on training neural networks and fine-tuning deep learning models.\n",
        "\n",
        "<br>\n",
        "\n",
        "### **Structure**\n",
        "**Part 1**: [Breast Cancer Dataset](#p1)\n",
        " >    **Part 1.1**: [Loading the Data](#p1.1)\n",
        "\n",
        " >    **Part 1.2**: [Building and Training a Neural Network](#p1.2)\n",
        "\n",
        ">    **Part 1.3**: [Different Activation Functions](#p1.3)\n",
        "\n",
        "\n",
        "<br>\n",
        "\n",
        "### **Learning Objectives**\n",
        "* Recognize how to train and evaluate a neural network.\n",
        "* Recognize how to do hyperparameter tuning of learning rate, activation functions, and model architecture (layers and neurons).\n",
        "\n",
        "<br>\n",
        "\n",
        "\n",
        "### **Resources**\n",
        "* [Deep Learning with keras](https://docs.google.com/document/d/1WCV2ok7dwPWCid5vdOImknCAJS2te5aQ8yRp6J5Clac/edit?usp=sharing)\n",
        "\n",
        "<br>\n",
        "\n",
        "**Before starting, run the code below to import all necessary functions and libraries.**\n"
      ],
      "metadata": {
        "id": "VmbS0drqZVLW"
      }
    },
    {
      "cell_type": "code",
      "source": [
        "from keras.models import Sequential\n",
        "from keras.layers import *\n",
        "!pip install --quiet keras_visualizer\n",
        "from keras_visualizer import visualizer\n",
        "from IPython.display import Image\n",
        "\n",
        "from keras.optimizers import Adam, SGD\n",
        "from keras.utils import to_categorical\n",
        "\n",
        "import matplotlib.pyplot as plt\n",
        "import numpy as np\n",
        "import pandas as pd\n",
        "\n",
        "from sklearn.model_selection import train_test_split, cross_val_score\n",
        "from sklearn.datasets import load_breast_cancer"
      ],
      "metadata": {
        "id": "qWRalgCfXLrY"
      },
      "execution_count": null,
      "outputs": []
    },
    {
      "cell_type": "markdown",
      "source": [
        "<a name=\"p1\"></a>\n",
        "\n",
        "---\n",
        "## **Part 1: Breast Cancer Dataset**\n",
        "---\n",
        "The Breast Cancer Wisconsin (Diagnostic) dataset is a widely used dataset in machine learning for binary classification tasks. It contains features computed from a digitized image of a fine needle aspirate (FNA) of a breast mass. The dataset includes 569 instances, each with 30 numeric, real-valued features. These features describe characteristics of the cell nuclei present in the images, such as texture, radius, perimeter, area, smoothness, compactness, concavity, concave points, symmetry, and fractal dimension.\n",
        "\n",
        "The target variable in this dataset is binary, indicating whether the breast mass is malignant or benign. This dataset is particularly significant in medical diagnostic research and machine learning due to its real-world implications in breast cancer diagnosis. It's an excellent resource for teaching machine learning techniques, especially in the context of binary classification problems.\n",
        "\n",
        "<br>\n",
        "\n",
        "As a reminder, these are the steps for building and training a neural network.\n",
        "\n",
        "1. Import and split the data into a train/test set\n",
        "2. Determine the dimensions of the data\n",
        "3. Initialize the Network Model\n",
        "4. Add an Input layer to the model\n",
        "5. Add the hidden Layers to the model\n",
        "6. Add the output layer\n",
        "7. Fit the model\n",
        "8. Evaluate the model"
      ],
      "metadata": {
        "id": "h5CSLRZP3bWm"
      }
    },
    {
      "cell_type": "markdown",
      "source": [
        "<a name=\"p1.1\"></a>\n",
        "\n",
        "###**Part 1.1: Loading the Data**"
      ],
      "metadata": {
        "id": "bKaR132ZRLck"
      }
    },
    {
      "cell_type": "markdown",
      "source": [
        "#### **Step #1: Split the data into training and validation datasets.**\n"
      ],
      "metadata": {
        "id": "2FF3JV9f334X"
      }
    },
    {
      "cell_type": "code",
      "source": [
        "data = load_breast_cancer()\n",
        "X = data['data']\n",
        "y = data['target']\n",
        "\n",
        "# Split the data into training and validation sets\n",
        "X_train, X_test, y_train, y_test = train_test_split(X, y, test_size=0.2, random_state=42)"
      ],
      "metadata": {
        "id": "Bh2RG0MK38jz"
      },
      "execution_count": null,
      "outputs": []
    },
    {
      "cell_type": "markdown",
      "source": [
        "#### **Step #2: Determine the dimensions of the data.**"
      ],
      "metadata": {
        "id": "VtP1Wp8CZ0ja"
      }
    },
    {
      "cell_type": "code",
      "source": [
        "print(X.shape, y.shape)"
      ],
      "metadata": {
        "id": "DBH0I3LHZ2xM",
        "colab": {
          "base_uri": "https://localhost:8080/"
        },
        "outputId": "c5d23a78-7907-4b1c-8d6a-7d6f0cda554a"
      },
      "execution_count": null,
      "outputs": [
        {
          "output_type": "stream",
          "name": "stdout",
          "text": [
            "(569, 30) (569,)\n"
          ]
        }
      ]
    },
    {
      "cell_type": "markdown",
      "source": [
        "<a name=\"p1.2\"></a>\n",
        "\n",
        "---\n",
        "###**Part 1.2: Building and Training a Neural Network**\n",
        "---\n",
        "\n",
        "In this part, we will focus on Steps #3 - 6:\n",
        "\n",
        "1. Import and split the data into a train/test set\n",
        "2. Determine the dimensions of the data\n",
        "3. **Initialize the Network Model**\n",
        "4. **Add an Input layer to the model**\n",
        "5. **Add the hidden Layers to the model**\n",
        "6. **Add the output layer**\n",
        "7. Fit the model\n",
        "8. Evaluate the model"
      ],
      "metadata": {
        "id": "ls-3K0ADRY4v"
      }
    },
    {
      "cell_type": "markdown",
      "source": [
        "#### **Steps #3 - 4: Initialize Neural Net and Add Input Layer**\n",
        "\n",
        "Intialize a neural network using `Sequential()` and add an input layer the correct number of neurons."
      ],
      "metadata": {
        "id": "5pcmcSth6RaZ"
      }
    },
    {
      "cell_type": "code",
      "source": [
        "model = Sequential()\n",
        "model.add(Dense(30, input_shape=(30,), activation='relu'))"
      ],
      "metadata": {
        "id": "szPwKsje6Xlr"
      },
      "execution_count": null,
      "outputs": []
    },
    {
      "cell_type": "markdown",
      "source": [
        "#### **Step #5: Add Hidden Layers**\n",
        "\n",
        "Now, add two hidden layers such that:\n",
        "\n",
        "* The first hidden layer should have 12 neurons.\n",
        "* The second hidden layer should have 8 neurons.\n",
        "* Use ReLU activation functions for all dense layers."
      ],
      "metadata": {
        "id": "rkwalOuSR6k9"
      }
    },
    {
      "cell_type": "code",
      "source": [
        "model.add(Dense(30, input_shape=(30,), activation='relu'))\n",
        "model.add(Dense(12, activation='relu'))\n",
        "model.add(Dense(8, activation='relu'))"
      ],
      "metadata": {
        "id": "L7PEfg3iSIWB"
      },
      "execution_count": null,
      "outputs": []
    },
    {
      "cell_type": "markdown",
      "source": [
        "#### **Step #6: Add Output Layer**\n",
        "\n",
        "\n",
        "Lastly, add an output layer that has 1 output node and relu activation. This could be used for tasks such as binary classification (0 or 1 output). Confirm we've made our model correctly using the `visualizer` function.\n"
      ],
      "metadata": {
        "id": "GO8LllLTSqUm"
      }
    },
    {
      "cell_type": "code",
      "source": [
        "from tensorflow.keras.utils import plot_model\n",
        "model.add(Dense(1, activation='relu'))\n",
        "plot_model(model, to_file='model_structure.png', show_shapes=True)"
      ],
      "metadata": {
        "id": "kQ-id_vlXqyP",
        "colab": {
          "base_uri": "https://localhost:8080/",
          "height": 754
        },
        "outputId": "b7f9083c-ae52-4c34-90ce-0f4c8e188180"
      },
      "execution_count": null,
      "outputs": [
        {
          "output_type": "execute_result",
          "data": {
            "image/png": "[encoded data removed]",
            "text/plain": [
              "<IPython.core.display.Image object>"
            ]
          },
          "metadata": {},
          "execution_count": 7
        }
      ]
    },
    {
      "cell_type": "markdown",
      "source": [
        "#### **Step #7: Fit the model**\n",
        "* We will use a learning rate of 0.001.\n",
        "* We will use `mean_squared_error` as the loss function and `mse` as the evaluation metric.\n",
        "* Finally, we will use 10 epochs and a batch size of 64.\n",
        "* We will use 10 epochs and a learning rate of 0.001."
      ],
      "metadata": {
        "id": "Lfl3cBYLT2i6"
      }
    },
    {
      "cell_type": "code",
      "source": [
        "opt = Adam(learning_rate=0.001)\n",
        "model.compile(optimizer=opt, loss='mean_squared_error', metrics=['mse'])\n",
        "history = model.fit(X_train, y_train, epochs=10, batch_size=64, verbose=1)\n",
        "plt.plot(history.history['loss'])\n",
        "plt.title('Training Loss')\n",
        "plt.xlabel('Epoch')\n",
        "plt.ylabel('Loss')\n",
        "plt.show()"
      ],
      "metadata": {
        "id": "JTbb4qwaT2T3",
        "colab": {
          "base_uri": "https://localhost:8080/",
          "height": 819
        },
        "outputId": "8723b7bb-a480-4723-d3e8-e66ded31dc35"
      },
      "execution_count": null,
      "outputs": [
        {
          "metadata": {
            "tags": null
          },
          "name": "stdout",
          "output_type": "stream",
          "text": [
            "Epoch 1/10\n",
            "8/8 [==============================] - 2s 3ms/step - loss: 0.6286 - mse: 0.6286\n",
            "Epoch 2/10\n",
            "8/8 [==============================] - 0s 3ms/step - loss: 0.6286 - mse: 0.6286\n",
            "Epoch 3/10\n",
            "8/8 [==============================] - 0s 3ms/step - loss: 0.6286 - mse: 0.6286\n",
            "Epoch 4/10\n",
            "8/8 [==============================] - 0s 2ms/step - loss: 0.6286 - mse: 0.6286\n",
            "Epoch 5/10\n",
            "8/8 [==============================] - 0s 3ms/step - loss: 0.6286 - mse: 0.6286\n",
            "Epoch 6/10\n",
            "8/8 [==============================] - 0s 2ms/step - loss: 0.6286 - mse: 0.6286\n",
            "Epoch 7/10\n",
            "8/8 [==============================] - 0s 3ms/step - loss: 0.6286 - mse: 0.6286\n",
            "Epoch 8/10\n",
            "8/8 [==============================] - 0s 3ms/step - loss: 0.6286 - mse: 0.6286\n",
            "Epoch 9/10\n",
            "8/8 [==============================] - 0s 3ms/step - loss: 0.6286 - mse: 0.6286\n",
            "Epoch 10/10\n",
            "8/8 [==============================] - 0s 3ms/step - loss: 0.6286 - mse: 0.6286\n"
          ]
        },
        {
          "data": {
            "image/png": "[encoded data removed]",
            "text/plain": [
              "<Figure size 640x480 with 1 Axes>"
            ]
          },
          "metadata": {},
          "output_type": "display_data"
        }
      ]
    },
    {
      "cell_type": "markdown",
      "metadata": {
        "id": "hYTaAz_lDcN8"
      },
      "source": [
        "#### **Step #8: Evaluate and test the model**\n",
        "\n",
        "After training our models, it's always important to get a sense of how well they've learned. So, let's evaluate our model!\n",
        "\n",
        "**Run the code below to perform this step.**\n"
      ]
    },
    {
      "cell_type": "code",
      "source": [
        "print('MSE: ' + str(model.evaluate(X_test, y_test)))"
      ],
      "metadata": {
        "colab": {
          "base_uri": "https://localhost:8080/"
        },
        "id": "sHQuz7Z1UK8A",
        "outputId": "c0041e53-a879-4db2-ff74-904cd12f25c5"
      },
      "execution_count": null,
      "outputs": [
        {
          "output_type": "stream",
          "name": "stdout",
          "text": [
            "4/4 [==============================] - 0s 8ms/step - loss: 0.6228 - mse: 0.6228\n",
            "MSE: [0.6228070259094238, 0.6228070259094238]\n"
          ]
        }
      ]
    },
    {
      "cell_type": "markdown",
      "metadata": {
        "id": "o0TmnFBqIYaI"
      },
      "source": [
        "<a name=\"p1.3\"></a>\n",
        "\n",
        "---\n",
        "### **Part #1.3: Different Activation Functions**\n",
        "---\n",
        "\n",
        "Now repeat the process above with a neural net of the same shape (number of layers/neurons), but with hidden layer activation function as \"sigmoid\" instead of \"relu\". Part of the challenge here is knowing what to change and what to keep and then fitting it all into the cell below.\n",
        "\n",
        "<br>\n",
        "\n",
        "**NOTE**: This will look like a lot of code, but almost all of it will be identical to what you have done above!"
      ]
    },
    {
      "cell_type": "code",
      "execution_count": null,
      "metadata": {
        "id": "oLymicdRIcH5",
        "colab": {
          "base_uri": "https://localhost:8080/"
        },
        "outputId": "e1100fc7-cc61-4d2a-ff00-c2da0cb28b59"
      },
      "outputs": [
        {
          "output_type": "stream",
          "name": "stdout",
          "text": [
            "Epoch 1/10\n",
            "8/8 [==============================] - 2s 95ms/step - loss: 26.2078 - accuracy: 0.6286 - val_loss: 15.0729 - val_accuracy: 0.6286\n",
            "Epoch 2/10\n",
            "8/8 [==============================] - 0s 25ms/step - loss: 10.8595 - accuracy: 0.6286 - val_loss: 2.7640 - val_accuracy: 0.6593\n",
            "Epoch 3/10\n",
            "8/8 [==============================] - 0s 20ms/step - loss: 1.5869 - accuracy: 0.5648 - val_loss: 2.6175 - val_accuracy: 0.3714\n",
            "Epoch 4/10\n",
            "8/8 [==============================] - 0s 24ms/step - loss: 2.1675 - accuracy: 0.3736 - val_loss: 0.5565 - val_accuracy: 0.7319\n",
            "Epoch 5/10\n",
            "8/8 [==============================] - 0s 22ms/step - loss: 0.7016 - accuracy: 0.8000 - val_loss: 0.8348 - val_accuracy: 0.7934\n",
            "Epoch 6/10\n",
            "8/8 [==============================] - 0s 23ms/step - loss: 0.5614 - accuracy: 0.8440 - val_loss: 0.4450 - val_accuracy: 0.8154\n",
            "Epoch 7/10\n",
            "8/8 [==============================] - 0s 14ms/step - loss: 0.4732 - accuracy: 0.7890 - val_loss: 0.3895 - val_accuracy: 0.8769\n",
            "Epoch 8/10\n",
            "8/8 [==============================] - 0s 11ms/step - loss: 0.4131 - accuracy: 0.8835 - val_loss: 0.3898 - val_accuracy: 0.8879\n",
            "Epoch 9/10\n",
            "8/8 [==============================] - 0s 12ms/step - loss: 0.3850 - accuracy: 0.8769 - val_loss: 0.3899 - val_accuracy: 0.8725\n",
            "Epoch 10/10\n",
            "8/8 [==============================] - 0s 12ms/step - loss: 0.3724 - accuracy: 0.8879 - val_loss: 0.3597 - val_accuracy: 0.8945\n",
            "4/4 [==============================] - 0s 5ms/step - loss: 0.2490 - accuracy: 0.9386\n",
            "Test Loss: 0.24902930855751038\n",
            "Test Accuracy: 0.9385964870452881\n"
          ]
        }
      ],
      "source": [
        "# Steps 3 - 6: Building\n",
        "#======================\n",
        "model = Sequential()\n",
        "model.add(Dense(30, input_shape=(30,), activation='relu'))\n",
        "model.add(Dense(12, activation='relu'))\n",
        "model.add(Dense(8, activation='relu'))\n",
        "model.add(Dense(1, activation='sigmoid'))\n",
        "opt = Adam(learning_rate=0.001)\n",
        "model.compile(optimizer=opt, loss='binary_crossentropy', metrics=['accuracy'])\n",
        "\n",
        "\n",
        "# Step 7: Fitting\n",
        "#================\n",
        "history = model.fit(X_train, y_train, epochs=10, batch_size=64, verbose=1, validation_data=(X_train, y_train))\n",
        "\n",
        "\n",
        "# Step 8: Evaluating\n",
        "#===================\n",
        "loss, accuracy = model.evaluate(X_test, y_test)\n",
        "print(\"Test Loss:\", loss)\n",
        "print(\"Test Accuracy:\", accuracy)"
      ]
    },
    {
      "cell_type": "markdown",
      "metadata": {
        "id": "7dzC09dLlEhm"
      },
      "source": [
        "#End of notebook\n",
        "---\n",
        "© 2024 The Coding School, All rights reserved"
      ]
    }
  ]
}