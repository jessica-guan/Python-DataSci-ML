{
  "nbformat": 4,
  "nbformat_minor": 0,
  "metadata": {
    "colab": {
      "provenance": [],
      "include_colab_link": true
    },
    "kernelspec": {
      "name": "python3",
      "display_name": "Python 3"
    },
    "language_info": {
      "name": "python"
    }
  },
  "cells": [
    {
      "cell_type": "markdown",
      "metadata": {
        "id": "view-in-github",
        "colab_type": "text"
      },
      "source": [
        "<a href=\"https://colab.research.google.com/github/jessica-guan/TRAIN-Notebooks/blob/main/Copy_of_Public_Copy_of_TRAIN_YLC_Week_2_Lab_Notebook_%5BSTUDENT%5D.ipynb\" target=\"_parent\"><img src=\"https://colab.research.google.com/assets/colab-badge.svg\" alt=\"Open In Colab\"/></a>"
      ]
    },
    {
      "cell_type": "markdown",
      "source": [
        "# **Lab 2: Python Basics I**\n",
        "---\n",
        "\n",
        "### **Description**\n",
        "In this lab, we will begin to develop the necessary Python skills and foundation, paving the way for success in our upcoming machine learning course. We will explore different objects and how to store them in variables, as well as how to modify them using arithmetic operators.\n",
        "\n",
        "<br>\n",
        "\n",
        "### **Structure**\n",
        "\n",
        "**Part 1**: [Arithmetic Operators](#p1)\n",
        "\n",
        "**Part 2**: [Variables](#p2)\n",
        "\n",
        "**Part 3**: [Additional Practice [OPTIONAL]](#p3)\n",
        ">\n",
        "> **Part 3.1**: [Arithmetic Operators](#p3.1)\n",
        ">\n",
        "> **Part 3.2**: [Variables](#p3.2)\n",
        "\n",
        "\n",
        "<br>\n",
        "\n",
        "### **Learning Objectives**\n",
        "By the end of this lab, we will:\n",
        "* Recognize the framework of objects, methods, attributes.\n",
        "* Recognize the main data types and how to modify them with basic arithmetic operators (+, -, /, *).\n",
        "* Recognize that variables are a way to store objects.\n",
        "\n",
        "\n",
        "<br>\n",
        "\n",
        "### **Resources**\n",
        "* [Python Basics Cheat Sheet](https://docs.google.com/document/d/1A6r842XD7w05nEdENa8yInd8QdO6GQTFuXdNejyYCAg/edit?usp=sharing)"
      ],
      "metadata": {
        "id": "K3JVwUgVElwe"
      }
    },
    {
      "cell_type": "markdown",
      "source": [
        "<a name=\"p1\"></a>\n",
        "\n",
        "---\n",
        "## **Part 1: Arithmetic Operators**\n",
        "---"
      ],
      "metadata": {
        "id": "H5MIexSZviqM"
      }
    },
    {
      "cell_type": "markdown",
      "source": [
        "#### **Problem #1.1**\n",
        "\n",
        "**Together**, let's add the ints 3 and 2."
      ],
      "metadata": {
        "id": "Nkrwij4gSu0h"
      }
    },
    {
      "cell_type": "code",
      "source": [
        "3 + 2"
      ],
      "metadata": {
        "id": "rwGjkCmrT8cp",
        "colab": {
          "base_uri": "https://localhost:8080/"
        },
        "outputId": "0225ae5f-00c6-45d4-dc4e-d855903f78d7"
      },
      "execution_count": null,
      "outputs": [
        {
          "output_type": "execute_result",
          "data": {
            "text/plain": [
              "5"
            ]
          },
          "metadata": {},
          "execution_count": 1
        }
      ]
    },
    {
      "cell_type": "markdown",
      "source": [
        "#### **Problem #1.2**\n",
        "\n",
        "**Together**, let's add 7.0 and 2.0."
      ],
      "metadata": {
        "id": "TMg9xuU4bGXO"
      }
    },
    {
      "cell_type": "code",
      "source": [
        "7.0 + 2.0"
      ],
      "metadata": {
        "id": "gxuz6DBtbS4b",
        "colab": {
          "base_uri": "https://localhost:8080/"
        },
        "outputId": "e3f73890-da3f-42a3-9f5c-5ce556cd099b"
      },
      "execution_count": null,
      "outputs": [
        {
          "output_type": "execute_result",
          "data": {
            "text/plain": [
              "9.0"
            ]
          },
          "metadata": {},
          "execution_count": 2
        }
      ]
    },
    {
      "cell_type": "markdown",
      "source": [
        "#### **Problem #1.3**\n",
        "\n",
        "**Together**, let's divide 23 by 2."
      ],
      "metadata": {
        "id": "AoNyZMOLbHzG"
      }
    },
    {
      "cell_type": "code",
      "source": [
        "23 / 2"
      ],
      "metadata": {
        "id": "2qLvU5ArbX9e",
        "colab": {
          "base_uri": "https://localhost:8080/"
        },
        "outputId": "1b453736-d9f3-4390-f5f1-2b0304413bac"
      },
      "execution_count": null,
      "outputs": [
        {
          "output_type": "execute_result",
          "data": {
            "text/plain": [
              "11.5"
            ]
          },
          "metadata": {},
          "execution_count": 5
        }
      ]
    },
    {
      "cell_type": "markdown",
      "source": [
        "#### **Problem #1.4**\n",
        "\n",
        "**Together**, let's multiply 24.0 and 25.4."
      ],
      "metadata": {
        "id": "MAhg9IhNbIW9"
      }
    },
    {
      "cell_type": "code",
      "source": [
        "24.0 * 25.4"
      ],
      "metadata": {
        "id": "vQouy4o_brEN",
        "colab": {
          "base_uri": "https://localhost:8080/"
        },
        "outputId": "ab6a3232-b7c0-4d8f-bca6-94f33342e32e"
      },
      "execution_count": null,
      "outputs": [
        {
          "output_type": "execute_result",
          "data": {
            "text/plain": [
              "609.5999999999999"
            ]
          },
          "metadata": {},
          "execution_count": 4
        }
      ]
    },
    {
      "cell_type": "markdown",
      "source": [
        "---\n",
        "\n",
        "#### **Now it's your turn! Try Problems #1.5 - 1.7 on your own.**\n",
        "\n",
        "---"
      ],
      "metadata": {
        "id": "Ttxn0Y39k4mS"
      }
    },
    {
      "cell_type": "markdown",
      "source": [
        "#### **Problem #1.5**\n",
        "\n",
        "**Independently**, add 13 and 27."
      ],
      "metadata": {
        "id": "bAfEeCA5gwqX"
      }
    },
    {
      "cell_type": "code",
      "source": [
        "13 + 27"
      ],
      "metadata": {
        "id": "nlNB4BF_jsEt",
        "colab": {
          "base_uri": "https://localhost:8080/"
        },
        "outputId": "e086255f-a53b-4ffd-c17f-df026cde2bc5"
      },
      "execution_count": null,
      "outputs": [
        {
          "output_type": "execute_result",
          "data": {
            "text/plain": [
              "40"
            ]
          },
          "metadata": {},
          "execution_count": 6
        }
      ]
    },
    {
      "cell_type": "markdown",
      "source": [
        "#### **Problem #1.6**\n",
        "\n",
        "**Independently**, multiply 1000 and 3000.5."
      ],
      "metadata": {
        "id": "d_U6ur7jgxTk"
      }
    },
    {
      "cell_type": "code",
      "source": [
        "1000 * 3000.5"
      ],
      "metadata": {
        "id": "i3mHYwJaj02C",
        "colab": {
          "base_uri": "https://localhost:8080/"
        },
        "outputId": "c8ae86d4-fd9c-4102-da9b-409186df9a0d"
      },
      "execution_count": null,
      "outputs": [
        {
          "output_type": "execute_result",
          "data": {
            "text/plain": [
              "3000500.0"
            ]
          },
          "metadata": {},
          "execution_count": 7
        }
      ]
    },
    {
      "cell_type": "markdown",
      "source": [
        "#### **Problem #1.7**\n",
        "\n",
        "**Independently**, divide 250 by 50."
      ],
      "metadata": {
        "id": "JbFm4hjKgxfX"
      }
    },
    {
      "cell_type": "code",
      "source": [
        "250 / 50"
      ],
      "metadata": {
        "id": "NCZtaMI1jF4r",
        "colab": {
          "base_uri": "https://localhost:8080/"
        },
        "outputId": "55cfde73-ad7d-491c-8142-edc58c66203b"
      },
      "execution_count": null,
      "outputs": [
        {
          "output_type": "execute_result",
          "data": {
            "text/plain": [
              "5.0"
            ]
          },
          "metadata": {},
          "execution_count": 8
        }
      ]
    },
    {
      "cell_type": "markdown",
      "source": [
        "---\n",
        "\n",
        "<center>\n",
        "\n",
        "#### **Wait for Your Instructor to Continue**\n",
        "\n",
        "---"
      ],
      "metadata": {
        "id": "_MNPWfZVWx6A"
      }
    },
    {
      "cell_type": "markdown",
      "source": [
        "<a name=\"p2\"></a>\n",
        "\n",
        "---\n",
        "## **Part 2: Variables**\n",
        "---"
      ],
      "metadata": {
        "id": "8ZlKbmO6kmGl"
      }
    },
    {
      "cell_type": "markdown",
      "source": [
        "#### **Problem #2.1**\n",
        "\n",
        "**Together**, let's create a variable called `my_school` and assign a string (anything inside quotes: `\"...\"`) to it with your school's name.\n",
        "\n",
        "<br>\n",
        "\n",
        "**NOTE**: We will output the variable's value by writing the name on a line of its own."
      ],
      "metadata": {
        "id": "6tp4GH_pFiXc"
      }
    },
    {
      "cell_type": "code",
      "source": [
        "my_school = \"UCLA\"\n",
        "\n",
        "my_school"
      ],
      "metadata": {
        "id": "dIcO-GzF7jnH",
        "colab": {
          "base_uri": "https://localhost:8080/",
          "height": 35
        },
        "outputId": "123156f2-92c8-418a-ae70-95662acfe7ab"
      },
      "execution_count": null,
      "outputs": [
        {
          "output_type": "execute_result",
          "data": {
            "text/plain": [
              "'UCLA'"
            ],
            "application/vnd.google.colaboratory.intrinsic+json": {
              "type": "string"
            }
          },
          "metadata": {},
          "execution_count": 9
        }
      ]
    },
    {
      "cell_type": "markdown",
      "source": [
        "#### **Problem #2.2**\n",
        "\n",
        "**Together**, let's create and name a variable with your favorite number as an integer. Output its value."
      ],
      "metadata": {
        "id": "GeA492pRF9Et"
      }
    },
    {
      "cell_type": "code",
      "source": [
        "num = 10\n",
        "\n",
        "num"
      ],
      "metadata": {
        "id": "BcaGXsBo7qys",
        "colab": {
          "base_uri": "https://localhost:8080/"
        },
        "outputId": "8686922f-9c4c-4400-e753-e095ac737960"
      },
      "execution_count": null,
      "outputs": [
        {
          "output_type": "execute_result",
          "data": {
            "text/plain": [
              "10"
            ]
          },
          "metadata": {},
          "execution_count": 10
        }
      ]
    },
    {
      "cell_type": "markdown",
      "source": [
        "---\n",
        "\n",
        "#### **Now it's your turn! Try Problems #2.3 - 2.4 on your own.**\n",
        "\n",
        "---"
      ],
      "metadata": {
        "id": "jK_9G-b4Thcu"
      }
    },
    {
      "cell_type": "markdown",
      "source": [
        "#### **Problem #2.3**\n",
        "\n",
        "**Independently**, create and name a variable with your favorite number as a float. Output its value."
      ],
      "metadata": {
        "id": "PFzpApaisZj3"
      }
    },
    {
      "cell_type": "code",
      "source": [
        "num = 10.0\n",
        "\n",
        "num"
      ],
      "metadata": {
        "id": "TJ1lbMmBseNz",
        "colab": {
          "base_uri": "https://localhost:8080/"
        },
        "outputId": "dd7218ed-77e6-4f59-f05b-f7c0a7f47269"
      },
      "execution_count": null,
      "outputs": [
        {
          "output_type": "execute_result",
          "data": {
            "text/plain": [
              "10.0"
            ]
          },
          "metadata": {},
          "execution_count": 11
        }
      ]
    },
    {
      "cell_type": "markdown",
      "source": [
        "#### **Problem #2.4**\n",
        "\n",
        "**Independently**, look through the given declarations and determine which ones are incorrect?\n",
        "\n",
        "a. `Var1 = 7`\n",
        "\n",
        "b. `VAR5 = 8`\n",
        "\n",
        "c. `2var = 92`\n",
        "\n",
        "d. `first_last_name = \"james gooding\"`\n",
        "\n",
        "e. `Hello! = 0.283`\n",
        "\n",
        "f. `variable24 = \"my favorite food is\"`\n",
        "\n",
        "g. `str = \"string\"`\n",
        "\n"
      ],
      "metadata": {
        "id": "idKFoy5PGMXj"
      }
    },
    {
      "cell_type": "markdown",
      "source": [
        "**Double Click This Cell To Enter Your Answer(s)**"
      ],
      "metadata": {
        "id": "89W-6XfL8bnJ"
      }
    },
    {
      "cell_type": "markdown",
      "source": [
        "---\n",
        "\n",
        "<center>\n",
        "\n",
        "#### **Wait for Your Instructor to Continue**\n",
        "\n",
        "---"
      ],
      "metadata": {
        "id": "xVy-sIyzWzzc"
      }
    },
    {
      "cell_type": "markdown",
      "source": [
        "<a name=\"p3\"></a>\n",
        "\n",
        "---\n",
        "## **Part 3: Additional Practice [OPTIONAL]**\n",
        "---"
      ],
      "metadata": {
        "id": "x27tcYeFr0ps"
      }
    },
    {
      "cell_type": "markdown",
      "source": [
        "<a name=\"p3.1\"></a>\n",
        "\n",
        "---\n",
        "### **Part 3.1: Arithmetic Operators**\n",
        "---"
      ],
      "metadata": {
        "id": "yhhNVj8tszfa"
      }
    },
    {
      "cell_type": "markdown",
      "source": [
        "#### **Problem #3.1.1**\n",
        "\n",
        "Calculate 5 divided by 2."
      ],
      "metadata": {
        "id": "3UHFE0F-r_AY"
      }
    },
    {
      "cell_type": "code",
      "source": [
        "5 / 2"
      ],
      "metadata": {
        "id": "0gTl9x12r_AZ",
        "colab": {
          "base_uri": "https://localhost:8080/"
        },
        "outputId": "a6221b1a-9589-4213-bbfa-a2f3a5d78b21"
      },
      "execution_count": null,
      "outputs": [
        {
          "output_type": "execute_result",
          "data": {
            "text/plain": [
              "2.5"
            ]
          },
          "metadata": {},
          "execution_count": 12
        }
      ]
    },
    {
      "cell_type": "markdown",
      "source": [
        "#### **Problem #3.1.2**\n",
        "\n",
        "Calculate 50 divided by 2."
      ],
      "metadata": {
        "id": "-Op2trMwsNTO"
      }
    },
    {
      "cell_type": "code",
      "source": [
        "50 / 2"
      ],
      "metadata": {
        "id": "r8PUMKhbsNTP",
        "colab": {
          "base_uri": "https://localhost:8080/"
        },
        "outputId": "d3e41874-cbcf-465f-a398-389bb8e37df7"
      },
      "execution_count": null,
      "outputs": [
        {
          "output_type": "execute_result",
          "data": {
            "text/plain": [
              "25.0"
            ]
          },
          "metadata": {},
          "execution_count": 13
        }
      ]
    },
    {
      "cell_type": "markdown",
      "source": [
        "#### **Problem #3.1.3**\n",
        "\n",
        "Calculate 28 multiplied by 1995."
      ],
      "metadata": {
        "id": "bgSOjzrtsVPZ"
      }
    },
    {
      "cell_type": "code",
      "source": [
        "28 * 1995"
      ],
      "metadata": {
        "id": "wx4fZWNnsVPa",
        "colab": {
          "base_uri": "https://localhost:8080/"
        },
        "outputId": "b8ee8a0a-e3f8-49b6-8eba-784424e4aaa8"
      },
      "execution_count": null,
      "outputs": [
        {
          "output_type": "execute_result",
          "data": {
            "text/plain": [
              "55860"
            ]
          },
          "metadata": {},
          "execution_count": 14
        }
      ]
    },
    {
      "cell_type": "markdown",
      "source": [
        "#### **Problem #3.1.4**\n",
        "\n",
        "Calculate 3 squared."
      ],
      "metadata": {
        "id": "amw5Yd8xsbfR"
      }
    },
    {
      "cell_type": "code",
      "source": [
        "3 ** 2"
      ],
      "metadata": {
        "id": "O1kUtqUisbfT",
        "colab": {
          "base_uri": "https://localhost:8080/"
        },
        "outputId": "bac5a899-a5a5-4574-8aad-d713a8947c96"
      },
      "execution_count": null,
      "outputs": [
        {
          "output_type": "execute_result",
          "data": {
            "text/plain": [
              "9"
            ]
          },
          "metadata": {},
          "execution_count": 15
        }
      ]
    },
    {
      "cell_type": "markdown",
      "source": [
        "#### **Problem #3.1.5**\n",
        "\n",
        "Calculate 2 to the 10th power minus 5."
      ],
      "metadata": {
        "id": "ixi0A-EKslsg"
      }
    },
    {
      "cell_type": "code",
      "source": [
        "2 ** 10 - 5"
      ],
      "metadata": {
        "id": "JgEGihlislsg",
        "colab": {
          "base_uri": "https://localhost:8080/"
        },
        "outputId": "6f45e7f9-68c3-49c0-83cb-676f7dcca051"
      },
      "execution_count": null,
      "outputs": [
        {
          "output_type": "execute_result",
          "data": {
            "text/plain": [
              "1019"
            ]
          },
          "metadata": {},
          "execution_count": 16
        }
      ]
    },
    {
      "cell_type": "markdown",
      "source": [
        "<a name=\"p3.2\"></a>\n",
        "\n",
        "---\n",
        "### **Part 3.2: Variables**\n",
        "---"
      ],
      "metadata": {
        "id": "4MoSMLBItCdo"
      }
    },
    {
      "cell_type": "markdown",
      "source": [
        "#### **Problem #3.2.1**\n",
        "\n",
        "Create a variable named `favorite_animal` and assign a string to it of your favorite animal. Output its value."
      ],
      "metadata": {
        "id": "DNQ0uGTgtCd0"
      }
    },
    {
      "cell_type": "code",
      "source": [
        "favorite_animal = \"dog\"\n",
        "\n",
        "favorite_animal"
      ],
      "metadata": {
        "id": "RGutT2VXtCd0",
        "colab": {
          "base_uri": "https://localhost:8080/",
          "height": 35
        },
        "outputId": "44b3fff0-977c-4d50-938a-9f9b930b754b"
      },
      "execution_count": null,
      "outputs": [
        {
          "output_type": "execute_result",
          "data": {
            "text/plain": [
              "'dog'"
            ],
            "application/vnd.google.colaboratory.intrinsic+json": {
              "type": "string"
            }
          },
          "metadata": {},
          "execution_count": 18
        }
      ]
    },
    {
      "cell_type": "markdown",
      "source": [
        "#### **Problem #3.2.2**\n",
        "\n",
        "Create a variable called `problem_number` and assign the float `4.22` to it. Output its value."
      ],
      "metadata": {
        "id": "qEeBTTwhtCd2"
      }
    },
    {
      "cell_type": "code",
      "source": [
        "problem_number = 4.22\n",
        "\n",
        "problem_number"
      ],
      "metadata": {
        "id": "GzcVlThPtCd2",
        "colab": {
          "base_uri": "https://localhost:8080/"
        },
        "outputId": "f467e0ac-c94a-48b8-e5fc-1b3ec7b82a09"
      },
      "execution_count": null,
      "outputs": [
        {
          "output_type": "execute_result",
          "data": {
            "text/plain": [
              "4.22"
            ]
          },
          "metadata": {},
          "execution_count": 19
        }
      ]
    },
    {
      "cell_type": "markdown",
      "source": [
        "#### **Problem #3.2.3**\n",
        "\n",
        "Create a variable called `next_problem_number` and assign the result of adding `problem_number` and 0.01. Output its value."
      ],
      "metadata": {
        "id": "foTpdnTStCd1"
      }
    },
    {
      "cell_type": "code",
      "source": [
        "next_problem_number = 0.01\n",
        "\n",
        "next_problem_number"
      ],
      "metadata": {
        "id": "r3pRvWxwtCd2",
        "colab": {
          "base_uri": "https://localhost:8080/"
        },
        "outputId": "2c7a9a59-845a-44ca-ed61-c743a3b866fe"
      },
      "execution_count": null,
      "outputs": [
        {
          "output_type": "execute_result",
          "data": {
            "text/plain": [
              "0.01"
            ]
          },
          "metadata": {},
          "execution_count": 20
        }
      ]
    },
    {
      "cell_type": "markdown",
      "source": [
        "#### **Problem #3.2.4**\n",
        "\n",
        "Create a variable named `my_age` and assign an int with your age to it. Output its value."
      ],
      "metadata": {
        "id": "j9LT67KptCd1"
      }
    },
    {
      "cell_type": "code",
      "source": [
        "my_age = 18\n",
        "\n",
        "my_age"
      ],
      "metadata": {
        "id": "9M1RGVVZtCd1",
        "colab": {
          "base_uri": "https://localhost:8080/"
        },
        "outputId": "cd392d0c-87d8-4d82-8a61-7524db18efd4"
      },
      "execution_count": null,
      "outputs": [
        {
          "output_type": "execute_result",
          "data": {
            "text/plain": [
              "18"
            ]
          },
          "metadata": {},
          "execution_count": 21
        }
      ]
    },
    {
      "cell_type": "markdown",
      "source": [
        "#### **Problem #3.2.5**\n",
        "\n",
        "Create a variable named `my_age_in_months` that is equal to `my_age` multiplied by 12. Output its value."
      ],
      "metadata": {
        "id": "219fzMgitCd1"
      }
    },
    {
      "cell_type": "code",
      "source": [
        "my_age_in_months = my_age * 12\n",
        "\n",
        "my_age_in_months"
      ],
      "metadata": {
        "id": "Tf5uJpXftCd1",
        "colab": {
          "base_uri": "https://localhost:8080/"
        },
        "outputId": "26efd9e6-4ed9-405d-805f-86a76f2e2a4b"
      },
      "execution_count": null,
      "outputs": [
        {
          "output_type": "execute_result",
          "data": {
            "text/plain": [
              "216"
            ]
          },
          "metadata": {},
          "execution_count": 22
        }
      ]
    },
    {
      "cell_type": "markdown",
      "source": [
        "# End of notebook\n",
        "---\n",
        "© 2023 The Coding School, All rights reserved"
      ],
      "metadata": {
        "id": "LMrbwMSsoWtN"
      }
    }
  ]
}