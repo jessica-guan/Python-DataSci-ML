{
  "cells": [
    {
      "cell_type": "markdown",
      "metadata": {
        "id": "view-in-github",
        "colab_type": "text"
      },
      "source": [
        "<a href=\"https://colab.research.google.com/github/jessica-guan/Python-DataSci-ML/blob/main/Deep%20Learning%20Fundamentals.ipynb\" target=\"_parent\"><img src=\"https://colab.research.google.com/assets/colab-badge.svg\" alt=\"Open In Colab\"/></a>"
      ]
    },
    {
      "cell_type": "markdown",
      "metadata": {
        "id": "U8zMXCjs0Rqw"
      },
      "source": [
        "# **Homework #5: Deep Learning - Review**\n",
        "\n",
        "---\n",
        "### **Description**\n",
        "In this notebook, you will work on a project using Deep Learning to hone your understanding of the Deep Learning fundamentals.\n",
        "\n",
        "<br>\n",
        "\n",
        "### **Structure**\n",
        "**Part 1**: [Analysis of Mineral Hardness](#p1)\n",
        "\n",
        "> **Part 1.1**: [The Initial Attempt](#p1.1)\n",
        "\n",
        "> **Part 1.2**: [Improvements](#p1.2)\n",
        "\n",
        "\n",
        "<br>\n",
        "\n",
        "\n",
        "\n",
        "### **Learning Objectives**\n",
        "By the end of this notebook, you will have trained, implemented, evaluated, and fine tuned both deep learning regression and classification models.\n",
        "\n",
        "<br>\n",
        "\n",
        "\n",
        "### **Cheat Sheets**\n",
        "* [Deep Learning with pytorch](https://docs.google.com/document/d/1Wm01maZUrSuwdOhuI05uZBtqt5nL5shOGnJ7kTHWl_I/edit?usp=drive_link)\n",
        "\n",
        "<br>\n",
        "\n",
        "**Before starting, run the code below to import all necessary functions and libraries.**\n"
      ]
    },
    {
      "cell_type": "code",
      "execution_count": null,
      "metadata": {
        "id": "SQOJ44V9M-Np"
      },
      "outputs": [],
      "source": [
        "from keras.models import Sequential\n",
        "from keras.layers import *\n",
        "!pip install --quiet keras_visualizer\n",
        "from keras_visualizer import visualizer\n",
        "from IPython.display import Image\n",
        "\n",
        "from keras.optimizers import Adam, SGD\n",
        "from keras.utils import to_categorical\n",
        "\n",
        "import matplotlib.pyplot as plt\n",
        "import numpy as np\n",
        "import pandas as pd\n",
        "\n",
        "from sklearn.model_selection import train_test_split, cross_val_score\n",
        "from sklearn.datasets import load_breast_cancer"
      ]
    },
    {
      "cell_type": "markdown",
      "metadata": {
        "id": "o11oO9o98rUe"
      },
      "source": [
        "<a name=\"p1\"></a>\n",
        "\n",
        "---\n",
        "## **Part 1: Analysis of Mineral Hardness**\n",
        "---\n",
        "\n",
        "Determining the hardness of minerals is vital for designing materials that may use them. In this section, you will build a regression model to predict the hardness of minerals based on their atomic properties.\n"
      ]
    },
    {
      "cell_type": "markdown",
      "metadata": {
        "id": "E-ymZtj-_DII"
      },
      "source": [
        "<a name=\"p1.1\"></a>\n",
        "\n",
        "---\n",
        "### **Part 1.1: The Initial Attempt**\n",
        "---\n"
      ]
    },
    {
      "cell_type": "markdown",
      "metadata": {
        "id": "MAgo_JDT_DIT"
      },
      "source": [
        "#### **Step #1: Import and split the dataset into a train/test set**\n",
        "\n",
        "**Run the code below to import and split the data.**"
      ]
    },
    {
      "cell_type": "code",
      "source": [
        "mineral_df = pd.read_csv('https://raw.githubusercontent.com/the-codingschool/TRAIN-datasets/main/material%20Mohs%20hardness/Mineral_Dataset.csv').drop(columns = 'Unnamed: 0')\n",
        "mineral_df.head()\n",
        "\n",
        "X = mineral_df.drop('Hardness', axis = 1)\n",
        "y = mineral_df['Hardness']\n",
        "\n",
        "# Split the data into training and validation sets\n",
        "X_train, X_test, y_train, y_test = train_test_split(X, y, test_size=0.2, random_state=42)\n"
      ],
      "metadata": {
        "id": "4tlu3ZIF0GBd"
      },
      "execution_count": null,
      "outputs": []
    },
    {
      "cell_type": "markdown",
      "metadata": {
        "id": "gUuWmduM_DIU"
      },
      "source": [
        "#### **Step #2: Determine the dimensions of the data**\n",
        "\n",
        "\n",
        "**Determine the number of input neurons and if the data needs to be flattened.**"
      ]
    },
    {
      "cell_type": "code",
      "source": [
        "print(\"Dimensions of X_train:\", X_train.shape)\n",
        "print(\"Dimensions of X_test:\", X_test.shape)\n",
        "print(\"Dimensions of y_train:\", y_train.shape)\n",
        "print(\"Dimensions of y_test:\", y_test.shape)"
      ],
      "metadata": {
        "id": "uxP_tP2M_DIU",
        "colab": {
          "base_uri": "https://localhost:8080/"
        },
        "outputId": "4cbe08cf-1098-4c70-830e-1261dc615e79"
      },
      "execution_count": null,
      "outputs": [
        {
          "output_type": "stream",
          "name": "stdout",
          "text": [
            "Dimensions of X_train: (497, 11)\n",
            "Dimensions of X_test: (125, 11)\n",
            "Dimensions of y_train: (497,)\n",
            "Dimensions of y_test: (125,)\n"
          ]
        }
      ]
    },
    {
      "cell_type": "markdown",
      "metadata": {
        "id": "FVTOXhlX_DIU"
      },
      "source": [
        "#### **Steps #3 - 6: Build the Model**\n",
        "\n",
        "\n",
        "Build a model sequentially such that there is:\n",
        "\n",
        "* The Input Layer, flattened if necessary, and correctly sized for receiving inputs.\n",
        "* No Hidden Layers\n",
        "* The Output Layer with the correct number of neurons such that we are predicting a continuous number."
      ]
    },
    {
      "cell_type": "code",
      "execution_count": null,
      "metadata": {
        "id": "EUOFACOO_DIV",
        "colab": {
          "base_uri": "https://localhost:8080/"
        },
        "outputId": "9226f5bd-8490-4bb6-c932-ea3ebb03efcd"
      },
      "outputs": [
        {
          "output_type": "stream",
          "name": "stdout",
          "text": [
            "Model: \"sequential\"\n",
            "_________________________________________________________________\n",
            " Layer (type)                Output Shape              Param #   \n",
            "=================================================================\n",
            " flatten (Flatten)           (None, 11)                0         \n",
            "                                                                 \n",
            " dense (Dense)               (None, 1)                 12        \n",
            "                                                                 \n",
            "=================================================================\n",
            "Total params: 12 (48.00 Byte)\n",
            "Trainable params: 12 (48.00 Byte)\n",
            "Non-trainable params: 0 (0.00 Byte)\n",
            "_________________________________________________________________\n"
          ]
        }
      ],
      "source": [
        "# Define the neural network architecture\n",
        "\n",
        "# Define input shape based on the number of features in X\n",
        "input_shape = X_train.shape[1:]\n",
        "\n",
        "# Create a sequential model\n",
        "model = Sequential()\n",
        "\n",
        "# Add input layer (and flatten if necessary)\n",
        "model.add(Input(shape=input_shape))\n",
        "model.add(Flatten())\n",
        "\n",
        "# Add output layer\n",
        "model.add(Dense(1))  # One neuron for regression\n",
        "\n",
        "# Compile the model\n",
        "model.compile(optimizer='adam', loss='mean_squared_error')\n",
        "\n",
        "# Print model summary\n",
        "model.summary()\n"
      ]
    },
    {
      "cell_type": "markdown",
      "metadata": {
        "id": "nn6VDPPw_DIV"
      },
      "source": [
        "#### **Step #7: Fit the model**\n",
        "\n",
        "* Use a learning rate of 0.1.\n",
        "* Use `mse` for both the loss function and evaluation metric.\n",
        "* Train using 5 epochs and a batch size of 16.\n"
      ]
    },
    {
      "cell_type": "code",
      "execution_count": null,
      "metadata": {
        "id": "pDWFNUs-_DIV",
        "colab": {
          "base_uri": "https://localhost:8080/"
        },
        "outputId": "1167affb-9521-4ffb-a654-7db0cd8a6023"
      },
      "outputs": [
        {
          "output_type": "stream",
          "name": "stdout",
          "text": [
            "Epoch 1/5\n",
            "32/32 [==============================] - 2s 9ms/step - loss: 1419.4561 - mse: 1419.4561 - val_loss: 31657.1875 - val_mse: 31657.1875\n",
            "Epoch 2/5\n",
            "32/32 [==============================] - 0s 4ms/step - loss: 33570.3789 - mse: 33570.3789 - val_loss: 11008.7754 - val_mse: 11008.7754\n",
            "Epoch 3/5\n",
            "32/32 [==============================] - 0s 4ms/step - loss: 2024.9636 - mse: 2024.9636 - val_loss: 8362.6289 - val_mse: 8362.6289\n",
            "Epoch 4/5\n",
            "32/32 [==============================] - 0s 3ms/step - loss: 15687.8652 - mse: 15687.8652 - val_loss: 3692.2998 - val_mse: 3692.2998\n",
            "Epoch 5/5\n",
            "32/32 [==============================] - 0s 4ms/step - loss: 2276.9915 - mse: 2276.9915 - val_loss: 8774.0488 - val_mse: 8774.0488\n"
          ]
        }
      ],
      "source": [
        "# Define the optimizer with the specified learning rate\n",
        "optimizer = Adam(learning_rate=0.1)\n",
        "\n",
        "# Compile the model with mean squared error loss and evaluation metric\n",
        "model.compile(optimizer=optimizer, loss='mean_squared_error', metrics=['mse'])\n",
        "\n",
        "# Fit the model\n",
        "history = model.fit(X_train, y_train, validation_data=(X_test, y_test), epochs=5, batch_size=16)"
      ]
    },
    {
      "cell_type": "markdown",
      "metadata": {
        "id": "LnkSTRRi_DIV"
      },
      "source": [
        "#### **Step #8: Evaluate the model**\n"
      ]
    },
    {
      "cell_type": "code",
      "execution_count": null,
      "metadata": {
        "id": "WhSAPT28_DIV",
        "colab": {
          "base_uri": "https://localhost:8080/"
        },
        "outputId": "7b28bd08-d639-4550-a4d0-c8c123e146d0"
      },
      "outputs": [
        {
          "output_type": "stream",
          "name": "stdout",
          "text": [
            "4/4 [==============================] - 0s 3ms/step - loss: 8774.0488 - mse: 8774.0488\n",
            "MSE: [8774.048828125, 8774.048828125]\n"
          ]
        }
      ],
      "source": [
        "print('MSE: ' + str(model.evaluate(X_test, y_test)))"
      ]
    },
    {
      "cell_type": "markdown",
      "metadata": {
        "id": "87neuXCp_DIV"
      },
      "source": [
        "#### **Step #9: Visualize the model's predictions**\n",
        "\n",
        "\n",
        "Now, run the code below to make predictions with the model and output its predictions for items in the validation set."
      ]
    },
    {
      "cell_type": "code",
      "execution_count": null,
      "metadata": {
        "colab": {
          "base_uri": "https://localhost:8080/",
          "height": 489
        },
        "outputId": "b16ffa80-0efe-495d-fc12-420ff6602d64",
        "id": "2_j4vqcB_DIV"
      },
      "outputs": [
        {
          "output_type": "stream",
          "name": "stdout",
          "text": [
            "4/4 [==============================] - 0s 2ms/step\n"
          ]
        },
        {
          "output_type": "display_data",
          "data": {
            "text/plain": [
              "<Figure size 640x480 with 1 Axes>"
            ],
            "image/png": "[encoded data removed]"
          },
          "metadata": {}
        }
      ],
      "source": [
        "# Visualize comparison of predictions vs. actual values\n",
        "pred = model.predict(X_test)\n",
        "\n",
        "plt.scatter(y_test, pred)\n",
        "plt.plot([y_test.min(), y_test.max()], [y_test.min(), y_test.max()], color = 'black')\n",
        "\n",
        "plt.xlabel(\"Actual\")\n",
        "plt.ylabel(\"Predicted\")\n",
        "plt.title(\"Actual vs Predicted\")\n",
        "\n",
        "plt.show()"
      ]
    },
    {
      "cell_type": "markdown",
      "metadata": {
        "id": "25IYqGfu_DIW"
      },
      "source": [
        "<a name=\"p1.2\"></a>\n",
        "\n",
        "---\n",
        "### **Part 1.2: Improvements**\n",
        "---\n",
        "\n",
        "\n",
        "Using the template cell provided below, create and train a neural network that is capable of achieving an 85% or higher accuracy on the test dataset for classifying the people.\n",
        "\n",
        "**Hint:** The first step to improving your work above is adding at least one Hidden Layer. However, you can also consider:\n",
        "* Changing the number of neurons in each Hidden Layer\n",
        "* Changing the activation functions in the Hidden Layers\n",
        "* Changing the activation function in the Output Layer\n",
        "* Training with a different optimizer\n",
        "* Training with a different learning rate\n",
        "* Changing the number of training epochs"
      ]
    },
    {
      "cell_type": "code",
      "execution_count": null,
      "metadata": {
        "colab": {
          "base_uri": "https://localhost:8080/"
        },
        "id": "eYRO-y1D_DIW",
        "outputId": "10033a48-a6ec-46ac-b663-cc925a2f02d6"
      },
      "outputs": [
        {
          "output_type": "stream",
          "name": "stdout",
          "text": [
            "Epoch 1/20\n",
            "16/16 [==============================] - 2s 14ms/step - loss: -194.9315 - accuracy: 0.0000e+00 - val_loss: -477.0385 - val_accuracy: 0.0080\n",
            "Epoch 2/20\n",
            "16/16 [==============================] - 0s 6ms/step - loss: -885.9534 - accuracy: 0.0000e+00 - val_loss: -1683.4591 - val_accuracy: 0.0080\n",
            "Epoch 3/20\n",
            "16/16 [==============================] - 0s 5ms/step - loss: -2829.1990 - accuracy: 0.0000e+00 - val_loss: -5243.1021 - val_accuracy: 0.0080\n",
            "Epoch 4/20\n",
            "16/16 [==============================] - 0s 5ms/step - loss: -8348.1777 - accuracy: 0.0000e+00 - val_loss: -14425.8838 - val_accuracy: 0.0080\n",
            "Epoch 5/20\n",
            "16/16 [==============================] - 0s 6ms/step - loss: -21399.1758 - accuracy: 0.0000e+00 - val_loss: -35161.6914 - val_accuracy: 0.0080\n",
            "Epoch 6/20\n",
            "16/16 [==============================] - 0s 6ms/step - loss: -49830.2852 - accuracy: 0.0000e+00 - val_loss: -77261.0859 - val_accuracy: 0.0080\n",
            "Epoch 7/20\n",
            "16/16 [==============================] - 0s 5ms/step - loss: -103053.4453 - accuracy: 0.0000e+00 - val_loss: -154881.8125 - val_accuracy: 0.0080\n",
            "Epoch 8/20\n",
            "16/16 [==============================] - 0s 5ms/step - loss: -198523.4844 - accuracy: 0.0000e+00 - val_loss: -285383.1562 - val_accuracy: 0.0080\n",
            "Epoch 9/20\n",
            "16/16 [==============================] - 0s 5ms/step - loss: -352702.9688 - accuracy: 0.0000e+00 - val_loss: -495186.4375 - val_accuracy: 0.0080\n",
            "Epoch 10/20\n",
            "16/16 [==============================] - 0s 6ms/step - loss: -596488.2500 - accuracy: 0.0000e+00 - val_loss: -810315.7500 - val_accuracy: 0.0080\n",
            "Epoch 11/20\n",
            "16/16 [==============================] - 0s 5ms/step - loss: -946713.4375 - accuracy: 0.0000e+00 - val_loss: -1264722.0000 - val_accuracy: 0.0080\n",
            "Epoch 12/20\n",
            "16/16 [==============================] - 0s 6ms/step - loss: -1449454.3750 - accuracy: 0.0000e+00 - val_loss: -1898194.7500 - val_accuracy: 0.0080\n",
            "Epoch 13/20\n",
            "16/16 [==============================] - 0s 6ms/step - loss: -2146456.2500 - accuracy: 0.0000e+00 - val_loss: -2748784.2500 - val_accuracy: 0.0080\n",
            "Epoch 14/20\n",
            "16/16 [==============================] - 0s 6ms/step - loss: -3062771.0000 - accuracy: 0.0000e+00 - val_loss: -3877163.0000 - val_accuracy: 0.0080\n",
            "Epoch 15/20\n",
            "16/16 [==============================] - 0s 5ms/step - loss: -4294183.0000 - accuracy: 0.0000e+00 - val_loss: -5312489.0000 - val_accuracy: 0.0080\n",
            "Epoch 16/20\n",
            "16/16 [==============================] - 0s 5ms/step - loss: -5782373.5000 - accuracy: 0.0000e+00 - val_loss: -7175646.5000 - val_accuracy: 0.0080\n",
            "Epoch 17/20\n",
            "16/16 [==============================] - 0s 5ms/step - loss: -7724639.5000 - accuracy: 0.0000e+00 - val_loss: -9430327.0000 - val_accuracy: 0.0080\n",
            "Epoch 18/20\n",
            "16/16 [==============================] - 0s 6ms/step - loss: -10113666.0000 - accuracy: 0.0000e+00 - val_loss: -12158835.0000 - val_accuracy: 0.0080\n",
            "Epoch 19/20\n",
            "16/16 [==============================] - 0s 6ms/step - loss: -12938572.0000 - accuracy: 0.0000e+00 - val_loss: -15526800.0000 - val_accuracy: 0.0080\n",
            "Epoch 20/20\n",
            "16/16 [==============================] - 0s 5ms/step - loss: -16434662.0000 - accuracy: 0.0000e+00 - val_loss: -19476630.0000 - val_accuracy: 0.0080\n",
            "4/4 [==============================] - 0s 4ms/step - loss: -19476630.0000 - accuracy: 0.0080\n",
            "MSE: [-19476630.0, 0.00800000037997961]\n"
          ]
        }
      ],
      "source": [
        "# BUILD\n",
        "#=======\n",
        "\n",
        "# Define the neural network architecture\n",
        "model = Sequential()\n",
        "\n",
        "# Input layer\n",
        "model.add(Dense(64, input_dim=X_train.shape[1], activation='relu'))\n",
        "\n",
        "# Hidden layers\n",
        "model.add(Dense(128, activation='relu'))\n",
        "model.add(Dense(64, activation='relu'))\n",
        "\n",
        "# Output layer\n",
        "model.add(Dense(1, activation='sigmoid'))  # Sigmoid for binary classification\n",
        "\n",
        "# FIT\n",
        "#=====\n",
        "\n",
        "# Compile the model\n",
        "model.compile(optimizer='adam', loss='binary_crossentropy', metrics=['accuracy'])\n",
        "\n",
        "# Fit the model\n",
        "history = model.fit(X_train, y_train, validation_data=(X_test, y_test), epochs=20, batch_size=32)\n",
        "\n",
        "# EVALUATE\n",
        "#==========\n",
        "print('MSE: ' + str(model.evaluate(X_test, y_test)))"
      ]
    },
    {
      "cell_type": "code",
      "source": [
        "# Visualize comparison of predictions vs. actual values\n",
        "pred = model.predict(X_test)\n",
        "\n",
        "plt.scatter(y_test, pred)\n",
        "plt.plot([y_test.min(), y_test.max()], [y_test.min(), y_test.max()], color = 'black')\n",
        "\n",
        "plt.xlabel(\"Actual\")\n",
        "plt.ylabel(\"Predicted\")\n",
        "plt.title(\"Actual vs Predicted\")\n",
        "\n",
        "plt.show()"
      ],
      "metadata": {
        "id": "h9WnQGr7__IH",
        "colab": {
          "base_uri": "https://localhost:8080/",
          "height": 489
        },
        "outputId": "3427b384-dee0-4e14-d60f-7894cd1b4467"
      },
      "execution_count": null,
      "outputs": [
        {
          "output_type": "stream",
          "name": "stdout",
          "text": [
            "4/4 [==============================] - 0s 3ms/step\n"
          ]
        },
        {
          "output_type": "display_data",
          "data": {
            "text/plain": [
              "<Figure size 640x480 with 1 Axes>"
            ],
            "image/png": "[encoded data removed]"
          },
          "metadata": {}
        }
      ]
    },
    {
      "cell_type": "markdown",
      "metadata": {
        "id": "Sc5E4-Y6vLbZ"
      },
      "source": [
        "# End of notebook\n",
        "---\n",
        "\n",
        "© 2024 The Coding School, All rights reserved"
      ]
    }
  ],
  "metadata": {
    "accelerator": "GPU",
    "colab": {
      "provenance": [],
      "include_colab_link": true
    },
    "kernelspec": {
      "display_name": "Python 3",
      "name": "python3"
    },
    "language_info": {
      "name": "python"
    }
  },
  "nbformat": 4,
  "nbformat_minor": 0
}