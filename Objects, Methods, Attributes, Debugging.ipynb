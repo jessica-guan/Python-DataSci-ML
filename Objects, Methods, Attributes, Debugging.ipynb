{
  "nbformat": 4,
  "nbformat_minor": 0,
  "metadata": {
    "colab": {
      "provenance": [],
      "include_colab_link": true
    },
    "kernelspec": {
      "name": "python3",
      "display_name": "Python 3"
    },
    "language_info": {
      "name": "python"
    }
  },
  "cells": [
    {
      "cell_type": "markdown",
      "metadata": {
        "id": "view-in-github",
        "colab_type": "text"
      },
      "source": [
        "<a href=\"https://colab.research.google.com/github/jessica-guan/TRAIN-Notebooks/blob/main/Copy_of_TRAIN_YLC_Week_3_Homework_%5BSTUDENT%5D.ipynb\" target=\"_parent\"><img src=\"https://colab.research.google.com/assets/colab-badge.svg\" alt=\"Open In Colab\"/></a>"
      ]
    },
    {
      "cell_type": "markdown",
      "source": [
        "# **Homework 3: Introduction to Objects and Debugging**\n",
        "---\n",
        "\n",
        "### **Description**\n",
        "In this homework assignment, you will learn how to work with objects in Python, how to interpret and correct coding errors, and how to search for and navigate documentation.\n",
        "\n",
        "<br>\n",
        "\n",
        "### **Notebook Structure:**\n",
        "**Part 1**: [Objects, Methods, and Attributes](#p1)\n",
        "\n",
        "**Part 2**: [Debugging](#p2)\n",
        "\n",
        "**Part 3**: [Coding Challenges [OPTIONAL]](#p3)\n",
        "\n",
        "<br>\n",
        "\n",
        "### **Resources**\n",
        "* [Python Basics Cheat Sheet](https://docs.google.com/document/d/1lJCv2rPuSFVip643ZPOxNdllUUAMBhtq_NR3IE2w7V4/edit?usp=sharing)\n",
        "\n",
        "<br>\n",
        "\n",
        "### **Learning Objectives**\n",
        "By the end of this homework assignment, you will:\n",
        "* Understand how to interact with objects using methods and attributes.\n",
        "* Improve your debugging skills by correcting common coding errors.\n",
        "* Understand how to search for documentation in various libraries.\n",
        "\n",
        "<br>\n",
        "\n",
        "**Before starting, run the code below to import all necessary functions and libraries.**"
      ],
      "metadata": {
        "id": "F7i_-gofxiqE"
      }
    },
    {
      "cell_type": "code",
      "source": [
        "# @title\n",
        "!pip install qiskit --quiet\n",
        "import warnings\n",
        "import sympy\n",
        "import numpy\n",
        "import matplotlib\n",
        "import time\n",
        "import math\n",
        "from matplotlib import pyplot\n",
        "from qiskit import QuantumCircuit\n",
        "warnings.filterwarnings(\"ignore\")\n",
        "\n",
        "class baby():\n",
        "  def __init__(self,age=0, mood=\"crying\", hunger=\"hungry\"):\n",
        "    self.age = age\n",
        "    self.mood = mood\n",
        "    self.hunger = hunger\n",
        "  def feed(self):\n",
        "    self.hunger = \"full\"\n",
        "  def play(self):\n",
        "    self.mood = \"happy\"\n",
        "\n",
        "def calculate_area(length, width):\n",
        "  area = length * width\n",
        "  return area\n",
        "\n",
        "class plant():\n",
        "  def __init__(self):\n",
        "    self.planted = 0\n",
        "    self.day_of_last_growth = 0\n",
        "    self.day = 0\n",
        "    self.water = 0\n",
        "    self.light = 0\n",
        "    self.health = 10\n",
        "    self.stage = 0\n",
        "    self.perfect_light = numpy.random.choice([1,2,3,4,5,6,7,8,9,10])\n",
        "    self.perfect_water = numpy.random.choice([1,2,3,4,5,6,7,8,9,10])\n",
        "  def water_plant(self,amount):\n",
        "    if amount > 0:\n",
        "      print(\"You watered your plant.\")\n",
        "      self.water += round(amount)\n",
        "    elif amount < 0:\n",
        "      raise ValueError(\"You can't remove water from your plant! You will have to wait a bit for it to dry out.\")\n",
        "    else:\n",
        "      print(\"You decide to not water your plant.\")\n",
        "  def set_light(self,level):\n",
        "    if level <0:\n",
        "      raise ValueError(\"You can't set the light level to negative values.\")\n",
        "    elif level > 10:\n",
        "      raise ValueError(\"Your light is not that strong\")\n",
        "    else:\n",
        "      self.light = round(level)\n",
        "      print(\"You set the light to level \" + str(self.light))\n",
        "\n",
        "  def check_health(self):\n",
        "    print(\"Your plant's health is a \" + str(self.health)+ \"/\" + str(10+(5*self.stage))+\".\")\n",
        "    print(\"If you had to rate the wetness of the soil, it would be a \" + str(self.water)+ \"/10.\")\n",
        "    print(\"Your light is turned up to \" + str(self.light)+ \".\")\n",
        "    if self.stage == 10:\n",
        "      print(\"Your plant is full grown.\")\n",
        "  def wait(self,num_days):\n",
        "    for i in range(num_days):\n",
        "      self.day += 1\n",
        "      print('Day ' + str(self.day))\n",
        "      if self.perfect_light > self.light:\n",
        "        print(\"Your plant needs more light\")\n",
        "        self.health += -1*abs(self.perfect_light- self.light)/10\n",
        "      elif self.perfect_light < self.light:\n",
        "        print(\"Your plant needs less light\")\n",
        "        self.health += -1*abs(self.perfect_light- self.light)/10\n",
        "      else:\n",
        "        print(\"Your plant looks happy with the light it has.\")\n",
        "      if self.perfect_water > self.water:\n",
        "        print(\"Your plant needs more water\")\n",
        "        self.health += -1*abs(self.perfect_water- self.water)/10\n",
        "      elif self.perfect_water < self.water:\n",
        "        print(\"Your plant needs less water\")\n",
        "        self.health += -1*abs(self.perfect_water- self.water)/10\n",
        "      else:\n",
        "        print(\"Your plant looks happy with the water it had.\")\n",
        "      if self.perfect_light == self.light and self.perfect_water == self.water:\n",
        "        self.health = (self.health + 10+(5*self.stage))/2\n",
        "        if self.day- self.day_of_last_growth >= 5 and self.stage < 10:\n",
        "          print(\"Your plant grew a bit! Its preferances may have changed.\")\n",
        "          self.stage += 1\n",
        "          self.health += 5\n",
        "          self.day_of_last_growth = self.day\n",
        "          self.perfect_light = numpy.random.choice([1,2,3,4,5,6,7,8,9,10])\n",
        "          self.perfect_water = numpy.random.choice([1,2,3,4,5,6,7,8,9,10])\n",
        "          if self.stage == 10:\n",
        "            print(\"Congrats! Your plant is full grown.\")\n",
        "      self.water += -1*self.light\n",
        "      if self.water < 0:\n",
        "        self.water = 0\n",
        "      if self.health <= 0:\n",
        "        print(\"Your plant died! You decide to plant a new seed. Treat this one better!\")\n",
        "        self.planted = 0\n",
        "        self.day_of_last_growth = 0\n",
        "        self.day = 0\n",
        "        self.water = 0\n",
        "        self.light = 0\n",
        "        self.health = 10\n",
        "        self.stage = 0\n",
        "        self.perfect_light = numpy.random.choice([1,2,3,4,5,6,7,8,9,10])\n",
        "        self.perfect_water = numpy.random.choice([1,2,3,4,5,6,7,8,9,10])\n",
        "\n",
        "def dynamic_find_roots(a,b,c):\n",
        "  if b**2-4*a*c == 0:\n",
        "    return -b/(2*a)\n",
        "  elif b**2 - 4*a*c <0:\n",
        "    return (-b+1j*(4*a*c-b**2)**0.5)/(2*a),(-b-1j*(4*a*c-b**2)**0.5)/(2*a)\n",
        "  elif b**2 - 4*a*c >0:\n",
        "    return (-b+(b**2-4*a*c)**0.5)/(2*a),(-b-(b**2-4*a*c)**0.5)/(2*a)\n",
        "print(\"Libraries imported successfully!\")"
      ],
      "metadata": {
        "id": "YAvvLhRIoqYp",
        "colab": {
          "base_uri": "https://localhost:8080/"
        },
        "outputId": "12f910e9-2eb4-43cb-c607-0181118e48ff"
      },
      "execution_count": null,
      "outputs": [
        {
          "output_type": "stream",
          "name": "stdout",
          "text": [
            "Libraries imported successfully!\n"
          ]
        }
      ]
    },
    {
      "cell_type": "markdown",
      "source": [
        "<a name=\"p1\"></a>\n",
        "\n",
        "---\n",
        "## **Part 1: Objects, Methods, and Attributes**\n",
        "---\n",
        "Python and any libraries we install give us tons of objects to work with. In this part, we will practice interacting with objects using methods and attributes."
      ],
      "metadata": {
        "id": "jhvwNalR6bYe"
      }
    },
    {
      "cell_type": "markdown",
      "source": [
        "#### **Problem #1.1**\n",
        "\n",
        "Create a `baby` object and set its age to 1. Then print out its \"age\" attribute."
      ],
      "metadata": {
        "id": "Fn-MmuBT6dzZ"
      }
    },
    {
      "cell_type": "code",
      "source": [
        "mybaby = baby()\n",
        "mybaby.age = 1\n",
        "mybaby.age"
      ],
      "metadata": {
        "id": "iszC3Nln2wkT",
        "colab": {
          "base_uri": "https://localhost:8080/"
        },
        "outputId": "b915ae7b-dbda-465f-f405-84ebbd1d3f5b"
      },
      "execution_count": null,
      "outputs": [
        {
          "output_type": "execute_result",
          "data": {
            "text/plain": [
              "1"
            ]
          },
          "metadata": {},
          "execution_count": 7
        }
      ]
    },
    {
      "cell_type": "markdown",
      "source": [
        "#### **Problem #1.2**\n",
        "\n",
        "Print out the baby's `hunger` and `mood` attributes."
      ],
      "metadata": {
        "id": "B51rkpDd9KdP"
      }
    },
    {
      "cell_type": "code",
      "source": [
        "mybaby.hunger\n",
        "mybaby.mood"
      ],
      "metadata": {
        "id": "ffXS2vaE7b7S",
        "colab": {
          "base_uri": "https://localhost:8080/",
          "height": 35
        },
        "outputId": "314ddb58-f5dd-4d45-d6df-06b017d02907"
      },
      "execution_count": null,
      "outputs": [
        {
          "output_type": "execute_result",
          "data": {
            "text/plain": [
              "'crying'"
            ],
            "application/vnd.google.colaboratory.intrinsic+json": {
              "type": "string"
            }
          },
          "metadata": {},
          "execution_count": 11
        }
      ]
    },
    {
      "cell_type": "markdown",
      "source": [
        "#### **Problem #1.3**\n",
        "\n",
        "Now, use the baby's `feed` and `play` methods. Then print out its `hunger` and `mood` attributes once again."
      ],
      "metadata": {
        "id": "nCy0pue79_rA"
      }
    },
    {
      "cell_type": "code",
      "source": [
        "mybaby.feed()\n",
        "mybaby.play()\n",
        "mybaby.hunger\n",
        "mybaby.mood"
      ],
      "metadata": {
        "id": "ewY0mWW391qb",
        "colab": {
          "base_uri": "https://localhost:8080/",
          "height": 35
        },
        "outputId": "ffbe1faa-6a04-4c53-b2d3-9fc86351e6a2"
      },
      "execution_count": null,
      "outputs": [
        {
          "output_type": "execute_result",
          "data": {
            "text/plain": [
              "'happy'"
            ],
            "application/vnd.google.colaboratory.intrinsic+json": {
              "type": "string"
            }
          },
          "metadata": {},
          "execution_count": 15
        }
      ]
    },
    {
      "cell_type": "markdown",
      "source": [
        "#### **Problem #1.4**\n",
        "\n",
        "Create a `plant` object using its corresponding function, and use the `check_health` method to measure the plant's health."
      ],
      "metadata": {
        "id": "9YYUG7us_YLw"
      }
    },
    {
      "cell_type": "code",
      "source": [
        "myplant = plant()\n",
        "myplant.check_health()"
      ],
      "metadata": {
        "id": "R52FGssZAAEA",
        "colab": {
          "base_uri": "https://localhost:8080/"
        },
        "outputId": "d1eebcb5-a605-45bd-fd85-4bf3b271b640"
      },
      "execution_count": null,
      "outputs": [
        {
          "output_type": "stream",
          "name": "stdout",
          "text": [
            "Your plant's health is a 10/10.\n",
            "If you had to rate the wetness of the soil, it would be a 0/10.\n",
            "Your light is turned up to 0.\n"
          ]
        }
      ]
    },
    {
      "cell_type": "markdown",
      "source": [
        "#### **Problem #1.5**\n",
        "\n",
        "Using the necessary methods and attributes, get your plant to grow a bit.\n",
        "\n",
        "**Hint:** Read through the `plant` class to see if there is a way to give it the perfect amount of water and light without guessing and checking."
      ],
      "metadata": {
        "id": "yuW5cDWgAj03"
      }
    },
    {
      "cell_type": "code",
      "source": [
        "# Create a plant instance\n",
        "my_plant = plant()\n",
        "\n",
        "# Set the light level and water it\n",
        "my_plant.set_light(5)\n",
        "my_plant.water_plant(5)\n",
        "\n",
        "# Check the initial health\n",
        "my_plant.check_health()\n",
        "\n",
        "# Wait for some days\n",
        "my_plant.wait(10)\n",
        "\n",
        "# Check the health again\n",
        "my_plant.check_health()"
      ],
      "metadata": {
        "id": "Hm_lqzKjAPt-",
        "colab": {
          "base_uri": "https://localhost:8080/"
        },
        "outputId": "1b48def3-0cf2-44b3-9050-96d90d935892"
      },
      "execution_count": null,
      "outputs": [
        {
          "output_type": "stream",
          "name": "stdout",
          "text": [
            "You set the light to level 5\n",
            "You watered your plant.\n",
            "Your plant's health is a 10/10.\n",
            "If you had to rate the wetness of the soil, it would be a 5/10.\n",
            "Your light is turned up to 5.\n",
            "Day 1\n",
            "Your plant needs more light\n",
            "Your plant needs more water\n",
            "Day 2\n",
            "Your plant needs more light\n",
            "Your plant needs more water\n",
            "Day 3\n",
            "Your plant needs more light\n",
            "Your plant needs more water\n",
            "Day 4\n",
            "Your plant needs more light\n",
            "Your plant needs more water\n",
            "Day 5\n",
            "Your plant needs more light\n",
            "Your plant needs more water\n",
            "Day 6\n",
            "Your plant needs more light\n",
            "Your plant needs more water\n",
            "Day 7\n",
            "Your plant needs more light\n",
            "Your plant needs more water\n",
            "Day 8\n",
            "Your plant needs more light\n",
            "Your plant needs more water\n",
            "Your plant died! You decide to plant a new seed. Treat this one better!\n",
            "Day 1\n",
            "Your plant needs more light\n",
            "Your plant needs more water\n",
            "Day 2\n",
            "Your plant needs more light\n",
            "Your plant needs more water\n",
            "Your plant's health is a 7.399999999999999/10.\n",
            "If you had to rate the wetness of the soil, it would be a 0/10.\n",
            "Your light is turned up to 0.\n"
          ]
        }
      ]
    },
    {
      "cell_type": "markdown",
      "source": [
        "<a name=\"p2\"></a>\n",
        "\n",
        "---\n",
        "## **Part 2: Debugging**\n",
        "---\n",
        "\n",
        "In this part, we will explore how to identify and correct errors in Python."
      ],
      "metadata": {
        "id": "uAEv8DupGKp7"
      }
    },
    {
      "cell_type": "markdown",
      "source": [
        "#### **Problem #2.1**\n",
        "\n",
        "Debug the code shown below."
      ],
      "metadata": {
        "id": "DJYgxQ2hGN9U"
      }
    },
    {
      "cell_type": "code",
      "source": [
        "x = 17\n",
        "y = 3\n",
        "print(x*y)"
      ],
      "metadata": {
        "colab": {
          "base_uri": "https://localhost:8080/"
        },
        "id": "RA-PHpSHGMOR",
        "outputId": "c89371c6-5908-4a25-9ad1-2c3d5cd854d4"
      },
      "execution_count": null,
      "outputs": [
        {
          "output_type": "stream",
          "name": "stdout",
          "text": [
            "51\n"
          ]
        }
      ]
    },
    {
      "cell_type": "markdown",
      "source": [
        "#### **Problem #2.2**\n",
        "\n",
        "Debug the code shown below."
      ],
      "metadata": {
        "id": "qBRQlNdAIoMM"
      }
    },
    {
      "cell_type": "code",
      "source": [
        "my_list = [3, 1, 4, 1]\n",
        "print(my_list[3])"
      ],
      "metadata": {
        "colab": {
          "base_uri": "https://localhost:8080/"
        },
        "id": "Zw0EixWuIhyv",
        "outputId": "72bae0c9-d313-4844-ce63-30c505fd8059"
      },
      "execution_count": null,
      "outputs": [
        {
          "output_type": "stream",
          "name": "stdout",
          "text": [
            "1\n"
          ]
        }
      ]
    },
    {
      "cell_type": "markdown",
      "source": [
        "#### **Problem #2.3**\n",
        "\n",
        "Debug the code shown below."
      ],
      "metadata": {
        "id": "LnemW_PyJSHN"
      }
    },
    {
      "cell_type": "code",
      "source": [
        "oak = plant()\n",
        "oak.check_health()\n",
        "oak.set_light(6)\n",
        "oak.water_plant(8)\n",
        "oak.wait(2)\n",
        "oak.check_health()"
      ],
      "metadata": {
        "colab": {
          "base_uri": "https://localhost:8080/"
        },
        "id": "f7o4YPXsKMmj",
        "outputId": "02b4d284-7b60-4fc7-d2a9-c3e46c111480"
      },
      "execution_count": null,
      "outputs": [
        {
          "output_type": "stream",
          "name": "stdout",
          "text": [
            "Your plant's health is a 10/10.\n",
            "If you had to rate the wetness of the soil, it would be a 0/10.\n",
            "Your light is turned up to 0.\n",
            "You set the light to level 6\n",
            "You watered your plant.\n",
            "Day 1\n",
            "Your plant needs less light\n",
            "Your plant needs less water\n",
            "Day 2\n",
            "Your plant needs less light\n",
            "Your plant looks happy with the water it had.\n",
            "Your plant's health is a 8.4/10.\n",
            "If you had to rate the wetness of the soil, it would be a 0/10.\n",
            "Your light is turned up to 6.\n"
          ]
        }
      ]
    },
    {
      "cell_type": "markdown",
      "source": [
        "#### **Problem #2.4**\n",
        "\n",
        "Debug the code shown below."
      ],
      "metadata": {
        "id": "pLqchySgLB5E"
      }
    },
    {
      "cell_type": "code",
      "source": [
        "#f(x) = ax^2 + bx + c\n",
        "a = 1\n",
        "b = 8\n",
        "c = 15\n",
        "x1 = (-b + (b**2 - 4*a*c)**0.5)/(2*a)\n",
        "x2 = (-b - (b**2 - 4*a*c)**0.5)/(2*a)\n",
        "print(x1)\n",
        "print(x2)"
      ],
      "metadata": {
        "colab": {
          "base_uri": "https://localhost:8080/"
        },
        "id": "gafSvfZTJ8qO",
        "outputId": "7cde532a-85ac-4848-9402-f8a937dca107"
      },
      "execution_count": null,
      "outputs": [
        {
          "output_type": "stream",
          "name": "stdout",
          "text": [
            "-3.0\n",
            "-5.0\n"
          ]
        }
      ]
    },
    {
      "cell_type": "markdown",
      "source": [
        "#### **Problem #2.5**\n",
        "\n",
        "Debug the code shown below."
      ],
      "metadata": {
        "id": "uesbpA-INjWh"
      }
    },
    {
      "cell_type": "code",
      "source": [
        "alisha = baby()\n",
        "alisha.age = 1\n",
        "print(alisha.age)"
      ],
      "metadata": {
        "colab": {
          "base_uri": "https://localhost:8080/"
        },
        "id": "J3OW1W6aMQu0",
        "outputId": "0500c806-b283-4dee-f8a6-b53e7e7f2eee"
      },
      "execution_count": null,
      "outputs": [
        {
          "output_type": "stream",
          "name": "stdout",
          "text": [
            "1\n"
          ]
        }
      ]
    },
    {
      "cell_type": "markdown",
      "source": [
        "<a name=\"p3\"></a>\n",
        "\n",
        "---\n",
        "## **Part 3: Coding Challenges [OPTIONAL]**\n",
        "---\n",
        "\n",
        "This part contains mini-projects that you can use to practice your Python skills! Remember, you can search for documentation that may help you."
      ],
      "metadata": {
        "id": "hJugshHqalUm"
      }
    },
    {
      "cell_type": "markdown",
      "source": [
        "#### **Problem #3.1**\n",
        "\n",
        "Research the `numpy` module to find a function that allows you simulate rolling a weighted die that is twice as likely to land on 6 than a typical die. Then, simulate this die being rolled six times."
      ],
      "metadata": {
        "id": "7MCBBIuFaqG0"
      }
    },
    {
      "cell_type": "code",
      "source": [
        "import numpy as np\n",
        "\n",
        "# Define the outcomes and their corresponding probabilities\n",
        "outcomes = [1, 2, 3, 4, 5, 6]\n",
        "probabilities = [1/7, 1/7, 1/7, 1/7, 1/7, 2/7]\n",
        "\n",
        "# Simulate rolling the weighted die six times\n",
        "results = np.random.choice(outcomes, size=6, p=probabilities)\n",
        "\n",
        "# Print the results\n",
        "print(\"Results of rolling the weighted die six times:\", results)"
      ],
      "metadata": {
        "id": "f6-MmfxWRfhJ",
        "colab": {
          "base_uri": "https://localhost:8080/"
        },
        "outputId": "b7498c40-bc79-48b2-8bab-09cef678c21a"
      },
      "execution_count": null,
      "outputs": [
        {
          "output_type": "stream",
          "name": "stdout",
          "text": [
            "Results of rolling the weighted die six times: [4 3 2 1 1 6]\n"
          ]
        }
      ]
    },
    {
      "cell_type": "markdown",
      "source": [
        "#### **Problem #3.2**\n",
        "\n",
        "Use the `append` method to add \"six\" to the list below. Then, write code the prints out the reversed list."
      ],
      "metadata": {
        "id": "MAbKoxKzey5X"
      }
    },
    {
      "cell_type": "code",
      "source": [
        "my_list = [\"one\",\"two\",\"three\", \"four\",\"five\"]\n",
        "my_list.append(\"six\")\n",
        "print(my_list[::-1])"
      ],
      "metadata": {
        "id": "492gscAegBnq",
        "colab": {
          "base_uri": "https://localhost:8080/"
        },
        "outputId": "16b0acda-8b5f-428d-b2df-6b8860ec07e0"
      },
      "execution_count": null,
      "outputs": [
        {
          "output_type": "stream",
          "name": "stdout",
          "text": [
            "['six', 'five', 'four', 'three', 'two', 'one']\n"
          ]
        }
      ]
    },
    {
      "cell_type": "markdown",
      "source": [
        "#### **Problem #3.3**\n",
        "\n",
        "Research the `matplotlib` module to find a function that creates a line graph of the data provided below. For an extra challenge, label the x-axis \"Year\" and the y-axis \"Number of Transistors per Microprocessor in Millions\". This is a visual representation of Moore's Law!"
      ],
      "metadata": {
        "id": "dbLvQlEJgno8"
      }
    },
    {
      "cell_type": "code",
      "source": [
        "import matplotlib.pyplot as plt\n",
        "years = [1972, 1982, 1992, 2002, 2012]\n",
        "num_transistors = [.004, .14, 3.11, 220.67, 2600]\n",
        "\n",
        "# Create the line graph\n",
        "plt.plot(years, num_transistors, marker='o', linestyle='-')\n",
        "\n",
        "# Label the axes\n",
        "plt.xlabel('Year')\n",
        "plt.ylabel('Number of Transistors per Microprocessor in Millions')\n",
        "\n",
        "# Add a title\n",
        "plt.title(\"Moore's Law: Number of Transistors per Microprocessor Over Time\")\n",
        "\n",
        "# Show the plot\n",
        "plt.show()"
      ],
      "metadata": {
        "id": "UuekpDjKlkpU",
        "colab": {
          "base_uri": "https://localhost:8080/",
          "height": 472
        },
        "outputId": "64ee476e-1dd3-4f30-a056-0cfbc2046cd2"
      },
      "execution_count": null,
      "outputs": [
        {
          "output_type": "display_data",
          "data": {
            "text/plain": [
              "<Figure size 640x480 with 1 Axes>"
            ],
            "image/png": "[encoded data removed]"
          },
          "metadata": {}
        }
      ]
    },
    {
      "cell_type": "markdown",
      "source": [
        "# End of notebook\n",
        "---\n",
        "© 2023 The Coding School, All rights reserved"
      ],
      "metadata": {
        "id": "88JBud6KoMjn"
      }
    }
  ]
}
